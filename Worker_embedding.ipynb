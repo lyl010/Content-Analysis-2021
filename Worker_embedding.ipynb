{
 "cells": [
  {
   "cell_type": "code",
   "execution_count": 1,
   "metadata": {
    "ExecuteTime": {
     "end_time": "2020-06-11T05:03:56.055701Z",
     "start_time": "2020-06-11T05:03:53.755292Z"
    }
   },
   "outputs": [],
   "source": [
    "import pandas as pd\n",
    "import numpy as np\n",
    "import matplotlib.pyplot as plt\n",
    "from collections import defaultdict\n",
    "import jieba\n",
    "import gensim as gensim\n",
    "import re\n",
    "import sys\n",
    "def flushPrint(d):\n",
    "    sys.stdout.write('\\r')\n",
    "    sys.stdout.write(str(d))\n",
    "    sys.stdout.flush()\n",
    "import gensim as gensim\n",
    "from gensim.models import Word2Vec\n",
    "from gensim.models.keyedvectors import KeyedVectors\n",
    "from gensim.models.word2vec import LineSentence\n",
    "import itertools"
   ]
  },
  {
   "cell_type": "code",
   "execution_count": 2,
   "metadata": {
    "ExecuteTime": {
     "end_time": "2020-06-11T05:03:56.065404Z",
     "start_time": "2020-06-11T05:03:56.058044Z"
    }
   },
   "outputs": [],
   "source": [
    "def load_stopword(filename):\n",
    "    '''\n",
    "    加载停止词\n",
    "    :return:\n",
    "    '''\n",
    "    with open(filename,'r',encoding='utf-8') as f:\n",
    "        stopword = [line.strip() for line in f]\n",
    "    return stopword\n",
    "\n",
    "def extract(contents, stopword):\n",
    "    '''\n",
    "    用正则表达式去除无用内容以及停止词，保留有用的内容\n",
    "    :param contents: list\n",
    "    :param stopword: list\n",
    "    :return:\n",
    "    '''\n",
    "    extracted_contents = []\n",
    "    for content in contents:\n",
    "        extracted_words = []\n",
    "        content = str(content).strip()\n",
    "        re_h = re.compile('</?\\w+[^>]*>')\n",
    "        re_nbsp = re.compile('&nbsp;')\n",
    "        content = re_h.sub('', content)\n",
    "        content = re_nbsp.sub('', content)\n",
    "        words = jieba.lcut(content)\n",
    "        for w in words:\n",
    "            w = re.sub(\"[\\s+\\.\\!\\/_,$%^*(+\\\"\\'“”《》?“]+|[+——！，。？、~@#￥%……&*（）：]+\", \"\", w)\n",
    "            if len(w)>0 and w not in stopword:\n",
    "                extracted_words.append(w)\n",
    "        #if len(extracted_words) > 0:\n",
    "        extracted_contents.append(extracted_words)\n",
    "    return extracted_contents"
   ]
  },
  {
   "cell_type": "code",
   "execution_count": 3,
   "metadata": {
    "ExecuteTime": {
     "end_time": "2020-06-11T05:03:56.215956Z",
     "start_time": "2020-06-11T05:03:56.069837Z"
    }
   },
   "outputs": [],
   "source": [
    "df = pd.read_csv('content_only.csv',header=None)"
   ]
  },
  {
   "cell_type": "code",
   "execution_count": 7,
   "metadata": {
    "ExecuteTime": {
     "end_time": "2020-06-10T16:11:17.999450Z",
     "start_time": "2020-06-10T16:11:17.995822Z"
    }
   },
   "outputs": [
    {
     "data": {
      "text/plain": [
       "2321"
      ]
     },
     "execution_count": 7,
     "metadata": {},
     "output_type": "execute_result"
    }
   ],
   "source": [
    "len(df)"
   ]
  },
  {
   "cell_type": "code",
   "execution_count": 8,
   "metadata": {
    "ExecuteTime": {
     "end_time": "2020-06-10T16:11:18.966138Z",
     "start_time": "2020-06-10T16:11:18.959390Z"
    }
   },
   "outputs": [
    {
     "data": {
      "text/html": [
       "<div>\n",
       "<style scoped>\n",
       "    .dataframe tbody tr th:only-of-type {\n",
       "        vertical-align: middle;\n",
       "    }\n",
       "\n",
       "    .dataframe tbody tr th {\n",
       "        vertical-align: top;\n",
       "    }\n",
       "\n",
       "    .dataframe thead th {\n",
       "        text-align: right;\n",
       "    }\n",
       "</style>\n",
       "<table border=\"1\" class=\"dataframe\">\n",
       "  <thead>\n",
       "    <tr style=\"text-align: right;\">\n",
       "      <th></th>\n",
       "      <th>0</th>\n",
       "      <th>1</th>\n",
       "    </tr>\n",
       "  </thead>\n",
       "  <tbody>\n",
       "    <tr>\n",
       "      <th>0</th>\n",
       "      <td>0</td>\n",
       "      <td>不管你是否做好准备，2020年已经真切地走到了你我面前......\\n过去半年，每个人都有着...</td>\n",
       "    </tr>\n",
       "    <tr>\n",
       "      <th>1</th>\n",
       "      <td>1</td>\n",
       "      <td>用相机记录生活，用故事温暖人生。为此，我们开办了“疫情之下——流动女工摄影”系列课程。第一次...</td>\n",
       "    </tr>\n",
       "    <tr>\n",
       "      <th>2</th>\n",
       "      <td>2</td>\n",
       "      <td>姐妹，你复工了吗？孩子复课了吗？你的生活复苏了吗？刚刚过去的这个春天，你过得辛苦吗？\\n广东...</td>\n",
       "    </tr>\n",
       "    <tr>\n",
       "      <th>3</th>\n",
       "      <td>3</td>\n",
       "      <td>插画师：楠神大人\\n这次疫情让我想起了20年前的下岗。\\n 一\\n1999年，一个好好的家在...</td>\n",
       "    </tr>\n",
       "    <tr>\n",
       "      <th>4</th>\n",
       "      <td>4</td>\n",
       "      <td>我是一名来自粤西小县城的青年工作者。由于我家地处偏僻，相关的领导防控得好，没有成为疫情的“高...</td>\n",
       "    </tr>\n",
       "  </tbody>\n",
       "</table>\n",
       "</div>"
      ],
      "text/plain": [
       "   0                                                  1\n",
       "0  0  不管你是否做好准备，2020年已经真切地走到了你我面前......\\n过去半年，每个人都有着...\n",
       "1  1  用相机记录生活，用故事温暖人生。为此，我们开办了“疫情之下——流动女工摄影”系列课程。第一次...\n",
       "2  2  姐妹，你复工了吗？孩子复课了吗？你的生活复苏了吗？刚刚过去的这个春天，你过得辛苦吗？\\n广东...\n",
       "3  3  插画师：楠神大人\\n这次疫情让我想起了20年前的下岗。\\n 一\\n1999年，一个好好的家在...\n",
       "4  4  我是一名来自粤西小县城的青年工作者。由于我家地处偏僻，相关的领导防控得好，没有成为疫情的“高..."
      ]
     },
     "execution_count": 8,
     "metadata": {},
     "output_type": "execute_result"
    }
   ],
   "source": [
    "df.head()"
   ]
  },
  {
   "cell_type": "code",
   "execution_count": 4,
   "metadata": {
    "ExecuteTime": {
     "end_time": "2020-06-11T05:04:00.961654Z",
     "start_time": "2020-06-11T05:04:00.957631Z"
    }
   },
   "outputs": [],
   "source": [
    "stopword = load_stopword('stopword.txt')"
   ]
  },
  {
   "cell_type": "code",
   "execution_count": 65,
   "metadata": {
    "ExecuteTime": {
     "end_time": "2020-06-11T05:46:12.251375Z",
     "start_time": "2020-06-11T05:44:52.860324Z"
    }
   },
   "outputs": [
    {
     "name": "stdout",
     "output_type": "stream",
     "text": [
      "23.0"
     ]
    }
   ],
   "source": [
    "sentence_all = []\n",
    "n = 0\n",
    "for a in list(df[1]):\n",
    "    n+=1\n",
    "    if n%100==0:\n",
    "        flushPrint(n/100)\n",
    "    try:\n",
    "        a = a.split('\\n')\n",
    "        s = []\n",
    "        for a_ in a:\n",
    "            a_ = a_.split('。')\n",
    "            extract_content = extract(a_,stopword)\n",
    "    #     sentence = []\n",
    "    #     for each in extract_content:\n",
    "    #         sentence.extend(each)\n",
    "            if extract_content:\n",
    "                s.extend(extract_content)\n",
    "        sentence_all.append(s)\n",
    "    \n",
    "    except:\n",
    "        pass\n",
    "    \n",
    "#23"
   ]
  },
  {
   "cell_type": "markdown",
   "metadata": {},
   "source": [
    "## EDA_import the trained word vectors_vectors.bin"
   ]
  },
  {
   "cell_type": "code",
   "execution_count": 7,
   "metadata": {
    "ExecuteTime": {
     "end_time": "2020-06-11T05:08:49.321643Z",
     "start_time": "2020-06-11T05:08:40.729666Z"
    }
   },
   "outputs": [
    {
     "data": {
      "text/plain": [
       "1366130"
      ]
     },
     "execution_count": 7,
     "metadata": {},
     "output_type": "execute_result"
    }
   ],
   "source": [
    "word_vectors = KeyedVectors.load_word2vec_format('vectors.bin', binary=True, unicode_errors='ignore')\n",
    "len(word_vectors.vocab)"
   ]
  },
  {
   "cell_type": "code",
   "execution_count": 39,
   "metadata": {
    "ExecuteTime": {
     "end_time": "2020-06-10T16:34:05.646681Z",
     "start_time": "2020-06-10T16:34:05.212719Z"
    }
   },
   "outputs": [
    {
     "data": {
      "text/plain": [
       "2318"
      ]
     },
     "execution_count": 39,
     "metadata": {},
     "output_type": "execute_result"
    }
   ],
   "source": [
    "s_p = []\n",
    "n=0\n",
    "for s in sentence_all:\n",
    "    s_ = []\n",
    "    for i in s:\n",
    "        s_.append([j for j in i if j in word_vectors.vocab])\n",
    "    if s_:\n",
    "        s_p.append(s_)\n",
    "len(s_p)"
   ]
  },
  {
   "cell_type": "code",
   "execution_count": 128,
   "metadata": {
    "ExecuteTime": {
     "end_time": "2020-06-10T18:47:11.862530Z",
     "start_time": "2020-06-10T18:47:11.857649Z"
    }
   },
   "outputs": [],
   "source": [
    "data = []\n",
    "for s in s_p:\n",
    "    data+=s"
   ]
  },
  {
   "cell_type": "markdown",
   "metadata": {},
   "source": [
    "## EDA_build word embeddings"
   ]
  },
  {
   "cell_type": "code",
   "execution_count": 129,
   "metadata": {
    "ExecuteTime": {
     "end_time": "2020-06-10T18:47:26.324012Z",
     "start_time": "2020-06-10T18:47:13.838180Z"
    }
   },
   "outputs": [],
   "source": [
    "w_model = gensim.models.word2vec.Word2Vec(size = 300, alpha=0.2,\n",
    "                                    window= 5,min_count=1,sg=1,\n",
    "                                    negative=2,hs=0,compute_loss = True)\n",
    "w_model.build_vocab(data)"
   ]
  },
  {
   "cell_type": "code",
   "execution_count": 130,
   "metadata": {
    "ExecuteTime": {
     "end_time": "2020-06-10T18:47:26.330329Z",
     "start_time": "2020-06-10T18:47:26.325775Z"
    }
   },
   "outputs": [
    {
     "data": {
      "text/plain": [
       "72338"
      ]
     },
     "execution_count": 130,
     "metadata": {},
     "output_type": "execute_result"
    }
   ],
   "source": [
    "len(w_model.wv.vocab)"
   ]
  },
  {
   "cell_type": "code",
   "execution_count": 131,
   "metadata": {
    "ExecuteTime": {
     "end_time": "2020-06-10T18:51:01.393755Z",
     "start_time": "2020-06-10T18:47:29.092819Z"
    }
   },
   "outputs": [
    {
     "data": {
      "text/plain": [
       "(140474957, 144459000)"
      ]
     },
     "execution_count": 131,
     "metadata": {},
     "output_type": "execute_result"
    }
   ],
   "source": [
    "w_model.train(data,total_examples=len(data),epochs = 100)"
   ]
  },
  {
   "cell_type": "code",
   "execution_count": 149,
   "metadata": {
    "ExecuteTime": {
     "end_time": "2020-06-11T00:47:26.099768Z",
     "start_time": "2020-06-11T00:47:26.089036Z"
    }
   },
   "outputs": [
    {
     "data": {
      "text/plain": [
       "[('里程碑式', 0.640484094619751),\n",
       " ('紧张', 0.6158260703086853),\n",
       " ('模具厂', 0.6057263016700745),\n",
       " ('解释', 0.5944020748138428),\n",
       " ('商', 0.5940396785736084),\n",
       " ('符合国际', 0.5920782089233398),\n",
       " ('几倍', 0.5840386748313904),\n",
       " ('建筑工人', 0.581944465637207),\n",
       " ('土墙', 0.5810579061508179),\n",
       " ('想法', 0.5806190967559814),\n",
       " ('用工', 0.5758109092712402),\n",
       " ('管理工作', 0.5717940330505371),\n",
       " ('出发', 0.5648529529571533),\n",
       " ('防保', 0.5618619918823242),\n",
       " ('酷爱', 0.5616776943206787),\n",
       " ('清官难断', 0.5616335868835449),\n",
       " ('言情', 0.5596395134925842),\n",
       " ('强迫', 0.5592923164367676),\n",
       " ('自嘲', 0.5590623021125793),\n",
       " ('放不开', 0.5587374567985535),\n",
       " ('具体操作', 0.558506429195404),\n",
       " ('愁眉苦脸', 0.5578869581222534),\n",
       " ('没当回事', 0.5572688579559326),\n",
       " ('业余', 0.5562700033187866),\n",
       " ('小册子', 0.5552656054496765),\n",
       " ('重责', 0.5550473928451538),\n",
       " ('热爱生活', 0.5542282462120056),\n",
       " ('深思熟虑', 0.5539880394935608),\n",
       " ('凶手', 0.5535111427307129),\n",
       " ('张师傅', 0.552937388420105)]"
      ]
     },
     "execution_count": 149,
     "metadata": {},
     "output_type": "execute_result"
    }
   ],
   "source": [
    "w_model.wv.most_similar('工作',topn=30)"
   ]
  },
  {
   "cell_type": "code",
   "execution_count": 150,
   "metadata": {
    "ExecuteTime": {
     "end_time": "2020-06-11T00:47:49.629994Z",
     "start_time": "2020-06-11T00:47:49.539094Z"
    }
   },
   "outputs": [
    {
     "data": {
      "text/plain": [
       "[('管理工作', 0.6792691946029663),\n",
       " ('此项工作', 0.636246919631958),\n",
       " ('工作会', 0.6361050009727478),\n",
       " ('本职工作', 0.6015425324440002),\n",
       " ('在工作中', 0.5778697729110718),\n",
       " ('基层', 0.5599676966667175),\n",
       " ('基层工作', 0.5577903389930725),\n",
       " ('任务', 0.556326150894165),\n",
       " ('后勤工作', 0.5507190227508545),\n",
       " ('学习', 0.5445246696472168),\n",
       " ('干部', 0.5425925254821777),\n",
       " ('当前工作', 0.5315080285072327),\n",
       " ('职责', 0.530610203742981),\n",
       " ('工会工作', 0.5230269432067871),\n",
       " ('审计工作', 0.5200249552726746),\n",
       " ('业务培训', 0.5125687122344971),\n",
       " ('科研工作', 0.512539267539978),\n",
       " ('履职', 0.510418176651001),\n",
       " ('人事工作', 0.5084715485572815),\n",
       " ('上级', 0.5068793892860413),\n",
       " ('部门', 0.5059319138526917),\n",
       " ('岗位', 0.5040717124938965),\n",
       " ('组织协调', 0.5027644634246826),\n",
       " ('研究工作', 0.5023723840713501),\n",
       " ('搞好', 0.502034068107605),\n",
       " ('事务性', 0.5016651749610901),\n",
       " ('基层单位', 0.5013948678970337),\n",
       " ('加班加点', 0.5008909106254578),\n",
       " ('认真', 0.4996178150177002),\n",
       " ('信访工作', 0.4994402527809143)]"
      ]
     },
     "execution_count": 150,
     "metadata": {},
     "output_type": "execute_result"
    }
   ],
   "source": [
    "word_vectors.most_similar('工作',topn=30)"
   ]
  },
  {
   "cell_type": "code",
   "execution_count": 142,
   "metadata": {
    "ExecuteTime": {
     "end_time": "2020-06-10T18:57:45.009056Z",
     "start_time": "2020-06-10T18:57:44.410215Z"
    }
   },
   "outputs": [
    {
     "name": "stderr",
     "output_type": "stream",
     "text": [
      "/Users/linyiling/opt/anaconda3/lib/python3.7/site-packages/ipykernel_launcher.py:1: DeprecationWarning: Call to deprecated `__getitem__` (Method will be removed in 4.0.0, use self.wv.__getitem__() instead).\n",
      "  \"\"\"Entry point for launching an IPython kernel.\n"
     ]
    }
   ],
   "source": [
    "w2v_w = {w:w_model[w] for w in w_model.wv.vocab}\n",
    "w2v_m = {w:word_vectors[w] for w in w_model.wv.vocab}"
   ]
  },
  {
   "cell_type": "code",
   "execution_count": 143,
   "metadata": {
    "ExecuteTime": {
     "end_time": "2020-06-11T00:10:19.280011Z",
     "start_time": "2020-06-11T00:10:19.274957Z"
    }
   },
   "outputs": [],
   "source": [
    "def cosine_s(v1,v2):\n",
    "    return np.sum(v1*v2)/np.sqrt(np.sum(v1*v1)+np.sum(v2*v2))"
   ]
  },
  {
   "cell_type": "code",
   "execution_count": 151,
   "metadata": {
    "ExecuteTime": {
     "end_time": "2020-06-11T00:48:28.566248Z",
     "start_time": "2020-06-11T00:48:28.561774Z"
    }
   },
   "outputs": [],
   "source": [
    "def most_similar(w,topn):\n",
    "    s = {w:cosine_s(w2v_m[w],w2v_m[v]) for v in w2v_m if v != w}\n",
    "    return sorted(s.items(), key = lambda x:x[1])[::-1][:topn]"
   ]
  },
  {
   "cell_type": "code",
   "execution_count": 153,
   "metadata": {
    "ExecuteTime": {
     "end_time": "2020-06-11T00:49:00.544417Z",
     "start_time": "2020-06-11T00:48:58.820302Z"
    }
   },
   "outputs": [
    {
     "data": {
      "text/plain": [
       "[('工作', 0.055294074)]"
      ]
     },
     "execution_count": 153,
     "metadata": {},
     "output_type": "execute_result"
    }
   ],
   "source": [
    "most_similar('工作',30)"
   ]
  },
  {
   "cell_type": "markdown",
   "metadata": {},
   "source": [
    "# recognize the noun"
   ]
  },
  {
   "cell_type": "code",
   "execution_count": 75,
   "metadata": {
    "ExecuteTime": {
     "end_time": "2020-06-11T05:51:24.009317Z",
     "start_time": "2020-06-11T05:48:28.467842Z"
    }
   },
   "outputs": [
    {
     "name": "stdout",
     "output_type": "stream",
     "text": [
      "23.0"
     ]
    }
   ],
   "source": [
    "import jieba.posseg as pseg\n",
    "N = set()\n",
    "n = 0\n",
    "for a in list(df[1]):\n",
    "    n+=1\n",
    "    if n%100 == 0:\n",
    "        flushPrint(n/100)\n",
    "    try:\n",
    "        a = a.split('\\n')\n",
    "        for s in a:\n",
    "            words = pseg.cut(s)\n",
    "            for w in words:\n",
    "                if 'n' in w.flag:\n",
    "                    N.add(w.word)\n",
    "    except:\n",
    "        pass\n",
    "    \n",
    "# 23  "
   ]
  },
  {
   "cell_type": "code",
   "execution_count": 74,
   "metadata": {
    "ExecuteTime": {
     "end_time": "2020-06-11T05:48:16.847229Z",
     "start_time": "2020-06-11T05:48:16.843830Z"
    }
   },
   "outputs": [
    {
     "data": {
      "text/plain": [
       "['做好', '2020', '年', '真切', '走', '面前']"
      ]
     },
     "execution_count": 74,
     "metadata": {},
     "output_type": "execute_result"
    }
   ],
   "source": [
    "i"
   ]
  },
  {
   "cell_type": "code",
   "execution_count": 76,
   "metadata": {
    "ExecuteTime": {
     "end_time": "2020-06-11T05:51:30.057951Z",
     "start_time": "2020-06-11T05:51:29.419889Z"
    }
   },
   "outputs": [
    {
     "name": "stdout",
     "output_type": "stream",
     "text": [
      "23.0"
     ]
    },
    {
     "data": {
      "text/plain": [
       "2318"
      ]
     },
     "execution_count": 76,
     "metadata": {},
     "output_type": "execute_result"
    }
   ],
   "source": [
    "s_p_n = []\n",
    "n=0\n",
    "for s in sentence_all:\n",
    "    n+=1\n",
    "    if n %100 == 0:\n",
    "        flushPrint(n/100)\n",
    "    s_ = []\n",
    "    for i in s:\n",
    "        s_.append([j for j in i if j in N and j in word_vectors.vocab])\n",
    "    if s_:\n",
    "        s_p_n.append(s_)\n",
    "len(s_p_n)\n",
    "# 23"
   ]
  },
  {
   "cell_type": "code",
   "execution_count": 77,
   "metadata": {
    "ExecuteTime": {
     "end_time": "2020-06-11T05:51:32.072152Z",
     "start_time": "2020-06-11T05:51:32.046586Z"
    }
   },
   "outputs": [],
   "source": [
    "data = []\n",
    "for s in s_p_n:\n",
    "    data+=s"
   ]
  },
  {
   "cell_type": "code",
   "execution_count": 78,
   "metadata": {
    "ExecuteTime": {
     "end_time": "2020-06-11T05:51:39.929195Z",
     "start_time": "2020-06-11T05:51:33.129383Z"
    }
   },
   "outputs": [],
   "source": [
    "w_model = gensim.models.word2vec.Word2Vec(size = 300, alpha=0.2,\n",
    "                                    window= 5,min_count=1,sg=1,\n",
    "                                    negative=2,hs=0,compute_loss = True)\n",
    "w_model.build_vocab(data)"
   ]
  },
  {
   "cell_type": "code",
   "execution_count": 79,
   "metadata": {
    "ExecuteTime": {
     "end_time": "2020-06-11T05:51:39.933776Z",
     "start_time": "2020-06-11T05:51:39.930990Z"
    }
   },
   "outputs": [
    {
     "data": {
      "text/plain": [
       "39270"
      ]
     },
     "execution_count": 79,
     "metadata": {},
     "output_type": "execute_result"
    }
   ],
   "source": [
    "len(w_model.wv.vocab)"
   ]
  },
  {
   "cell_type": "code",
   "execution_count": 174,
   "metadata": {
    "ExecuteTime": {
     "end_time": "2020-06-11T04:31:45.031440Z",
     "start_time": "2020-06-11T04:30:11.166865Z"
    }
   },
   "outputs": [
    {
     "data": {
      "text/plain": [
       "(71537894, 75760500)"
      ]
     },
     "execution_count": 174,
     "metadata": {},
     "output_type": "execute_result"
    }
   ],
   "source": [
    "w_model.train(data,total_examples=len(data),epochs = 100)"
   ]
  },
  {
   "cell_type": "code",
   "execution_count": 179,
   "metadata": {
    "ExecuteTime": {
     "end_time": "2020-06-11T04:37:55.587899Z",
     "start_time": "2020-06-11T04:37:55.579965Z"
    },
    "collapsed": true
   },
   "outputs": [
    {
     "data": {
      "text/plain": [
       "[('性别比', 0.6100752353668213),\n",
       " ('传播速度', 0.5802359580993652),\n",
       " ('中国人民大学', 0.569878339767456),\n",
       " ('节选自', 0.5606749653816223),\n",
       " ('剥壳', 0.5483421087265015),\n",
       " ('工作者', 0.5381620526313782),\n",
       " ('铁建', 0.5301381349563599),\n",
       " ('学报', 0.5295753479003906),\n",
       " ('工农', 0.5250674486160278),\n",
       " ('修正', 0.5247834920883179),\n",
       " ('技术骨干', 0.5247510671615601),\n",
       " ('风向', 0.5245382189750671),\n",
       " ('法学院', 0.5231689810752869),\n",
       " ('建设者', 0.5229877233505249),\n",
       " ('童话', 0.519862174987793),\n",
       " ('人生目标', 0.5194551944732666),\n",
       " ('银行帐户', 0.5148025751113892),\n",
       " ('军国主义', 0.5146995782852173),\n",
       " ('基本国策', 0.5143409967422485),\n",
       " ('关系法', 0.5142404437065125),\n",
       " ('译者', 0.5139439105987549),\n",
       " ('爱岗敬业', 0.5105396509170532),\n",
       " ('重组', 0.5098693370819092),\n",
       " ('利用', 0.5088779926300049),\n",
       " ('修练', 0.5061289072036743),\n",
       " ('基本权利', 0.5055370330810547),\n",
       " ('李国祥', 0.5052677392959595),\n",
       " ('价值体系', 0.5050022602081299),\n",
       " ('高速度', 0.5033698081970215),\n",
       " ('龙应台', 0.5030196905136108)]"
      ]
     },
     "execution_count": 179,
     "metadata": {},
     "output_type": "execute_result"
    }
   ],
   "source": [
    "w_model.wv.most_similar('教授',topn=30)"
   ]
  },
  {
   "cell_type": "markdown",
   "metadata": {},
   "source": [
    "# construct the co-occurrence network"
   ]
  },
  {
   "cell_type": "code",
   "execution_count": 198,
   "metadata": {
    "ExecuteTime": {
     "end_time": "2020-06-11T14:52:40.403050Z",
     "start_time": "2020-06-11T14:52:33.522138Z"
    }
   },
   "outputs": [
    {
     "name": "stdout",
     "output_type": "stream",
     "text": [
      "22.0"
     ]
    }
   ],
   "source": [
    "W = defaultdict(lambda:defaultdict(lambda:0))\n",
    "n = 0\n",
    "for s in data:\n",
    "    n+=1\n",
    "    if n%10000 == 0:\n",
    "        flushPrint(n/10000)\n",
    "    if len(s)>2:\n",
    "        for i,j in itertools.combinations(sorted(s), 2):\n",
    "            W[i][j] +=1\n",
    "            W[j][i] +=1\n",
    "# 11"
   ]
  },
  {
   "cell_type": "code",
   "execution_count": 199,
   "metadata": {
    "ExecuteTime": {
     "end_time": "2020-06-11T14:52:42.575729Z",
     "start_time": "2020-06-11T14:52:42.036475Z"
    }
   },
   "outputs": [],
   "source": [
    "x = {w:len(W[w]) for w in W}# degree\n",
    "y = {w:np.sum(list(W[w].values())) for w in W}# weighted degree"
   ]
  },
  {
   "cell_type": "code",
   "execution_count": 82,
   "metadata": {
    "ExecuteTime": {
     "end_time": "2020-06-11T05:52:15.059540Z",
     "start_time": "2020-06-11T05:52:15.035109Z"
    },
    "collapsed": true
   },
   "outputs": [
    {
     "data": {
      "text/plain": [
       "[('中', 10605),\n",
       " ('月', 8094),\n",
       " ('工作', 8060),\n",
       " ('时', 7634),\n",
       " ('孩子', 6234),\n",
       " ('生活', 6041),\n",
       " ('工人', 5885),\n",
       " ('女性', 5534),\n",
       " ('中国', 5381),\n",
       " ('社会', 5212)]"
      ]
     },
     "execution_count": 82,
     "metadata": {},
     "output_type": "execute_result"
    }
   ],
   "source": [
    "# sort the sentence by the their degree they on the graph; descending order\n",
    "sorted(x.items(),key = lambda x:x[1])[::-1][:10]"
   ]
  },
  {
   "cell_type": "code",
   "execution_count": 83,
   "metadata": {
    "ExecuteTime": {
     "end_time": "2020-06-11T05:52:19.208145Z",
     "start_time": "2020-06-11T05:52:19.183744Z"
    },
    "collapsed": true
   },
   "outputs": [
    {
     "data": {
      "text/plain": [
       "[('很精采', 1),\n",
       " ('色氨酸', 1),\n",
       " ('人居', 1),\n",
       " ('蜂蜜水', 1),\n",
       " ('技工学校', 1),\n",
       " ('中头', 1),\n",
       " ('反华', 1),\n",
       " ('双引号', 1),\n",
       " ('玫瑰色', 1),\n",
       " ('声音洪亮', 1)]"
      ]
     },
     "execution_count": 83,
     "metadata": {},
     "output_type": "execute_result"
    }
   ],
   "source": [
    "# sort the sentence by the their degree they on the graph; ascending order\n",
    "sorted(x.items(),key = lambda x:x[1])[:10]"
   ]
  },
  {
   "cell_type": "code",
   "execution_count": 614,
   "metadata": {
    "ExecuteTime": {
     "end_time": "2020-06-14T03:01:32.370383Z",
     "start_time": "2020-06-14T03:01:32.305904Z"
    }
   },
   "outputs": [],
   "source": [
    "tn = np.sum(list(y.values()))"
   ]
  },
  {
   "cell_type": "code",
   "execution_count": 615,
   "metadata": {
    "ExecuteTime": {
     "end_time": "2020-06-14T03:01:32.730855Z",
     "start_time": "2020-06-14T03:01:32.724319Z"
    }
   },
   "outputs": [
    {
     "data": {
      "text/plain": [
       "5545064"
      ]
     },
     "execution_count": 615,
     "metadata": {},
     "output_type": "execute_result"
    }
   ],
   "source": [
    "tn"
   ]
  },
  {
   "cell_type": "code",
   "execution_count": 200,
   "metadata": {
    "ExecuteTime": {
     "end_time": "2020-06-11T14:52:53.385353Z",
     "start_time": "2020-06-11T14:52:47.825317Z"
    }
   },
   "outputs": [
    {
     "name": "stdout",
     "output_type": "stream",
     "text": [
      "38.0"
     ]
    }
   ],
   "source": [
    "P = defaultdict(lambda:defaultdict(lambda:0))\n",
    "n = 0\n",
    "for w in W:\n",
    "    n+=1\n",
    "    if n%1000 == 0:\n",
    "        flushPrint(n/1000)\n",
    "    for v in W[w]:\n",
    "        P[w][v] = np.log2(tn*W[w][v]/(x[i]*x[j]))\n",
    "# 38"
   ]
  },
  {
   "cell_type": "code",
   "execution_count": 201,
   "metadata": {
    "ExecuteTime": {
     "end_time": "2020-06-11T14:53:03.562753Z",
     "start_time": "2020-06-11T14:53:02.908764Z"
    }
   },
   "outputs": [],
   "source": [
    "x_ = {w:len(P[w]) for w in W}# degree\n",
    "y_ = {w:np.sum(list(P[w].values())) for w in W}# weighted degree\n",
    "z_ = {w:y_[w]/x_[w] for w in W}"
   ]
  },
  {
   "cell_type": "code",
   "execution_count": 163,
   "metadata": {
    "ExecuteTime": {
     "end_time": "2020-06-11T14:14:52.404925Z",
     "start_time": "2020-06-11T14:14:52.220236Z"
    },
    "collapsed": true
   },
   "outputs": [
    {
     "data": {
      "text/plain": [
       "[('左丘', 10.808415898940716),\n",
       " ('局子', 10.608646386564939),\n",
       " ('活体', 10.520290512144092),\n",
       " ('礼包', 10.439645756275107),\n",
       " ('氤', 8.857325499421663),\n",
       " ('李霜', 8.857325499421663),\n",
       " ('云里', 8.490783474774071),\n",
       " ('video', 8.409866522450441),\n",
       " ('会师', 8.23614918952743),\n",
       " ('南卡', 8.037897745063484),\n",
       " ('灭绝师太', 7.857325499421663),\n",
       " ('孟非', 7.757789825870748),\n",
       " ('补药', 7.75178295160072),\n",
       " ('老舍', 7.7417837128633264),\n",
       " ('粽', 7.654030451051037),\n",
       " ('国安', 7.6508746219542365),\n",
       " ('习诗', 7.646508515645412),\n",
       " ('余杭区', 7.5353974045343),\n",
       " ('简书', 7.409866522450441),\n",
       " ('妹纸', 7.409866522450441),\n",
       " ('货单', 7.409866522450441),\n",
       " ('自愿地', 7.393087177982729),\n",
       " ('录取人数', 7.14542240405353),\n",
       " ('解密', 7.120359905255457),\n",
       " ('小妇人', 7.120359905255456),\n",
       " ('金马奖', 7.120359905255456),\n",
       " ('自由业', 7.120359905255456),\n",
       " ('延边', 7.120359905255456),\n",
       " ('铁炉', 7.120359905255456),\n",
       " ('橙', 7.090721179446868),\n",
       " ('吕延武', 7.0504349038131435),\n",
       " ('秦州', 6.974119280075167),\n",
       " ('之谜', 6.950434903813144),\n",
       " ('花期', 6.950434903813144),\n",
       " ('赛博', 6.950434903813144),\n",
       " ('游击队员', 6.950434903813144),\n",
       " ('牛油', 6.925372405015071),\n",
       " ('传记', 6.8045982769441435),\n",
       " ('摩羯座', 6.784395828748743),\n",
       " ('陈荣辉', 6.757789825870748),\n",
       " ('小记', 6.757789825870748),\n",
       " ('后宅', 6.757789825870748),\n",
       " ('太白', 6.570475041483158),\n",
       " ('宣炉', 6.5353974045343),\n",
       " ('百大', 6.5353974045343),\n",
       " ('甜品', 6.5353974045343),\n",
       " ('对象化', 6.528980476248185),\n",
       " ('灯笼', 6.5143468594673575),\n",
       " ('红桃', 6.415848445539908),\n",
       " ('共商', 6.331296268367343),\n",
       " ('坯', 6.30264879286229),\n",
       " ('黄家驹', 6.2861279559561964),\n",
       " ('颅脑', 6.276167647131826),\n",
       " ('计算器', 6.2723629987005065),\n",
       " ('巫婆', 6.2723629987005065),\n",
       " ('piggy', 6.2723629987005065),\n",
       " ('酒馆', 6.272362998700506),\n",
       " ('图记', 6.272362998700506),\n",
       " ('女流氓', 6.272362998700506),\n",
       " ('跨界', 6.246704461590573),\n",
       " ('雨伞', 6.223399728507506),\n",
       " ('重大事故', 6.188599677453658),\n",
       " ('儿童玩具', 6.15533818518488),\n",
       " ('项为', 6.150434903813144),\n",
       " ('昭', 6.132891154654492),\n",
       " ('漳州市', 6.1175670468763315),\n",
       " ('跟你走', 6.117101570479811),\n",
       " ('meirirenwu', 6.108517717124444),\n",
       " ('愚公', 6.103409221960362),\n",
       " ('半球', 6.05742439087541),\n",
       " ('标的', 6.055698061707881),\n",
       " ('筹备组', 6.0193436480391),\n",
       " ('吊桶', 6.015682241204003),\n",
       " ('钝性', 6.007813869056594),\n",
       " ('张三', 6.001697733502426),\n",
       " ('梵蒂冈', 5.993893654606415),\n",
       " ('乔燕琴', 5.983244642113664),\n",
       " ('化肥厂', 5.976287695740857),\n",
       " ('双语', 5.966003286547874),\n",
       " ('人生旅途', 5.950434903813144),\n",
       " ('共舞', 5.950434903813144),\n",
       " ('电令', 5.950434903813144),\n",
       " ('威海市', 5.950434903813144),\n",
       " ('京籍', 5.950434903813144),\n",
       " ('泰州', 5.950434903813144),\n",
       " ('木子', 5.950434903813144),\n",
       " ('醉卧', 5.950434903813144),\n",
       " ('获奖作品', 5.950434903813144),\n",
       " ('早安', 5.950434903813144),\n",
       " ('喜马拉雅', 5.950434903813144),\n",
       " ('西恩', 5.946957560829372),\n",
       " ('电价', 5.939919990220745),\n",
       " ('go', 5.9353974045343),\n",
       " ('天花', 5.928518586744836),\n",
       " ('独品', 5.91541883269364),\n",
       " ('名誉会长', 5.9076769603459125),\n",
       " ('吊机', 5.89760447832106),\n",
       " ('成交量', 5.893893654606416),\n",
       " ('no', 5.8880868276666956),\n",
       " ('胡金', 5.874548100989117)]"
      ]
     },
     "execution_count": 163,
     "metadata": {},
     "output_type": "execute_result"
    }
   ],
   "source": [
    "# sort the noun by the aggregate pmi, descending\n",
    "sorted(z_.items(),key = lambda x:x[1])[::-1][:100]"
   ]
  },
  {
   "cell_type": "code",
   "execution_count": 89,
   "metadata": {
    "ExecuteTime": {
     "end_time": "2020-06-11T05:52:56.981637Z",
     "start_time": "2020-06-11T05:52:56.944908Z"
    }
   },
   "outputs": [
    {
     "data": {
      "text/plain": [
       "[('南北', 3.9504349038131426),\n",
       " ('泥沼', 3.9504349038131426),\n",
       " ('伯格', 3.950434903813143),\n",
       " ('小角色', 3.9504349038131434),\n",
       " ('恐惧心理', 3.9504349038131434),\n",
       " ('芽苗菜', 3.9504349038131434),\n",
       " ('村东', 3.9504349038131434),\n",
       " ('果汁', 3.9504349038131434),\n",
       " ('滨河公园', 3.9504349038131434),\n",
       " ('康庄', 3.9504349038131434)]"
      ]
     },
     "execution_count": 89,
     "metadata": {},
     "output_type": "execute_result"
    }
   ],
   "source": [
    "# sort the noun by the aggregate pmi, ascending\n",
    "sorted(z_.items(),key = lambda x:x[1])[:10]"
   ]
  },
  {
   "cell_type": "code",
   "execution_count": 90,
   "metadata": {
    "ExecuteTime": {
     "end_time": "2020-06-11T05:53:08.307461Z",
     "start_time": "2020-06-11T05:53:07.310684Z"
    }
   },
   "outputs": [
    {
     "data": {
      "image/png": "[encoded data removed]",
      "text/plain": [
       "<Figure size 432x288 with 1 Axes>"
      ]
     },
     "metadata": {
      "needs_background": "light"
     },
     "output_type": "display_data"
    }
   ],
   "source": [
    "plt.scatter(list(x_.values()), list(z_.values()))\n",
    "plt.xscale('log')\n",
    "plt.yscale('log')\n",
    "plt.show()"
   ]
  },
  {
   "cell_type": "markdown",
   "metadata": {},
   "source": [
    "# work association with other words"
   ]
  },
  {
   "cell_type": "code",
   "execution_count": 92,
   "metadata": {
    "ExecuteTime": {
     "end_time": "2020-06-11T05:58:48.321402Z",
     "start_time": "2020-06-11T05:58:48.310430Z"
    }
   },
   "outputs": [
    {
     "data": {
      "text/plain": [
       "[('工作', 14.949025333558472),\n",
       " ('时间', 13.42414065343256),\n",
       " ('工人', 13.270107024760138),\n",
       " ('中', 13.142727718283911),\n",
       " ('工厂', 13.016524094270917),\n",
       " ('生活', 12.953249919420198),\n",
       " ('公司', 12.830018153425927),\n",
       " ('孩子', 12.783324917977886),\n",
       " ('小时', 12.77380214385938),\n",
       " ('工资', 12.715306494549234)]"
      ]
     },
     "execution_count": 92,
     "metadata": {},
     "output_type": "execute_result"
    }
   ],
   "source": [
    "a = '工作'## T: job\n",
    "sorted([(k,v) for k,v in P[a].items()], key = lambda x:x[1])[::-1][:10]"
   ]
  },
  {
   "cell_type": "code",
   "execution_count": 161,
   "metadata": {
    "ExecuteTime": {
     "end_time": "2020-06-11T14:11:07.297912Z",
     "start_time": "2020-06-11T14:11:07.288840Z"
    }
   },
   "outputs": [
    {
     "data": {
      "text/plain": [
       "[('员工', 7.5353974045343),\n",
       " ('京东', 6.950434903813144),\n",
       " ('工作', 6.5353974045343),\n",
       " ('仓库', 6.2723629987005065),\n",
       " ('员', 6.2723629987005065),\n",
       " ('有限公司', 5.950434903813144),\n",
       " ('上海', 5.950434903813144),\n",
       " ('网点', 5.950434903813144),\n",
       " ('司机', 5.950434903813144),\n",
       " ('公司', 5.950434903813144)]"
      ]
     },
     "execution_count": 161,
     "metadata": {},
     "output_type": "execute_result"
    }
   ],
   "source": [
    "a = '京东'## T: Jindong, an online shopping platform\n",
    "sorted([(k,v) for k,v in P[a].items()], key = lambda x:x[1])[::-1][:10]"
   ]
  },
  {
   "cell_type": "code",
   "execution_count": null,
   "metadata": {},
   "outputs": [],
   "source": []
  },
  {
   "cell_type": "markdown",
   "metadata": {},
   "source": [
    "# read the news2016zh"
   ]
  },
  {
   "cell_type": "code",
   "execution_count": 99,
   "metadata": {
    "ExecuteTime": {
     "end_time": "2020-06-11T06:08:22.588123Z",
     "start_time": "2020-06-11T06:08:22.585300Z"
    }
   },
   "outputs": [],
   "source": [
    "import random\n",
    "import json"
   ]
  },
  {
   "cell_type": "code",
   "execution_count": 100,
   "metadata": {
    "ExecuteTime": {
     "end_time": "2020-06-11T06:09:24.681824Z",
     "start_time": "2020-06-11T06:09:24.677505Z"
    }
   },
   "outputs": [
    {
     "data": {
      "text/plain": [
       "0.32883053815207564"
      ]
     },
     "execution_count": 100,
     "metadata": {},
     "output_type": "execute_result"
    }
   ],
   "source": [
    "random.random()"
   ]
  },
  {
   "cell_type": "code",
   "execution_count": 123,
   "metadata": {
    "ExecuteTime": {
     "end_time": "2020-06-11T06:17:46.313923Z",
     "start_time": "2020-06-11T06:17:07.655784Z"
    }
   },
   "outputs": [],
   "source": [
    "sentence_g = []\n",
    "S = []\n",
    "with open('new2016zh/news2016zh_valid.json') as f:\n",
    "    for line in f:\n",
    "        if random.random() < .03:#\n",
    "            try:\n",
    "                s = json.loads(line)['content']\n",
    "                S.append(s)\n",
    "                s = s.split('。')\n",
    "                extract_content = extract(s,stopword)\n",
    "                if extract_content:\n",
    "                    sentence_g.append(extract_content)\n",
    "            except:\n",
    "                pass"
   ]
  },
  {
   "cell_type": "code",
   "execution_count": 124,
   "metadata": {
    "ExecuteTime": {
     "end_time": "2020-06-11T06:19:13.264037Z",
     "start_time": "2020-06-11T06:17:55.759415Z"
    }
   },
   "outputs": [
    {
     "name": "stdout",
     "output_type": "stream",
     "text": [
      "22.0"
     ]
    }
   ],
   "source": [
    "import jieba.posseg as pseg\n",
    "N2 = set()\n",
    "n = 0\n",
    "for a in S:\n",
    "    n+=1\n",
    "    if n%100 == 0:\n",
    "        flushPrint(n/100)\n",
    "    try:\n",
    "        a = a.split('\\n')\n",
    "        for s in a:\n",
    "            words = pseg.cut(s)\n",
    "            for w in words:\n",
    "                if 'n' in w.flag:\n",
    "                    N2.add(w.word)\n",
    "    except:\n",
    "        pass\n",
    "    \n",
    "# 23  "
   ]
  },
  {
   "cell_type": "code",
   "execution_count": 125,
   "metadata": {
    "ExecuteTime": {
     "end_time": "2020-06-11T06:19:50.722757Z",
     "start_time": "2020-06-11T06:19:50.719003Z"
    }
   },
   "outputs": [
    {
     "data": {
      "text/plain": [
       "54542"
      ]
     },
     "execution_count": 125,
     "metadata": {},
     "output_type": "execute_result"
    }
   ],
   "source": [
    "len(N2)"
   ]
  },
  {
   "cell_type": "code",
   "execution_count": 130,
   "metadata": {
    "ExecuteTime": {
     "end_time": "2020-06-11T06:22:51.116611Z",
     "start_time": "2020-06-11T06:22:50.824507Z"
    }
   },
   "outputs": [
    {
     "name": "stdout",
     "output_type": "stream",
     "text": [
      "22.0"
     ]
    },
    {
     "data": {
      "text/plain": [
       "2280"
      ]
     },
     "execution_count": 130,
     "metadata": {},
     "output_type": "execute_result"
    }
   ],
   "source": [
    "s_p_n_g = []\n",
    "n=0\n",
    "for s in sentence_g:\n",
    "    n+=1\n",
    "    if n %100 == 0:\n",
    "        flushPrint(n/100)\n",
    "    s_ = []\n",
    "    for i in s:\n",
    "        s_.append([j for j in i if j in N2 and j in word_vectors.vocab])\n",
    "    if s_:\n",
    "        s_p_n_g.append(s_)\n",
    "len(s_p_n_g)\n",
    "# 22"
   ]
  },
  {
   "cell_type": "code",
   "execution_count": 131,
   "metadata": {
    "ExecuteTime": {
     "end_time": "2020-06-11T06:22:53.455051Z",
     "start_time": "2020-06-11T06:22:53.451012Z"
    }
   },
   "outputs": [],
   "source": [
    "data2 = []\n",
    "for s in s_p_n_g:\n",
    "    data2+=s"
   ]
  },
  {
   "cell_type": "code",
   "execution_count": 132,
   "metadata": {
    "ExecuteTime": {
     "end_time": "2020-06-11T06:23:01.412604Z",
     "start_time": "2020-06-11T06:22:53.904394Z"
    }
   },
   "outputs": [],
   "source": [
    "w_model_g = gensim.models.word2vec.Word2Vec(size = 300, alpha=0.2,\n",
    "                                    window= 5,min_count=1,sg=1,\n",
    "                                    negative=2,hs=0,compute_loss = True)\n",
    "w_model_g.build_vocab(data2)"
   ]
  },
  {
   "cell_type": "code",
   "execution_count": 133,
   "metadata": {
    "ExecuteTime": {
     "end_time": "2020-06-11T06:23:01.418351Z",
     "start_time": "2020-06-11T06:23:01.414355Z"
    }
   },
   "outputs": [
    {
     "data": {
      "text/plain": [
       "42511"
      ]
     },
     "execution_count": 133,
     "metadata": {},
     "output_type": "execute_result"
    }
   ],
   "source": [
    "len(w_model_g.wv.vocab)"
   ]
  },
  {
   "cell_type": "code",
   "execution_count": 134,
   "metadata": {
    "ExecuteTime": {
     "end_time": "2020-06-11T06:23:59.321082Z",
     "start_time": "2020-06-11T06:23:55.825800Z"
    }
   },
   "outputs": [
    {
     "name": "stdout",
     "output_type": "stream",
     "text": [
      "4.0"
     ]
    }
   ],
   "source": [
    "W2 = defaultdict(lambda:defaultdict(lambda:0))\n",
    "n = 0\n",
    "for s in data2:\n",
    "    n+=1\n",
    "    if n%10000 == 0:\n",
    "        flushPrint(n/10000)\n",
    "    if len(s)>2:\n",
    "        for i,j in itertools.combinations(sorted(s), 2):\n",
    "            W2[i][j] +=1\n",
    "            W2[j][i] +=1\n",
    "# 4"
   ]
  },
  {
   "cell_type": "code",
   "execution_count": 135,
   "metadata": {
    "ExecuteTime": {
     "end_time": "2020-06-11T06:24:35.496482Z",
     "start_time": "2020-06-11T06:24:34.981538Z"
    }
   },
   "outputs": [],
   "source": [
    "x2 = {w:len(W2[w]) for w in W2}# degree\n",
    "y2 = {w:np.sum(list(W2[w].values())) for w in W2}# weighted degree"
   ]
  },
  {
   "cell_type": "code",
   "execution_count": 136,
   "metadata": {
    "ExecuteTime": {
     "end_time": "2020-06-11T06:24:54.317848Z",
     "start_time": "2020-06-11T06:24:54.293451Z"
    }
   },
   "outputs": [
    {
     "data": {
      "text/plain": [
       "[('中', 13550),\n",
       " ('中国', 8921),\n",
       " ('时', 7739),\n",
       " ('公司', 5674),\n",
       " ('新', 5668),\n",
       " ('时间', 5613),\n",
       " ('发展', 5493),\n",
       " ('工作', 5378),\n",
       " ('前', 4985),\n",
       " ('市场', 4830)]"
      ]
     },
     "execution_count": 136,
     "metadata": {},
     "output_type": "execute_result"
    }
   ],
   "source": [
    "# sort the sentence by the their degree they on the graph; descending order\n",
    "sorted(x2.items(),key = lambda x:x[1])[::-1][:10]"
   ]
  },
  {
   "cell_type": "code",
   "execution_count": 137,
   "metadata": {
    "ExecuteTime": {
     "end_time": "2020-06-11T06:25:19.982613Z",
     "start_time": "2020-06-11T06:25:19.960351Z"
    }
   },
   "outputs": [
    {
     "data": {
      "text/plain": [
       "[('金锁', 1),\n",
       " ('善攻者', 1),\n",
       " ('性灵', 1),\n",
       " ('风会', 1),\n",
       " ('警示灯', 2),\n",
       " ('吉安', 2),\n",
       " ('剃度', 2),\n",
       " ('古寺', 2),\n",
       " ('华严经', 2),\n",
       " ('地藏经', 2)]"
      ]
     },
     "execution_count": 137,
     "metadata": {},
     "output_type": "execute_result"
    }
   ],
   "source": [
    "# sort the sentence by the their degree they on the graph; ascending order\n",
    "sorted(x2.items(),key = lambda x:x[1])[:10]"
   ]
  },
  {
   "cell_type": "code",
   "execution_count": 612,
   "metadata": {
    "ExecuteTime": {
     "end_time": "2020-06-14T03:01:21.906661Z",
     "start_time": "2020-06-14T03:01:21.841715Z"
    }
   },
   "outputs": [],
   "source": [
    "tn2 = np.sum(list(y2.values()))"
   ]
  },
  {
   "cell_type": "code",
   "execution_count": 613,
   "metadata": {
    "ExecuteTime": {
     "end_time": "2020-06-14T03:01:22.392342Z",
     "start_time": "2020-06-14T03:01:22.383258Z"
    }
   },
   "outputs": [
    {
     "data": {
      "text/plain": [
       "12504020"
      ]
     },
     "execution_count": 613,
     "metadata": {},
     "output_type": "execute_result"
    }
   ],
   "source": [
    "tn2"
   ]
  },
  {
   "cell_type": "code",
   "execution_count": 616,
   "metadata": {
    "ExecuteTime": {
     "end_time": "2020-06-14T03:03:10.256596Z",
     "start_time": "2020-06-14T03:03:10.250074Z"
    }
   },
   "outputs": [
    {
     "data": {
      "text/plain": [
       "1.1731159741337909"
      ]
     },
     "execution_count": 616,
     "metadata": {},
     "output_type": "execute_result"
    }
   ],
   "source": [
    "np.log2(tn2/tn)"
   ]
  },
  {
   "cell_type": "code",
   "execution_count": 194,
   "metadata": {
    "ExecuteTime": {
     "end_time": "2020-06-11T14:50:53.264104Z",
     "start_time": "2020-06-11T14:50:45.020710Z"
    }
   },
   "outputs": [
    {
     "name": "stdout",
     "output_type": "stream",
     "text": [
      "42.0"
     ]
    }
   ],
   "source": [
    "P2 = defaultdict(lambda:defaultdict(lambda:0))\n",
    "n = 0\n",
    "for w in W2:\n",
    "    n+=1\n",
    "    if n%1000 == 0:\n",
    "        flushPrint(n/1000)\n",
    "    for v in W2[w]:\n",
    "        P2[w][v] = np.log2(tn2*W2[w][v]/(x2[i]*x2[j]))\n",
    "# 42"
   ]
  },
  {
   "cell_type": "code",
   "execution_count": 141,
   "metadata": {
    "ExecuteTime": {
     "end_time": "2020-06-11T06:32:17.969608Z",
     "start_time": "2020-06-11T06:32:17.175318Z"
    }
   },
   "outputs": [],
   "source": [
    "x2_ = {w:len(P2[w]) for w in W2}# degree\n",
    "y2_ = {w:np.sum(list(P2[w].values())) for w in W2}# weighted degree\n",
    "z2_ = {w:y2_[w]/x2_[w] for w in W2}"
   ]
  },
  {
   "cell_type": "code",
   "execution_count": 164,
   "metadata": {
    "ExecuteTime": {
     "end_time": "2020-06-11T14:17:06.557387Z",
     "start_time": "2020-06-11T14:17:06.508274Z"
    },
    "collapsed": true
   },
   "outputs": [
    {
     "data": {
      "text/plain": [
       "[('棉花价格', 22.37729542529406),\n",
       " ('国家税务局', 22.20126887759617),\n",
       " ('n', 21.862250522737593),\n",
       " ('正太', 21.369358723485266),\n",
       " ('y', 21.27962816163137),\n",
       " ('zh', 21.107407813838925),\n",
       " ('j', 20.915914775714743),\n",
       " ('o', 20.88549905333226),\n",
       " ('科员', 20.830117493872628),\n",
       " ('sh', 20.58330474436528),\n",
       " ('ch', 20.58330474436528),\n",
       " ('宠物医院', 20.565988578998017),\n",
       " ('u', 20.118761215910617),\n",
       " ('describe', 20.0685298790097),\n",
       " ('ji', 20.058104927216),\n",
       " ('发售日期', 20.056444832500762),\n",
       " ('后排', 20.001871128179623),\n",
       " ('郑州市', 19.934650155530402),\n",
       " ('称雄', 19.92872394849218),\n",
       " ('专论', 19.892171973286846),\n",
       " ('d', 19.828515478220595),\n",
       " ('盘式', 19.827158464875062),\n",
       " ('r', 19.735632011597268),\n",
       " ('xi', 19.735170374732494),\n",
       " ('qi', 19.735170374732494),\n",
       " ('q', 19.735170374732494),\n",
       " ('有奖', 19.72691412870642),\n",
       " ('座椅', 19.637117618748675),\n",
       " ('you', 19.612107061139746),\n",
       " ('后视镜', 19.608665995931357),\n",
       " ('public', 19.605907711943868),\n",
       " ('sex', 19.58219744662804),\n",
       " ('age', 19.58219744662804),\n",
       " ('铝合金', 19.577355937936005),\n",
       " ('z', 19.57503833259802),\n",
       " ('hu', 19.52867089499718),\n",
       " ('b', 19.485051558463557),\n",
       " ('绍尔', 19.405497908564616),\n",
       " ('f', 19.34673269690838),\n",
       " ('紫南', 19.29659022441985),\n",
       " ('ti', 19.28759564212043),\n",
       " ('交叉口', 19.279615741969906),\n",
       " ('正回购', 19.274613506681696),\n",
       " ('动物医院', 19.186902139087188),\n",
       " ('气囊', 19.17062287434438),\n",
       " ('li', 19.126152010410646),\n",
       " ('w', 19.125034161547333),\n",
       " ('莫文蔚', 19.089961539409185),\n",
       " ('检疫局', 19.060851104734517),\n",
       " ('大灯', 19.060174144325607),\n",
       " ('mm', 19.05541126265229),\n",
       " ('i', 19.043838864400335),\n",
       " ('液晶屏', 19.033148095307606),\n",
       " ('备胎', 19.01945205115424),\n",
       " ('p', 19.00112946438878),\n",
       " ('生抽', 18.989189046158423),\n",
       " ('x', 18.966429596720996),\n",
       " ('湖南省', 18.95307658161175),\n",
       " ('办事处', 18.951453528646493),\n",
       " ('香葱', 18.93228674552568),\n",
       " ('c', 18.929544615109464),\n",
       " ('标定', 18.928160965346482),\n",
       " ('陇海', 18.881363813994795),\n",
       " ('段位', 18.87790820665673),\n",
       " ('中原区', 18.864729212967916),\n",
       " ('容积', 18.86278397305204),\n",
       " ('zhu', 18.858437550497843),\n",
       " ('小勺', 18.845359499772687),\n",
       " ('bi', 18.827995908988644),\n",
       " ('卤素', 18.826002788552792),\n",
       " ('单碟', 18.826002788552792),\n",
       " ('part', 18.77701186365673),\n",
       " ('方向盘', 18.728233712269546),\n",
       " ('前驱', 18.725107918696025),\n",
       " ('南关', 18.71134213137589),\n",
       " ('蚝油', 18.709635458045945),\n",
       " ('胡椒粉', 18.709635458045945),\n",
       " ('手刹', 18.702009864883028),\n",
       " ('斯柯达', 18.67984365138552),\n",
       " ('方舟', 18.6502357452229),\n",
       " ('水泵', 18.648047589284467),\n",
       " ('ku', 18.635260137926135),\n",
       " ('净价', 18.631965642599674),\n",
       " ('马力', 18.59970008713838),\n",
       " ('前沿技术', 18.59405163081075),\n",
       " ('城东路', 18.585257211234715),\n",
       " ('k', 18.579678167165785),\n",
       " ('金属漆', 18.577192483024216),\n",
       " ('双顶', 18.577001066881873),\n",
       " ('冀州', 18.576588183694927),\n",
       " ('dump', 18.564289302142615),\n",
       " ('h', 18.56305988710621),\n",
       " ('蒜末', 18.548603824705314),\n",
       " ('your', 18.53898167097716),\n",
       " ('手动', 18.524795328214296),\n",
       " ('二里岗', 18.51857046899351),\n",
       " ('变速箱', 18.508580488672546),\n",
       " ('go', 18.49647526206467),\n",
       " ('持有期', 18.49621358703446),\n",
       " ('帘', 18.471694554683697)]"
      ]
     },
     "execution_count": 164,
     "metadata": {},
     "output_type": "execute_result"
    }
   ],
   "source": [
    "# sort the noun by the aggregate pmi, descending\n",
    "sorted(z2_.items(),key = lambda x:x[1])[::-1][:100]"
   ]
  },
  {
   "cell_type": "code",
   "execution_count": 143,
   "metadata": {
    "ExecuteTime": {
     "end_time": "2020-06-11T06:32:48.907319Z",
     "start_time": "2020-06-11T06:32:48.874755Z"
    }
   },
   "outputs": [
    {
     "data": {
      "text/plain": [
       "[('老年性', 15.183571232454781),\n",
       " ('戏剧化', 15.183571232454781),\n",
       " ('古典文学', 15.183571232454781),\n",
       " ('火炉', 15.183571232454781),\n",
       " ('四纵', 15.183571232454781),\n",
       " ('武装冲突', 15.183571232454781),\n",
       " ('陨落', 15.183571232454781),\n",
       " ('姿色', 15.183571232454781),\n",
       " ('孟云', 15.183571232454781),\n",
       " ('才气', 15.183571232454781)]"
      ]
     },
     "execution_count": 143,
     "metadata": {},
     "output_type": "execute_result"
    }
   ],
   "source": [
    "# sort the noun by the aggregate pmi, descending\n",
    "sorted(z2_.items(),key = lambda x:x[1])[:10]"
   ]
  },
  {
   "cell_type": "code",
   "execution_count": 226,
   "metadata": {
    "ExecuteTime": {
     "end_time": "2020-06-11T15:19:37.467070Z",
     "start_time": "2020-06-11T15:19:37.459892Z"
    }
   },
   "outputs": [
    {
     "data": {
      "text/plain": [
       "[('工作', 23.958358292055962),\n",
       " ('中', 22.820195852998438),\n",
       " ('公司', 22.312854249399752),\n",
       " ('单位', 22.090461828063304),\n",
       " ('中国', 22.07838899576273),\n",
       " ('发展', 21.841782715206584),\n",
       " ('时间', 21.753426840785735),\n",
       " ('生活', 21.753426840785735),\n",
       " ('情况', 21.753426840785735),\n",
       " ('建设', 21.609835987156885)]"
      ]
     },
     "execution_count": 226,
     "metadata": {},
     "output_type": "execute_result"
    }
   ],
   "source": [
    "a = '工作'## T: job\n",
    "sorted([(k,v) for k,v in P2[a].items()], key = lambda x:x[1])[::-1][:10]"
   ]
  },
  {
   "cell_type": "code",
   "execution_count": 162,
   "metadata": {
    "ExecuteTime": {
     "end_time": "2020-06-11T14:11:31.699434Z",
     "start_time": "2020-06-11T14:11:31.690490Z"
    }
   },
   "outputs": [
    {
     "data": {
      "text/plain": [
       "[('京东', 22.88401095059588),\n",
       " ('乡村', 21.160851155954703),\n",
       " ('推广员', 20.827427422229512),\n",
       " ('花椒', 20.675424328784462),\n",
       " ('电商', 20.57588865523355),\n",
       " ('平台', 20.271034073705128),\n",
       " ('阿里', 20.271034073705128),\n",
       " ('农村', 20.13776754284166),\n",
       " ('腾讯', 20.090461828063304),\n",
       " ('干辣椒', 20.090461828063304)]"
      ]
     },
     "execution_count": 162,
     "metadata": {},
     "output_type": "execute_result"
    }
   ],
   "source": [
    "a = '京东'## T: city\n",
    "sorted([(k,v) for k,v in P2[a].items()], key = lambda x:x[1])[::-1][:10]"
   ]
  },
  {
   "cell_type": "code",
   "execution_count": 146,
   "metadata": {
    "ExecuteTime": {
     "end_time": "2020-06-11T06:35:13.414671Z",
     "start_time": "2020-06-11T06:35:12.469889Z"
    }
   },
   "outputs": [
    {
     "data": {
      "image/png": "[encoded data removed]",
      "text/plain": [
       "<Figure size 432x288 with 1 Axes>"
      ]
     },
     "metadata": {
      "needs_background": "light"
     },
     "output_type": "display_data"
    }
   ],
   "source": [
    "plt.scatter(list(x2_.values()), list(z2_.values()))\n",
    "plt.xscale('log')\n",
    "plt.yscale('log')\n",
    "plt.show()"
   ]
  },
  {
   "cell_type": "markdown",
   "metadata": {},
   "source": [
    "# the change of meaning of words"
   ]
  },
  {
   "cell_type": "code",
   "execution_count": 180,
   "metadata": {
    "ExecuteTime": {
     "end_time": "2020-06-11T14:33:17.637448Z",
     "start_time": "2020-06-11T14:33:17.634875Z"
    }
   },
   "outputs": [],
   "source": [
    "import scipy.stats"
   ]
  },
  {
   "cell_type": "code",
   "execution_count": 165,
   "metadata": {
    "ExecuteTime": {
     "end_time": "2020-06-11T14:21:26.244664Z",
     "start_time": "2020-06-11T14:21:26.215873Z"
    }
   },
   "outputs": [
    {
     "data": {
      "text/plain": [
       "22736"
      ]
     },
     "execution_count": 165,
     "metadata": {},
     "output_type": "execute_result"
    }
   ],
   "source": [
    "len(N.intersection(N2))"
   ]
  },
  {
   "cell_type": "code",
   "execution_count": 202,
   "metadata": {
    "ExecuteTime": {
     "end_time": "2020-06-11T14:53:34.562063Z",
     "start_time": "2020-06-11T14:53:34.523172Z"
    }
   },
   "outputs": [],
   "source": [
    "#int_N = list(N.intersection(N2))\n",
    "int_N = list(set(list(z_.keys())).intersection(set(list(z2_.keys()))))"
   ]
  },
  {
   "cell_type": "code",
   "execution_count": 203,
   "metadata": {
    "ExecuteTime": {
     "end_time": "2020-06-11T14:53:35.599974Z",
     "start_time": "2020-06-11T14:53:35.596262Z"
    }
   },
   "outputs": [
    {
     "data": {
      "text/plain": [
       "(38139, 42131, 20837)"
      ]
     },
     "execution_count": 203,
     "metadata": {},
     "output_type": "execute_result"
    }
   ],
   "source": [
    "len(z_),len(z2_),len(int_N)"
   ]
  },
  {
   "cell_type": "code",
   "execution_count": null,
   "metadata": {},
   "outputs": [],
   "source": []
  },
  {
   "cell_type": "code",
   "execution_count": 624,
   "metadata": {
    "ExecuteTime": {
     "end_time": "2020-06-14T21:20:29.352682Z",
     "start_time": "2020-06-14T21:20:27.450170Z"
    }
   },
   "outputs": [
    {
     "data": {
      "image/png": "[encoded data removed]",
      "text/plain": [
       "<Figure size 720x576 with 1 Axes>"
      ]
     },
     "metadata": {
      "needs_background": "light"
     },
     "output_type": "display_data"
    }
   ],
   "source": [
    "plt.figure(figsize=(10,8))\n",
    "pmi_1 = [z_[i] for i in int_N]\n",
    "pmi_2 = [z2_[i] for i in int_N]\n",
    "plt.hist(pmi_1, color='blue', label = 'Female laborers')\n",
    "plt.hist(pmi_2, color= 'yellow', label = 'Sina News')\n",
    "plt.legend()\n",
    "plt.xlabel('PMI of a Word', size=20)\n",
    "plt.ylabel('Count',size = 20)\n",
    "plt.savefig('pmi_distribution.png',dpi = 600)\n",
    "plt.show()"
   ]
  },
  {
   "cell_type": "code",
   "execution_count": 225,
   "metadata": {
    "ExecuteTime": {
     "end_time": "2020-06-11T15:19:25.091827Z",
     "start_time": "2020-06-11T15:03:42.048462Z"
    }
   },
   "outputs": [
    {
     "name": "stderr",
     "output_type": "stream",
     "text": [
      "/Users/linyiling/opt/anaconda3/lib/python3.7/site-packages/numpy/lib/function_base.py:2534: RuntimeWarning: invalid value encountered in true_divide\n",
      "  c /= stddev[:, None]\n",
      "/Users/linyiling/opt/anaconda3/lib/python3.7/site-packages/numpy/lib/function_base.py:2535: RuntimeWarning: invalid value encountered in true_divide\n",
      "  c /= stddev[None, :]\n",
      "/Users/linyiling/opt/anaconda3/lib/python3.7/site-packages/scipy/stats/_distn_infrastructure.py:903: RuntimeWarning: invalid value encountered in greater\n",
      "  return (a < x) & (x < b)\n",
      "/Users/linyiling/opt/anaconda3/lib/python3.7/site-packages/scipy/stats/_distn_infrastructure.py:903: RuntimeWarning: invalid value encountered in less\n",
      "  return (a < x) & (x < b)\n",
      "/Users/linyiling/opt/anaconda3/lib/python3.7/site-packages/scipy/stats/_distn_infrastructure.py:1912: RuntimeWarning: invalid value encountered in less_equal\n",
      "  cond2 = cond0 & (x <= _a)\n"
     ]
    },
    {
     "name": "stdout",
     "output_type": "stream",
     "text": [
      "20.0"
     ]
    }
   ],
   "source": [
    "CW = {}\n",
    "n = 0\n",
    "for w in int_N:\n",
    "    n+=1\n",
    "    if n%1000 == 0:\n",
    "        flushPrint(n/1000)\n",
    "    neb = [i for i in P[w] if (i in int_N and i in P2[w])]\n",
    "    if len(neb)>5:\n",
    "        r1 = [P[w][i] for i in neb]\n",
    "        r2 = [P2[w][i] for i in neb]\n",
    "        cor = scipy.stats.spearmanr(r1,r2)[0]\n",
    "        if np.isnan(cor):\n",
    "            continue\n",
    "        CW[w] = cor\n",
    "# 20"
   ]
  },
  {
   "cell_type": "code",
   "execution_count": 270,
   "metadata": {
    "ExecuteTime": {
     "end_time": "2020-06-11T16:12:58.692775Z",
     "start_time": "2020-06-11T16:12:58.678520Z"
    },
    "collapsed": true
   },
   "outputs": [
    {
     "data": {
      "text/plain": [
       "[('作案', -0.9486832980505139),\n",
       " ('助推', -0.9000000000000001),\n",
       " ('寨', -0.9000000000000001),\n",
       " ('环球', -0.8660254037844386),\n",
       " ('有奖', -0.8355727485873495),\n",
       " ('城镇职工', -0.8263342440128466),\n",
       " ('府', -0.8215838362577491),\n",
       " ('涂料', -0.8040302522073696),\n",
       " ('顺德区', -0.7666666666666669),\n",
       " ('调试', -0.7022468831767833),\n",
       " ('公共设施', -0.7),\n",
       " ('协作', -0.6735753140545634),\n",
       " ('负增长', -0.6708203932499369),\n",
       " ('私有化', -0.6708203932499369),\n",
       " ('跌幅', -0.6627334956636112),\n",
       " ('祥和', -0.6627334956636112),\n",
       " ('署', -0.6572670690061994),\n",
       " ('直线', -0.6572670690061994),\n",
       " ('壁垒', -0.6572670690061994),\n",
       " ('指挥部', -0.6546536707079772),\n",
       " ('创业项目', -0.6546536707079772),\n",
       " ('模型', -0.6448540056198467),\n",
       " ('学术界', -0.632455532033676),\n",
       " ('督查', -0.6236095644623236),\n",
       " ('观澜', -0.6211299937499415),\n",
       " ('行列', -0.6210590034081188),\n",
       " ('银', -0.6063390625908325),\n",
       " ('知情', -0.6049764346102502),\n",
       " ('扬州', -0.5916079783099617),\n",
       " ('教官', -0.5879447357921312),\n",
       " ('形状', -0.5855400437691198),\n",
       " ('智能家居', -0.5832493478987067),\n",
       " ('定罪', -0.5768448664935834),\n",
       " ('业余', -0.5714285714285715),\n",
       " ('新闻报道', -0.5659453309702792),\n",
       " ('党政', -0.5656854249492381),\n",
       " ('巨星', -0.562543950463012),\n",
       " ('疗法', -0.5520524474738834),\n",
       " ('个案', -0.5477225575051661),\n",
       " ('跳槽', -0.5405899027195887),\n",
       " ('汉字', -0.5395637425347116),\n",
       " ('巅峰', -0.5350452443251682),\n",
       " ('稳定性', -0.5333702460463465),\n",
       " ('腰部', -0.5318543981959329),\n",
       " ('刻板', -0.5314177771146025),\n",
       " ('花椒', -0.5313689313240573),\n",
       " ('同乡', -0.5312146430132193),\n",
       " ('海绵', -0.5291502622129182),\n",
       " ('佛山市', -0.5233670255931883),\n",
       " ('合理化', -0.521749194749951),\n",
       " ('肠', -0.5196746370519364),\n",
       " ('食欲', -0.5184758473652126),\n",
       " ('手动', -0.5182138660972808),\n",
       " ('普惠', -0.5149286505444371),\n",
       " ('毒', -0.514613099654261),\n",
       " ('费率', -0.5081495473197969),\n",
       " ('剖腹产', -0.5047903612101449),\n",
       " ('罪行', -0.5014033884280172),\n",
       " ('国防', -0.497192481033378),\n",
       " ('单价', -0.492592183071889),\n",
       " ('医科大学', -0.4910463758239913),\n",
       " ('碾压', -0.48989794855663565),\n",
       " ('执法人员', -0.48758163322320075),\n",
       " ('执法检查', -0.47929833168529035),\n",
       " ('规格', -0.47879565893903836),\n",
       " ('父子', -0.4743416490252569),\n",
       " ('持续性', -0.4714045207910316),\n",
       " ('新款', -0.47023052992020364),\n",
       " ('口腔', -0.46704629606937254),\n",
       " ('后背', -0.4558423058385518),\n",
       " ('演唱会', -0.45193845378886693),\n",
       " ('礼服', -0.45044261646145073),\n",
       " ('起源', -0.447213595499958),\n",
       " ('病态', -0.4461441314051561),\n",
       " ('顶级', -0.4458629339976145),\n",
       " ('时效', -0.44494920831460977),\n",
       " ('专辑', -0.44313984773295517),\n",
       " ('主力', -0.44177063089637436),\n",
       " ('消防', -0.44057688192031214),\n",
       " ('美人', -0.4370786380607689),\n",
       " ('管道', -0.4369400391964715),\n",
       " ('隐性', -0.4364357804719848),\n",
       " ('才华', -0.4330127018922193),\n",
       " ('膳食', -0.4330127018922193),\n",
       " ('操场', -0.4330127018922193),\n",
       " ('气愤', -0.4330127018922193),\n",
       " ('网吧', -0.42857142857142855),\n",
       " ('品类', -0.4277926319464985),\n",
       " ('老头', -0.4277926319464985),\n",
       " ('文员', -0.4277926319464985),\n",
       " ('花朵', -0.4277926319464985),\n",
       " ('裙', -0.42524325556256226),\n",
       " ('卫生院', -0.4252100321353806),\n",
       " ('开庭', -0.4252100321353806),\n",
       " ('副局长', -0.4246038878042234),\n",
       " ('税负', -0.4242640687119286),\n",
       " ('一代人', -0.4242640687119286),\n",
       " ('瑕疵', -0.4242640687119286),\n",
       " ('暴力行为', -0.42257712736425823),\n",
       " ('综合体', -0.42257712736425823)]"
      ]
     },
     "execution_count": 270,
     "metadata": {},
     "output_type": "execute_result"
    }
   ],
   "source": [
    "sorted(CW.items(), key = lambda x:x[1])[:100]"
   ]
  },
  {
   "cell_type": "code",
   "execution_count": 274,
   "metadata": {
    "ExecuteTime": {
     "end_time": "2020-06-11T16:14:33.552510Z",
     "start_time": "2020-06-11T16:14:33.548844Z"
    }
   },
   "outputs": [
    {
     "data": {
      "text/plain": [
       "0.3379863149049689"
      ]
     },
     "execution_count": 274,
     "metadata": {},
     "output_type": "execute_result"
    }
   ],
   "source": [
    "CW['时间']"
   ]
  },
  {
   "cell_type": "code",
   "execution_count": 229,
   "metadata": {
    "ExecuteTime": {
     "end_time": "2020-06-11T15:32:25.681083Z",
     "start_time": "2020-06-11T15:32:25.668408Z"
    },
    "collapsed": true
   },
   "outputs": [
    {
     "data": {
      "text/plain": [
       "[('坑人', 1.0),\n",
       " ('攻坚', 1.0),\n",
       " ('父', 1.0),\n",
       " ('准则', 1.0),\n",
       " ('体贴', 1.0),\n",
       " ('偏向', 1.0),\n",
       " ('蜂蜜', 1.0),\n",
       " ('脸颊', 1.0),\n",
       " ('杯子', 0.9999999999999999),\n",
       " ('笑声', 0.9999999999999999),\n",
       " ('孙', 0.9999999999999999),\n",
       " ('实际收入', 0.9999999999999998),\n",
       " ('牙膏', 0.9999999999999998),\n",
       " ('强力', 0.9860132971832694),\n",
       " ('活生生', 0.9860132971832694),\n",
       " ('条约', 0.9860132971832694),\n",
       " ('子弹', 0.9797958971132713),\n",
       " ('培训费', 0.9797958971132713),\n",
       " ('头晕', 0.9591836734693876),\n",
       " ('org', 0.9558988911273407),\n",
       " ('科室', 0.9428090415820635),\n",
       " ('情商', 0.9241455716126523),\n",
       " ('友情', 0.893010836681381),\n",
       " ('中铁', 0.8861862597425679),\n",
       " ('钢琴', 0.8846517369293828),\n",
       " ('外籍', 0.8823529411764706),\n",
       " ('供需', 0.876360240468927),\n",
       " ('dv', 0.875),\n",
       " ('菩萨', 0.873862897505303),\n",
       " ('副总', 0.8703882797784891),\n",
       " ('黑桥', 0.870388279778489),\n",
       " ('兵', 0.8660254037844386),\n",
       " ('经济学家', 0.8620436566990364),\n",
       " ('影视作品', 0.85923294280422),\n",
       " ('乳腺癌', 0.8574929257125441),\n",
       " ('双休', 0.8557415050527782),\n",
       " ('旅游业', 0.8541985556144386),\n",
       " ('长三角', 0.8501272771022874),\n",
       " ('购房者', 0.8466068268482456),\n",
       " ('章程', 0.8461570393016992),\n",
       " ('住址', 0.8455563789396837),\n",
       " ('时报', 0.8433190209254683),\n",
       " ('工作效率', 0.8427953808926897),\n",
       " ('南宁市', 0.8427953808926897),\n",
       " ('反省', 0.8406055240472927),\n",
       " ('季度', 0.8404891542123692),\n",
       " ('线条', 0.8355044182110838),\n",
       " ('闲暇', 0.8334054802823742),\n",
       " ('毒品', 0.8263342440128466),\n",
       " ('高三', 0.8215838362577491),\n",
       " ('毒性', 0.8215838362577491),\n",
       " ('支柱', 0.8198915917499229),\n",
       " ('校方', 0.8158178234840646),\n",
       " ('脑', 0.8140915784106943),\n",
       " ('改编自', 0.8140915784106943),\n",
       " ('表姐', 0.8119622530770386),\n",
       " ('性价比', 0.8108848540793832),\n",
       " ('周期性', 0.8108848540793832),\n",
       " ('大山', 0.810884854079383),\n",
       " ('学期', 0.8104432008587537),\n",
       " ('others', 0.8050764858994133),\n",
       " ('训斥', 0.8011530698791949),\n",
       " ('本田', 0.80075721739621),\n",
       " ('盖章', 0.80075721739621),\n",
       " ('个头', 0.8001322641986388),\n",
       " ('物价局', 0.8),\n",
       " ('治安管理', 0.7990709194465474),\n",
       " ('木材', 0.7977240352174657),\n",
       " ('错觉', 0.7972339748041415),\n",
       " ('选择性', 0.7921180343813395),\n",
       " ('等候', 0.7905694150420949),\n",
       " ('外资', 0.7889684472185847),\n",
       " ('昆山', 0.7882407813680822),\n",
       " ('公平正义', 0.7826237921249265),\n",
       " ('大象', 0.7826237921249264),\n",
       " ('经济体', 0.7818463902522316),\n",
       " ('平民', 0.7812499999999998),\n",
       " ('越南', 0.7805155956333616),\n",
       " ('衣物', 0.7770286898858113),\n",
       " ('李光耀', 0.7745966692414834),\n",
       " ('连带', 0.7745966692414834),\n",
       " ('经济负担', 0.7745966692414834),\n",
       " ('工商部门', 0.7745966692414834),\n",
       " ('长远利益', 0.7745966692414834),\n",
       " ('飞速发展', 0.7745966692414834),\n",
       " ('全局', 0.7745966692414834),\n",
       " ('范冰冰', 0.7745966692414834),\n",
       " ('铁矿石', 0.7745966692414834),\n",
       " ('大学教授', 0.7745966692414834),\n",
       " ('决策者', 0.7745966692414834),\n",
       " ('任由', 0.7745966692414834),\n",
       " ('空洞', 0.7745966692414834),\n",
       " ('大火', 0.7742781018131459),\n",
       " ('放学', 0.772562877628277),\n",
       " ('下线', 0.7717436331412898),\n",
       " ('词语', 0.7666666666666666),\n",
       " ('平板', 0.7662610281769212),\n",
       " ('监事', 0.764093177458341),\n",
       " ('屋顶', 0.7637626158259734),\n",
       " ('服务水平', 0.7637626158259734)]"
      ]
     },
     "execution_count": 229,
     "metadata": {},
     "output_type": "execute_result"
    }
   ],
   "source": [
    "sorted(CW.items(), key = lambda x:x[1])[::-1][:100]"
   ]
  },
  {
   "cell_type": "code",
   "execution_count": 316,
   "metadata": {
    "ExecuteTime": {
     "end_time": "2020-06-11T16:21:34.333436Z",
     "start_time": "2020-06-11T16:21:32.653516Z"
    }
   },
   "outputs": [],
   "source": [
    "w = '时间'\n",
    "neb = [i for i in P[w] if (i in int_N and i in P2[w])]\n",
    "if len(neb)>5:\n",
    "    r1 = [P[w][i] for i in neb]\n",
    "    r2 = [P2[w][i] for i in neb]\n",
    "    cor = scipy.stats.spearmanr(r1,r2)[0]"
   ]
  },
  {
   "cell_type": "code",
   "execution_count": 320,
   "metadata": {
    "ExecuteTime": {
     "end_time": "2020-06-11T16:23:18.245089Z",
     "start_time": "2020-06-11T16:23:16.134746Z"
    }
   },
   "outputs": [],
   "source": [
    "w = '女性'\n",
    "neb = [i for i in P[w] if (i in int_N and i in P2[w])]\n",
    "if len(neb)>5:\n",
    "    r1 = [P[w][i] for i in neb]\n",
    "    r2 = [P2[w][i] for i in neb]\n",
    "    cor = scipy.stats.spearmanr(r1,r2)[0]"
   ]
  },
  {
   "cell_type": "code",
   "execution_count": 321,
   "metadata": {
    "ExecuteTime": {
     "end_time": "2020-06-11T16:23:19.407890Z",
     "start_time": "2020-06-11T16:23:19.404294Z"
    }
   },
   "outputs": [
    {
     "data": {
      "text/plain": [
       "0.26396854980377493"
      ]
     },
     "execution_count": 321,
     "metadata": {},
     "output_type": "execute_result"
    }
   ],
   "source": [
    "cor"
   ]
  },
  {
   "cell_type": "code",
   "execution_count": 319,
   "metadata": {
    "ExecuteTime": {
     "end_time": "2020-06-11T16:23:04.421515Z",
     "start_time": "2020-06-11T16:23:04.403788Z"
    },
    "collapsed": true
   },
   "outputs": [
    {
     "data": {
      "text/plain": [
       "['双休',\n",
       " '工作',\n",
       " '弹性',\n",
       " '感兴趣',\n",
       " '地方',\n",
       " '小朋友',\n",
       " '散步',\n",
       " '朋友',\n",
       " '空闲',\n",
       " '上车',\n",
       " '走',\n",
       " '记录',\n",
       " '孩子',\n",
       " '见面',\n",
       " '小区',\n",
       " '新闻',\n",
       " '来源',\n",
       " '消息',\n",
       " '深圳',\n",
       " '资讯',\n",
       " '价值',\n",
       " '劳动',\n",
       " '女性',\n",
       " '家人',\n",
       " '市场',\n",
       " '烧菜',\n",
       " '上门',\n",
       " '大哥',\n",
       " '精力',\n",
       " '回家',\n",
       " '点儿',\n",
       " '问',\n",
       " '信息',\n",
       " '医生',\n",
       " '医院',\n",
       " '床位',\n",
       " '手术',\n",
       " '浪费',\n",
       " '钱',\n",
       " '评论',\n",
       " '软件',\n",
       " '量',\n",
       " '小说',\n",
       " '总会',\n",
       " '天',\n",
       " '工厂',\n",
       " '期',\n",
       " '制度性',\n",
       " '原因',\n",
       " '外界',\n",
       " '村',\n",
       " '程序',\n",
       " '时机',\n",
       " '公司',\n",
       " '计划',\n",
       " '周',\n",
       " '关系',\n",
       " '学业',\n",
       " '年龄',\n",
       " '指数',\n",
       " '漫长',\n",
       " '中',\n",
       " '思路',\n",
       " '方向',\n",
       " '痛苦',\n",
       " '目标',\n",
       " '目的地',\n",
       " '盲目',\n",
       " '管理',\n",
       " '经验',\n",
       " '职业',\n",
       " '过程',\n",
       " '发展',\n",
       " '书',\n",
       " '事情',\n",
       " '时间',\n",
       " '宣传',\n",
       " '志愿者',\n",
       " '社区',\n",
       " '闲暇',\n",
       " '生命',\n",
       " '劳动节',\n",
       " '国际',\n",
       " '习惯',\n",
       " '新',\n",
       " '家务',\n",
       " '密集',\n",
       " '情绪',\n",
       " '前',\n",
       " '口',\n",
       " '电梯',\n",
       " '明白',\n",
       " '讲',\n",
       " '广州',\n",
       " '证明',\n",
       " '领导',\n",
       " '分',\n",
       " '办',\n",
       " '影响',\n",
       " '笑',\n",
       " '酒店',\n",
       " '长',\n",
       " '东西',\n",
       " '令',\n",
       " '少',\n",
       " '恐惧',\n",
       " '手机',\n",
       " '宝宝',\n",
       " '生产',\n",
       " '市',\n",
       " '指挥部',\n",
       " '口罩',\n",
       " '营业时间',\n",
       " '食物',\n",
       " '住',\n",
       " '开学',\n",
       " '母亲',\n",
       " '记者',\n",
       " '韩国',\n",
       " '亲人',\n",
       " '妇女',\n",
       " '宝贵',\n",
       " '家庭',\n",
       " '社交',\n",
       " '风险',\n",
       " '办公室',\n",
       " '情况',\n",
       " '内容',\n",
       " '动画片',\n",
       " '妈妈',\n",
       " '日记',\n",
       " '玩',\n",
       " '玩具',\n",
       " '画画',\n",
       " '太',\n",
       " '感觉',\n",
       " '生活',\n",
       " '武汉',\n",
       " '大胆',\n",
       " '客户',\n",
       " '家',\n",
       " '整理',\n",
       " '货物',\n",
       " '坐火车',\n",
       " '事实',\n",
       " '微信',\n",
       " '节点',\n",
       " '观点',\n",
       " '顺序',\n",
       " '化',\n",
       " '城市',\n",
       " '房子',\n",
       " '问号',\n",
       " '概念',\n",
       " '书写',\n",
       " '内心',\n",
       " '北京',\n",
       " '方式',\n",
       " '天气',\n",
       " '湖南',\n",
       " '协商',\n",
       " '地点',\n",
       " '老家',\n",
       " '温暖',\n",
       " '记忆',\n",
       " '风',\n",
       " '距离',\n",
       " '骗',\n",
       " '原本',\n",
       " '学校',\n",
       " '实验',\n",
       " '数据',\n",
       " '毕业',\n",
       " '老师',\n",
       " '干',\n",
       " '河南',\n",
       " '人员',\n",
       " '消耗',\n",
       " '季节',\n",
       " '空间',\n",
       " '菜',\n",
       " '价格',\n",
       " '新鲜',\n",
       " '大众',\n",
       " '男人',\n",
       " '学会',\n",
       " '老婆',\n",
       " '时代',\n",
       " '生育',\n",
       " '养育',\n",
       " '小孩',\n",
       " '陪伴',\n",
       " '活动',\n",
       " '音乐',\n",
       " '用心',\n",
       " '大学生',\n",
       " '太多',\n",
       " '女',\n",
       " '小时',\n",
       " '工作制',\n",
       " '东',\n",
       " '民事',\n",
       " '美国',\n",
       " '交代',\n",
       " '晚餐',\n",
       " '机器人',\n",
       " '交流',\n",
       " '聊天',\n",
       " '口气',\n",
       " '太阳',\n",
       " '餐厅',\n",
       " '厨房',\n",
       " '烤箱',\n",
       " '时期',\n",
       " '专业',\n",
       " '人生',\n",
       " '同学',\n",
       " '学生',\n",
       " '教练',\n",
       " '权利',\n",
       " '销售',\n",
       " '债务',\n",
       " '体重',\n",
       " '身体',\n",
       " '老公',\n",
       " '速度',\n",
       " '人身',\n",
       " '劳动者',\n",
       " '标准',\n",
       " '群',\n",
       " '证据',\n",
       " '司机',\n",
       " '困难',\n",
       " '应',\n",
       " '报警',\n",
       " '办法',\n",
       " '员工',\n",
       " '系统',\n",
       " '网易',\n",
       " '设置',\n",
       " '障碍',\n",
       " '概率',\n",
       " '能力',\n",
       " '想象',\n",
       " '理由',\n",
       " '花',\n",
       " '视频',\n",
       " '工具',\n",
       " '作品',\n",
       " '经济',\n",
       " '动作',\n",
       " '公交',\n",
       " '地铁',\n",
       " '大门',\n",
       " '节奏',\n",
       " '走路',\n",
       " '号码',\n",
       " '检查',\n",
       " '住址',\n",
       " '路',\n",
       " '杨',\n",
       " '饭',\n",
       " '护士',\n",
       " '外',\n",
       " '店',\n",
       " '真',\n",
       " '素质',\n",
       " '重',\n",
       " '京东',\n",
       " '淘宝',\n",
       " '旅行',\n",
       " '矛盾',\n",
       " '教会',\n",
       " '时',\n",
       " '风筝',\n",
       " '劳累',\n",
       " '心理',\n",
       " '死',\n",
       " '状态',\n",
       " '利用',\n",
       " '业余时间',\n",
       " '安静',\n",
       " '亮',\n",
       " '温馨',\n",
       " '节省',\n",
       " '爱',\n",
       " '美味',\n",
       " '价值观',\n",
       " '变化',\n",
       " '目的',\n",
       " '先',\n",
       " '公交车',\n",
       " '资料',\n",
       " '电影',\n",
       " '三中',\n",
       " '姑娘',\n",
       " '步行',\n",
       " '一楼',\n",
       " '房',\n",
       " '院',\n",
       " '份',\n",
       " '伤',\n",
       " '气',\n",
       " '租房',\n",
       " '整整',\n",
       " '压力',\n",
       " '时光',\n",
       " '街',\n",
       " '产品',\n",
       " '营销',\n",
       " '同龄人',\n",
       " '女人',\n",
       " '话题',\n",
       " '影子',\n",
       " '可能性',\n",
       " '学',\n",
       " '性别',\n",
       " '理科',\n",
       " '评价',\n",
       " '辅导',\n",
       " '苹果',\n",
       " '水',\n",
       " '热',\n",
       " '衣服',\n",
       " '火车',\n",
       " '病',\n",
       " '火车站',\n",
       " '太久',\n",
       " '所有人',\n",
       " '道别',\n",
       " '父亲',\n",
       " '桥',\n",
       " '成',\n",
       " '刘',\n",
       " '技术',\n",
       " '照片',\n",
       " '老板',\n",
       " '爱心',\n",
       " '昆明',\n",
       " '花园',\n",
       " '读书',\n",
       " '空白',\n",
       " '经历',\n",
       " '收益',\n",
       " '交通',\n",
       " '巴士',\n",
       " '车',\n",
       " '小学',\n",
       " '讲话',\n",
       " '电话',\n",
       " '调整',\n",
       " '作业',\n",
       " '公园',\n",
       " '图书馆',\n",
       " '报',\n",
       " '私人',\n",
       " '衣食住行',\n",
       " '梦想',\n",
       " '黄金',\n",
       " '小费',\n",
       " '工资',\n",
       " '事',\n",
       " '快节奏',\n",
       " '感情',\n",
       " '双胞胎',\n",
       " '住院',\n",
       " '电动车',\n",
       " '条件',\n",
       " '早餐',\n",
       " '材料',\n",
       " '省',\n",
       " '调',\n",
       " '电',\n",
       " '电源',\n",
       " '鸡蛋',\n",
       " '精神',\n",
       " '厕所',\n",
       " '头',\n",
       " '空气',\n",
       " '环境',\n",
       " '过长',\n",
       " '公益',\n",
       " '咨询',\n",
       " '师',\n",
       " '心理健康',\n",
       " '技巧',\n",
       " '资源',\n",
       " '图片',\n",
       " '摄影',\n",
       " '雨',\n",
       " '行李',\n",
       " '写字楼',\n",
       " '市区',\n",
       " '关心',\n",
       " '机会',\n",
       " '定期',\n",
       " '二维码',\n",
       " '器',\n",
       " '账',\n",
       " '麻烦',\n",
       " '尝试',\n",
       " '循环',\n",
       " '消费',\n",
       " '质量',\n",
       " '分配',\n",
       " '次数',\n",
       " '工人',\n",
       " '流动性',\n",
       " '同事',\n",
       " '例子',\n",
       " '答案',\n",
       " '项目',\n",
       " '信用卡',\n",
       " '全国',\n",
       " '天涯',\n",
       " '普普通通',\n",
       " '午餐',\n",
       " '张',\n",
       " '国家',\n",
       " '领',\n",
       " '业务',\n",
       " '分部',\n",
       " '待遇',\n",
       " '模式',\n",
       " '商品',\n",
       " '实惠',\n",
       " '人群',\n",
       " '分析',\n",
       " '肉',\n",
       " '防线',\n",
       " '套餐',\n",
       " '学员',\n",
       " '学费',\n",
       " '涨',\n",
       " '体会',\n",
       " '历史',\n",
       " '父母',\n",
       " '单方面',\n",
       " '区别',\n",
       " '单位',\n",
       " '集',\n",
       " '网购',\n",
       " '总',\n",
       " '手表',\n",
       " '背',\n",
       " '背包',\n",
       " '事务',\n",
       " '自行车',\n",
       " '西安',\n",
       " '顶',\n",
       " '食堂',\n",
       " '农村',\n",
       " '思想',\n",
       " '婴儿',\n",
       " '腰',\n",
       " '自学',\n",
       " '费用',\n",
       " '心情',\n",
       " '手段',\n",
       " '花费',\n",
       " '金钱',\n",
       " '儿子',\n",
       " '读',\n",
       " '女方',\n",
       " '数额',\n",
       " '行情',\n",
       " '世界',\n",
       " '关键',\n",
       " '土地',\n",
       " '路程',\n",
       " '处',\n",
       " '幼儿园',\n",
       " '我会',\n",
       " '商铺',\n",
       " '车辆',\n",
       " '马路',\n",
       " '毒',\n",
       " '队伍',\n",
       " '日子',\n",
       " '服务',\n",
       " '高',\n",
       " '高价',\n",
       " '全职',\n",
       " '上学',\n",
       " '哥哥',\n",
       " '延后',\n",
       " '爸爸',\n",
       " '感性',\n",
       " '商场',\n",
       " '客车',\n",
       " '房间',\n",
       " '伴侣',\n",
       " '小伙伴',\n",
       " '电脑',\n",
       " '办理',\n",
       " '变动',\n",
       " '合格',\n",
       " '外地',\n",
       " '政策',\n",
       " '证件',\n",
       " '企业',\n",
       " '期限',\n",
       " '法律',\n",
       " '现实',\n",
       " '职场',\n",
       " '抗衡',\n",
       " '阳光',\n",
       " '医疗',\n",
       " '建议',\n",
       " '梦',\n",
       " '残疾人',\n",
       " '弟弟',\n",
       " '镇',\n",
       " '高强度',\n",
       " '宿舍',\n",
       " '激情',\n",
       " '猫',\n",
       " '政府',\n",
       " '美容',\n",
       " '行业',\n",
       " '助理',\n",
       " '性',\n",
       " '脑子里',\n",
       " '文字',\n",
       " '制度',\n",
       " '卫生',\n",
       " '婚姻',\n",
       " '段',\n",
       " '大人',\n",
       " '小孩子',\n",
       " '妻子',\n",
       " '心',\n",
       " '排队',\n",
       " '招',\n",
       " '专家',\n",
       " '头像',\n",
       " '学者',\n",
       " '乘客',\n",
       " '女子',\n",
       " '微商',\n",
       " '朋友圈',\n",
       " '直播',\n",
       " '成本',\n",
       " '技能',\n",
       " '社会',\n",
       " '假装',\n",
       " '体验',\n",
       " '服用',\n",
       " '自动',\n",
       " '购物',\n",
       " '客服',\n",
       " '平台',\n",
       " '水果',\n",
       " '长大',\n",
       " '运气',\n",
       " '资格',\n",
       " '错误',\n",
       " '老人',\n",
       " '滴滴',\n",
       " '猜测',\n",
       " '听力',\n",
       " '女孩',\n",
       " '美丽',\n",
       " '客人',\n",
       " '款',\n",
       " '错',\n",
       " '责任',\n",
       " '工作室',\n",
       " '妈',\n",
       " '眼泪',\n",
       " '换',\n",
       " '大姐',\n",
       " '男',\n",
       " '普及',\n",
       " '情感',\n",
       " '打工者',\n",
       " '现实生活',\n",
       " '现象',\n",
       " '东站',\n",
       " '圈子',\n",
       " '代价',\n",
       " '手脚',\n",
       " '月份',\n",
       " '桌子',\n",
       " '门',\n",
       " '塑料',\n",
       " '女士',\n",
       " '商店',\n",
       " '短时间',\n",
       " '面',\n",
       " '纽约',\n",
       " '优势',\n",
       " '毕业生',\n",
       " '竞争',\n",
       " '礼物',\n",
       " '兴趣',\n",
       " '学术',\n",
       " '时刻',\n",
       " '当众',\n",
       " '阿姨',\n",
       " '利润',\n",
       " '力度',\n",
       " '外包',\n",
       " '工时',\n",
       " '程度',\n",
       " '综合',\n",
       " '补钙',\n",
       " '功夫',\n",
       " '大学',\n",
       " '供',\n",
       " '事业',\n",
       " '风格',\n",
       " '中学',\n",
       " '买房',\n",
       " '学区',\n",
       " '购房',\n",
       " '山路',\n",
       " '人数',\n",
       " '事件',\n",
       " '对象',\n",
       " '旺季',\n",
       " '人体',\n",
       " '意识',\n",
       " '机械',\n",
       " '友谊',\n",
       " '部门',\n",
       " '热水',\n",
       " '事由',\n",
       " '依法',\n",
       " '协议',\n",
       " '当事人',\n",
       " '消失',\n",
       " '未果',\n",
       " '线',\n",
       " '伙伴',\n",
       " '胸痛',\n",
       " '寒风',\n",
       " '男生',\n",
       " '学堂',\n",
       " '观澜',\n",
       " '长假',\n",
       " '亲',\n",
       " '传播',\n",
       " '基金',\n",
       " '天使',\n",
       " '细节',\n",
       " '年轻人',\n",
       " '福利',\n",
       " '前段时间',\n",
       " '纪录',\n",
       " '纸',\n",
       " '体力',\n",
       " '制造业',\n",
       " '劳动力',\n",
       " '县城',\n",
       " '底薪',\n",
       " '车子',\n",
       " '大雨',\n",
       " '实验室',\n",
       " '单身',\n",
       " '口语',\n",
       " '英语',\n",
       " '语言',\n",
       " '健身房',\n",
       " '地球',\n",
       " '心态',\n",
       " '车主',\n",
       " '住处',\n",
       " '车站',\n",
       " '情谊',\n",
       " '步伐',\n",
       " '五险',\n",
       " '交',\n",
       " '长达',\n",
       " '婚礼',\n",
       " '热情',\n",
       " '河',\n",
       " '船',\n",
       " '巨星',\n",
       " '影院',\n",
       " '汗',\n",
       " '工作日',\n",
       " '态度',\n",
       " '老爸',\n",
       " '厂',\n",
       " '生理',\n",
       " '证',\n",
       " '意义',\n",
       " '班',\n",
       " '力量',\n",
       " '小憩',\n",
       " '环卫工人',\n",
       " '化妆',\n",
       " '宅',\n",
       " '粉底',\n",
       " '加工',\n",
       " '料',\n",
       " '费',\n",
       " '案件',\n",
       " '阶段',\n",
       " '地下室',\n",
       " '感',\n",
       " '病情',\n",
       " '锅',\n",
       " '手工',\n",
       " '高温',\n",
       " '创业者',\n",
       " '用户',\n",
       " '培训',\n",
       " '代表',\n",
       " '数量',\n",
       " '树',\n",
       " '条',\n",
       " '研究',\n",
       " '狗',\n",
       " '爱情',\n",
       " '短信',\n",
       " '考试',\n",
       " '网络',\n",
       " '集体',\n",
       " '教',\n",
       " '成绩',\n",
       " '数学',\n",
       " '拉',\n",
       " '经理',\n",
       " '索性',\n",
       " '假',\n",
       " '套路',\n",
       " '英国',\n",
       " '体型',\n",
       " '熊猫',\n",
       " '胖',\n",
       " '背景',\n",
       " '中国',\n",
       " '工位',\n",
       " '手',\n",
       " '汽车',\n",
       " '行政',\n",
       " '部位',\n",
       " '姑奶奶',\n",
       " '交友',\n",
       " '嘉宾',\n",
       " '游戏',\n",
       " '约会',\n",
       " '优质',\n",
       " '会员',\n",
       " '效率',\n",
       " '苏州',\n",
       " '缘分',\n",
       " '印象',\n",
       " '强势',\n",
       " '生肖',\n",
       " '等待时间',\n",
       " '主席',\n",
       " '工作人员',\n",
       " '成员',\n",
       " '网友',\n",
       " '对话',\n",
       " '效果',\n",
       " '时尚',\n",
       " '正常人',\n",
       " '坦白',\n",
       " '祝福',\n",
       " '副总经理',\n",
       " '三星',\n",
       " '章',\n",
       " '典型',\n",
       " '冬',\n",
       " '好事',\n",
       " '年薪',\n",
       " '高管',\n",
       " '美',\n",
       " '角色',\n",
       " '国产',\n",
       " '审查',\n",
       " '槽',\n",
       " '电视剧',\n",
       " '云南',\n",
       " '工作量',\n",
       " '岗位',\n",
       " '动力',\n",
       " '重点',\n",
       " '学历',\n",
       " '教育部',\n",
       " '机构',\n",
       " '品牌',\n",
       " '意见',\n",
       " '话',\n",
       " '建筑',\n",
       " '金',\n",
       " '小雨',\n",
       " '道',\n",
       " '隐形',\n",
       " '台',\n",
       " '观众',\n",
       " '情',\n",
       " '品',\n",
       " '入学',\n",
       " '分数线',\n",
       " '家长',\n",
       " '心理学',\n",
       " '汗水',\n",
       " '海鲜',\n",
       " '票',\n",
       " '原则',\n",
       " '取得联系',\n",
       " '血流',\n",
       " '危险',\n",
       " '客气',\n",
       " '罗',\n",
       " '违法',\n",
       " '小组',\n",
       " '戏剧',\n",
       " '刊物',\n",
       " '读者',\n",
       " '通讯',\n",
       " '粥',\n",
       " '文章',\n",
       " '盈利',\n",
       " '字',\n",
       " '间隙',\n",
       " '嫌疑人',\n",
       " '成年人',\n",
       " '抗争',\n",
       " '规律',\n",
       " '机',\n",
       " '股票',\n",
       " '威胁',\n",
       " '谈',\n",
       " '原',\n",
       " '学习成绩',\n",
       " '心思',\n",
       " '儿童',\n",
       " '医疗保险',\n",
       " '参加考试',\n",
       " '收费',\n",
       " '民办学校',\n",
       " '试卷',\n",
       " '城里人',\n",
       " '教育',\n",
       " '社会福利',\n",
       " '大字',\n",
       " '工业区',\n",
       " '表',\n",
       " '调查',\n",
       " '进展',\n",
       " '饥饿',\n",
       " '医学',\n",
       " '根治',\n",
       " '下午茶',\n",
       " '亮度',\n",
       " '空调',\n",
       " '高龄',\n",
       " '名',\n",
       " '前辈',\n",
       " '角度',\n",
       " '箱',\n",
       " '影视',\n",
       " '主',\n",
       " '文案',\n",
       " '硬件',\n",
       " '策划',\n",
       " '训练',\n",
       " '书籍',\n",
       " '教授',\n",
       " '无缝',\n",
       " '权力',\n",
       " '气质',\n",
       " '大赛',\n",
       " '奖金',\n",
       " '比例',\n",
       " '外贸',\n",
       " '名片',\n",
       " '大巴',\n",
       " '订票',\n",
       " '唐山',\n",
       " '河北',\n",
       " '生活习惯',\n",
       " '现场',\n",
       " '小李',\n",
       " '黑',\n",
       " '指',\n",
       " '作息时间',\n",
       " '稿',\n",
       " '运营',\n",
       " '闲',\n",
       " '叔',\n",
       " '区域',\n",
       " '垃圾',\n",
       " '车次',\n",
       " '气味',\n",
       " '烟草',\n",
       " '兄弟',\n",
       " '杭州',\n",
       " '疾病',\n",
       " '肌肉',\n",
       " '施工',\n",
       " '班次',\n",
       " '创业',\n",
       " '广播',\n",
       " '文化',\n",
       " '节目',\n",
       " '康复',\n",
       " '病人',\n",
       " '免费',\n",
       " '子女',\n",
       " '恶',\n",
       " '理论',\n",
       " '重庆',\n",
       " '胜任',\n",
       " '铜',\n",
       " '名额',\n",
       " '女生',\n",
       " '屏幕',\n",
       " '数字',\n",
       " '差异',\n",
       " '上线',\n",
       " '流程',\n",
       " '发',\n",
       " '话费',\n",
       " '陌生',\n",
       " '长沙',\n",
       " '游泳',\n",
       " '经营',\n",
       " '胡',\n",
       " '基层',\n",
       " '平',\n",
       " '洗衣服',\n",
       " '腿',\n",
       " '上衣',\n",
       " '活跃',\n",
       " '中断',\n",
       " '指导',\n",
       " '比赛',\n",
       " '球迷',\n",
       " '精彩',\n",
       " '决赛',\n",
       " '广告',\n",
       " '秒',\n",
       " '有空',\n",
       " '演唱会',\n",
       " '乐队',\n",
       " '娱乐',\n",
       " '时段',\n",
       " '作',\n",
       " '强度',\n",
       " '温度',\n",
       " '粉丝',\n",
       " '账号',\n",
       " '股东',\n",
       " '股东大会',\n",
       " '股权',\n",
       " '代理',\n",
       " '损失',\n",
       " '旅游',\n",
       " '总体',\n",
       " '证书',\n",
       " '白费',\n",
       " '研究员',\n",
       " '研究所',\n",
       " '传统',\n",
       " '中心',\n",
       " '人口',\n",
       " '复旦大学',\n",
       " '机制',\n",
       " '覆盖范围',\n",
       " '名称',\n",
       " '省略',\n",
       " '编号',\n",
       " '项',\n",
       " '精准',\n",
       " '信心',\n",
       " '恶心',\n",
       " '环节',\n",
       " '行',\n",
       " '年龄段',\n",
       " '测量',\n",
       " '监督',\n",
       " '策略',\n",
       " '设计',\n",
       " '调研',\n",
       " '长度',\n",
       " '沃尔玛',\n",
       " '高峰',\n",
       " '地区',\n",
       " '视觉',\n",
       " '任性',\n",
       " '脾气',\n",
       " '重大损失',\n",
       " '基本相同',\n",
       " '法定',\n",
       " '人事',\n",
       " '月度',\n",
       " '需',\n",
       " '基础',\n",
       " '波动',\n",
       " '前提',\n",
       " '总量',\n",
       " '营业',\n",
       " '事项',\n",
       " ...]"
      ]
     },
     "execution_count": 319,
     "metadata": {},
     "output_type": "execute_result"
    }
   ],
   "source": [
    "neb"
   ]
  },
  {
   "cell_type": "code",
   "execution_count": 255,
   "metadata": {
    "ExecuteTime": {
     "end_time": "2020-06-11T15:51:07.592130Z",
     "start_time": "2020-06-11T15:51:07.589574Z"
    }
   },
   "outputs": [],
   "source": [
    "neb\n",
    "neb_ = [\"old-age Insurance\" , \"treatment\" , \"old-age pension\" , \"urban workers\" , \"average wage\" , \"current\"]"
   ]
  },
  {
   "cell_type": "code",
   "execution_count": 322,
   "metadata": {
    "ExecuteTime": {
     "end_time": "2020-06-11T16:23:23.414180Z",
     "start_time": "2020-06-11T16:23:23.275992Z"
    }
   },
   "outputs": [
    {
     "data": {
      "image/png": "[encoded data removed]",
      "text/plain": [
       "<Figure size 432x288 with 1 Axes>"
      ]
     },
     "metadata": {
      "needs_background": "light"
     },
     "output_type": "display_data"
    }
   ],
   "source": [
    "plt.scatter(r2,r1,s = 80)\n",
    "# for i,w in enumerate(neb):\n",
    "#     plt.text(r2[i],r1[i],neb_[i])\n",
    "plt.show()"
   ]
  },
  {
   "cell_type": "code",
   "execution_count": 259,
   "metadata": {
    "ExecuteTime": {
     "end_time": "2020-06-11T15:55:54.200564Z",
     "start_time": "2020-06-11T15:55:54.155046Z"
    }
   },
   "outputs": [],
   "source": [
    "w = '钢琴'\n",
    "neb = [i for i in P[w] if (i in int_N and i in P2[w])]\n",
    "if len(neb)>5:\n",
    "    r1 = [P[w][i] for i in neb]\n",
    "    r2 = [P2[w][i] for i in neb]\n",
    "    cor = scipy.stats.spearmanr(r1,r2)[0]"
   ]
  },
  {
   "cell_type": "code",
   "execution_count": 262,
   "metadata": {
    "ExecuteTime": {
     "end_time": "2020-06-11T15:56:36.347381Z",
     "start_time": "2020-06-11T15:56:36.340416Z"
    }
   },
   "outputs": [],
   "source": [
    "neb = ['钢琴','大学', '学校', '音乐', '塞进', '教育', '母亲']\n",
    "neb_ = ['piano','university' , 'school' , 'music' , 'stuff' , 'education' , 'mother']"
   ]
  },
  {
   "cell_type": "code",
   "execution_count": 269,
   "metadata": {
    "ExecuteTime": {
     "end_time": "2020-06-11T15:58:39.758157Z",
     "start_time": "2020-06-11T15:58:39.623470Z"
    }
   },
   "outputs": [
    {
     "data": {
      "image/png": "[encoded data removed]",
      "text/plain": [
       "<Figure size 432x288 with 1 Axes>"
      ]
     },
     "metadata": {
      "needs_background": "light"
     },
     "output_type": "display_data"
    }
   ],
   "source": [
    "plt.scatter(r2,r1,s = 80,alpha = 0.5)\n",
    "for i,w in enumerate(neb):\n",
    "    plt.text(r2[i],r1[i],neb_[i])\n",
    "plt.show()\n",
    "# plt.xlabel('Xinlang pmi',size = 20)\n",
    "# plt.ylabel('Jianjiao pmi',size = 20)\n",
    "# plt.title('Piano',size =20)"
   ]
  },
  {
   "cell_type": "code",
   "execution_count": null,
   "metadata": {},
   "outputs": [],
   "source": []
  },
  {
   "cell_type": "code",
   "execution_count": null,
   "metadata": {},
   "outputs": [],
   "source": []
  },
  {
   "cell_type": "code",
   "execution_count": null,
   "metadata": {},
   "outputs": [],
   "source": []
  },
  {
   "cell_type": "markdown",
   "metadata": {
    "ExecuteTime": {
     "end_time": "2020-06-11T13:39:17.843555Z",
     "start_time": "2020-06-11T13:39:17.838728Z"
    }
   },
   "source": [
    "# add adj. and verb, adv. to our vocabulary networks"
   ]
  },
  {
   "cell_type": "code",
   "execution_count": 335,
   "metadata": {
    "ExecuteTime": {
     "end_time": "2020-06-11T16:58:30.931356Z",
     "start_time": "2020-06-11T16:58:15.937036Z"
    }
   },
   "outputs": [],
   "source": [
    "#All these packages need to be installed from pip\n",
    "import gensim#For word2vec, etc\n",
    "import requests #For downloading our datasets\n",
    "\n",
    "\n",
    "import numpy as np #For arrays\n",
    "import pandas #Gives us DataFrames\n",
    "import matplotlib.pyplot as plt #For graphics\n",
    "import seaborn #Makes the graphics look nicer\n",
    "import sklearn.metrics.pairwise #For cosine similarity\n",
    "import sklearn.manifold #For T-SNE\n",
    "import sklearn.decomposition #For PCA\n",
    "\n",
    "#This 'magic' command makes the plots work better\n",
    "#in the notebook, don't use it outside of a notebook.\n",
    "#Also you can ignore the warning\n",
    "%matplotlib inline\n",
    "\n",
    "import os #For looking through files\n",
    "import os.path #For managing file paths"
   ]
  },
  {
   "cell_type": "code",
   "execution_count": 365,
   "metadata": {
    "ExecuteTime": {
     "end_time": "2020-06-11T17:15:16.797889Z",
     "start_time": "2020-06-11T17:15:16.791425Z"
    }
   },
   "outputs": [],
   "source": [
    "def Coloring(Series):\n",
    "    x = Series.values\n",
    "    y = x-x.min()\n",
    "    z = y/y.max()\n",
    "    c = list(plt.cm.rainbow(z))\n",
    "    return c\n",
    "\n",
    "def PlotDimension(ax,df, dim,w_en):\n",
    "    ax.set_frame_on(False)\n",
    "    ax.set_title(dim, fontsize = 20)\n",
    "    colors = Coloring(df[dim])\n",
    "    for i, word in enumerate(df.index):\n",
    "        ax.annotate(w_en[word], (0, df[dim][i]), color = colors[i], alpha = 0.6, fontsize = 20)\n",
    "    MaxY = df[dim].max()\n",
    "    MinY = df[dim].min()\n",
    "    plt.ylim(MinY,MaxY)\n",
    "    plt.yticks(())\n",
    "    plt.xticks(())"
   ]
  },
  {
   "cell_type": "code",
   "execution_count": 354,
   "metadata": {
    "ExecuteTime": {
     "end_time": "2020-06-11T17:12:15.001209Z",
     "start_time": "2020-06-11T17:12:14.996939Z"
    }
   },
   "outputs": [],
   "source": [
    "def makeDF(model, word_list):\n",
    "    p = []\n",
    "    v = []\n",
    "    for word in word_list:\n",
    "        #g.append(sklearn.metrics.pairwise.cosine_similarity(nytimes_model[word].reshape(1,-1), Gender.reshape(1,-1))[0][0])\n",
    "        p.append(sklearn.metrics.pairwise.cosine_similarity(model[word].reshape(1,-1), Pride.reshape(1,-1))[0][0])\n",
    "        #v.append(sklearn.metrics.pairwise.cosine_similarity(model[word].reshape(1,-1), value.reshape(1,-1))[0][0])\n",
    "        #s.append(sklearn.metrics.pairwise.cosine_similarity(nytimes_model[word].reshape(1,-1), Safety.reshape(1,-1))[0][0])\n",
    "    df = pandas.DataFrame({'pride': p}, index = word_list)\n",
    "    return df"
   ]
  },
  {
   "cell_type": "code",
   "execution_count": 338,
   "metadata": {
    "ExecuteTime": {
     "end_time": "2020-06-11T17:00:37.222545Z",
     "start_time": "2020-06-11T17:00:37.218208Z"
    }
   },
   "outputs": [],
   "source": [
    "def normalize(vector):\n",
    "    #if np.linalg.norm(vector) == 0:\n",
    "        #print(vector)\n",
    "    normalized_vector = vector / np.sqrt(np.sum(vector*vector))\n",
    "    return normalized_vector\n",
    "\n",
    "def dimension(model, positives, negatives):\n",
    "    diff = sum([normalize(model[x]) for x in positives]) - sum([normalize(model[y]) for y in negatives])\n",
    "    return diff"
   ]
  },
  {
   "cell_type": "code",
   "execution_count": 323,
   "metadata": {
    "ExecuteTime": {
     "end_time": "2020-06-11T16:37:47.584877Z",
     "start_time": "2020-06-11T16:34:25.080208Z"
    }
   },
   "outputs": [
    {
     "name": "stdout",
     "output_type": "stream",
     "text": [
      "23.0"
     ]
    }
   ],
   "source": [
    "import jieba.posseg as pseg\n",
    "N_ = set()\n",
    "n = 0\n",
    "for a in list(df[1]):\n",
    "    n+=1\n",
    "    if n%100 == 0:\n",
    "        flushPrint(n/100)\n",
    "    try:\n",
    "        a = a.split('\\n')\n",
    "        for s in a:\n",
    "            words = pseg.cut(s)\n",
    "            for w in words:\n",
    "                if 'n' in w.flag or 'a' in w.flag:\n",
    "                    N_.add(w.word)\n",
    "    except:\n",
    "        pass\n",
    "    \n",
    "# 23  "
   ]
  },
  {
   "cell_type": "code",
   "execution_count": 503,
   "metadata": {
    "ExecuteTime": {
     "end_time": "2020-06-13T15:34:49.600110Z",
     "start_time": "2020-06-13T15:34:49.590615Z"
    }
   },
   "outputs": [
    {
     "data": {
      "text/plain": [
       "2280"
      ]
     },
     "execution_count": 503,
     "metadata": {},
     "output_type": "execute_result"
    }
   ],
   "source": [
    "len(sentence_g)"
   ]
  },
  {
   "cell_type": "code",
   "execution_count": 502,
   "metadata": {
    "ExecuteTime": {
     "end_time": "2020-06-12T02:49:47.627496Z",
     "start_time": "2020-06-12T02:49:47.435214Z"
    }
   },
   "outputs": [
    {
     "name": "stdout",
     "output_type": "stream",
     "text": [
      "['1993', '年', '第一名', '成绩', '毕业', '上海音乐学院', '钢琴', '作曲系'] \n",
      "\n",
      "['见过', '李泉', '最深', '印象', '钢琴'] \n",
      "\n",
      "['钢琴', '之于', '剑', '之于', '骑士', '花之于', '少女', '月', '之于', '星河'] \n",
      "\n",
      "['音感', '罗小白', '爆料', '说', '小时候', '音痴', '钢琴', 'Do', '找', '不到', '罗小白现', '上行', '娱乐', '旗下', '艺人', '受邀', '国内', '小型', '活动', '国外', '演出', '更是', '屡见不鲜', '出书', '近期', '发行', 'EP', '举办', '众筹', '活动', '预计', '开', '大型', '音乐会'] \n",
      "\n",
      "['大学', '时', '音乐', '天赋', '钢琴', '管风琴', '大提琴'] \n",
      "\n",
      "['钢琴', '创造', '管弦乐', '效果', '首创', '背谱', '演奏法', '钢琴', '巨大贡献', '钢琴', '之王', '美称'] \n",
      "\n",
      "['2015', '年', '月', '25', '日', '21', '时许', '司机', '方某', '驾驶', '一辆', '牌照', '为津', 'RG8363', '江铃', '面包车', '张', '驾驶', '津', 'RN7836', '长安', '越野', '吉普车', '武清区', '京沪', '高速', '北京', '方向', '发生', '追尾', '碰撞', '面包车', '车辆', '及车', '钢琴', '高档', '红木家具', '受损', '方某', '中国', '人寿', '财产', '保险公司', '索赔', '人民币', '138720', '元'] \n",
      "\n",
      "['老方', '先是', '赶集网', '搜索', '武警', '附属', '医院', '旁边', '一家', '钢琴', '学校', '二手钢琴', '斥资', '万元', '买', '一架', '二手钢琴', '二人', '前往', '河北省', '大城县', '花', '4000', '元', '买', '一对', '假', '红木', '圈椅'] \n",
      "\n",
      "['凑足', '装备', '案发', '当晚', '老方', '张', '钢琴', '圈椅', '家中', '一台', '老旧', '液晶电视', '一股脑', '塞进', '面包车', '安排', '儿子', '方某', '面包车', '开到', '津', '沧', '高速', '静海', '段', '等候'] \n",
      "\n",
      "['报警', '老方', '声称', '除车', '损外', '车', '钢琴', '价值', '万元', '红木家具', '更是', '价值', '不菲'] \n",
      "\n",
      "['老方', '利用', '提前', '伪造', '钢琴', '圈椅', '假发票', '物价局', '定损', '手续', '齐备', '保险公司', '只得', '最终', '定损', '1387', '万元', '理赔', '支付现金'] \n",
      "\n",
      "['11', '月', '11', '日', '19', '30', '锦城', '艺术宫', '280', '1500', '元', '鲁宾斯坦', '钢琴', '大赛', '荣誉', '演奏会', '回归', '原始', '钢琴', '音色', '令人', '期待'] \n",
      "\n",
      "['12', '月', '28', '日', '成都', '电子科', '体育馆', '280', '1280', '元', '秋日', '私语', '梦中', '婚礼', '命运', '钢琴', '迷', '丝毫', '不亚于', '一场', '超级', '巨星', '演唱会'] \n",
      "\n",
      "['发布会', '开场', '表演', '嘉宾', '亚洲', '流行', '钢琴', '鬼才', 'V', 'K', '克', '携手', '波士顿', '室内', '交响乐团', 'BCO', '抒写', '亲情', '爱情', '权力', '背叛', '阴谋', '交织', '宿命', '原', '声', '音乐', '故事', '指环王', '系列', '奥斯卡', '最佳', '艺术', '指导', '获得者', 'Dan', 'Hennah', '丹', '汉纳', '出任', '制作', '设计师', '创纪录', '量级', '精锐', '制作', '团队', '呈现', '高品质', '魔幻', '大片', '国产', '电视剧', '界', '前所未有', '突破'] \n",
      "\n",
      "['普密蓬', '小时候', '跟随', '母亲', '瑞士', '念书', '继承', '哈佛大学', '毕业', '父亲', '才情', '勤勉', '成绩优秀', '说', '英法', '语言', '热爱', '钢琴', '摄影', '曲棍球', '帆船', '运动', '一句', '话', '妥妥', '文艺', '男青年'] \n",
      "\n",
      "['钢琴', '画笔', '水', '写布', '面对', '市场', '琳琅满目', '产品', '家长', '选择', '最贵', '其实不然', '艺术', '培训', '教育', '所用', '必需品', '消耗品', '选择', '适合'] \n",
      "\n"
     ]
    }
   ],
   "source": [
    "n = 0\n",
    "for s in sentence_g:\n",
    "    for i in s:\n",
    "        n += 1\n",
    "        if n == 10:\n",
    "            break\n",
    "        if '钢琴' in i:\n",
    "            print(i,'\\n')"
   ]
  },
  {
   "cell_type": "code",
   "execution_count": 501,
   "metadata": {
    "ExecuteTime": {
     "end_time": "2020-06-12T02:46:32.947753Z",
     "start_time": "2020-06-12T02:46:32.708842Z"
    }
   },
   "outputs": [
    {
     "name": "stdout",
     "output_type": "stream",
     "text": [
      "['陈嘉玲', '妈妈', '孩子', '写', '作业', '鸡毛掸子', '满屋子', '追', '会斥', '巨资', '女儿', '去学', '钢琴', '优越感', '懂得', '儿女', '快乐', '发现', '女儿', '学', '钢琴', '快乐', '狠下心来', '斥', '巨资', '买', '回家', '钢琴', '高级', '置物架'] \n",
      "\n",
      "['四所', '学校', '中', '长春', '大学', '开设', '面向', '视障', '学生', '音乐', '表演', '专业', '北京联合大学', '开设', '钢琴', '调率', '专业', '针灸', '推拿', '专业'] \n",
      "\n",
      "['外语翻译', '心理咨询', '钢琴', '调率', '速录', '客服', '坐席', '特殊教育', 'NGO', '网店', '经营', '品牌', '公关'] \n",
      "\n",
      "['很小', '阿宛', '该学', '东西', '选', '钢琴', '舞蹈', '我选'] \n",
      "\n",
      "['一家', '三口', '五口', '电视机', '电冰箱', '床铺', '钢琴', '塞进', '屋里', '拾掇', '有条有理', '日夜', '生活', '其间', '蜗居'] \n",
      "\n",
      "['相比', '户', '卓', '家', '比令', '居大', '平米', '女儿', '购置', '一台', '钢琴'] \n",
      "\n",
      "['重点', '小学', '重点中学', '师资', '力量', '城市', '家庭教育', '遗传', '因素', '父母', '受', '教育', '水平', '家庭', '经济', '条件', '影响', '子女', '教育', '城里', '小朋友', '学', '钢琴', '英语', '马术', '出国', '旅游', '补习班', '农村', '小朋友', '见到', '东西'] \n",
      "\n",
      "['城里', '音乐', '老师', '好心肠', '劝慰', '钱绒', '母亲', '学', '钢琴', '手指', '长', '细'] \n",
      "\n",
      "['贾姨吹', '萨克斯', '高雅', '音乐', '钢琴', '小提琴'] \n",
      "\n"
     ]
    }
   ],
   "source": [
    "n = 0\n",
    "for s in sentence_all:\n",
    "    for i in s:\n",
    "        n += 1\n",
    "        if n == 10:\n",
    "            break\n",
    "        if '钢琴' in i:\n",
    "            print(i,'\\n')"
   ]
  },
  {
   "cell_type": "code",
   "execution_count": 324,
   "metadata": {
    "ExecuteTime": {
     "end_time": "2020-06-11T16:38:02.341659Z",
     "start_time": "2020-06-11T16:38:02.338025Z"
    }
   },
   "outputs": [
    {
     "data": {
      "text/plain": [
       "51510"
      ]
     },
     "execution_count": 324,
     "metadata": {},
     "output_type": "execute_result"
    }
   ],
   "source": [
    "len(N_)"
   ]
  },
  {
   "cell_type": "code",
   "execution_count": 325,
   "metadata": {
    "ExecuteTime": {
     "end_time": "2020-06-11T16:39:35.380505Z",
     "start_time": "2020-06-11T16:38:13.488145Z"
    }
   },
   "outputs": [
    {
     "name": "stdout",
     "output_type": "stream",
     "text": [
      "22.0"
     ]
    }
   ],
   "source": [
    "import jieba.posseg as pseg\n",
    "N2_ = set()\n",
    "n = 0\n",
    "for a in S:\n",
    "    n+=1\n",
    "    if n%100 == 0:\n",
    "        flushPrint(n/100)\n",
    "    try:\n",
    "        a = a.split('\\n')\n",
    "        for s in a:\n",
    "            words = pseg.cut(s)\n",
    "            for w in words:\n",
    "                if 'n' in w.flag or 'a' in w.flag:\n",
    "                    N2_.add(w.word)\n",
    "    except:\n",
    "        pass\n",
    "    \n",
    "# 23  "
   ]
  },
  {
   "cell_type": "code",
   "execution_count": 326,
   "metadata": {
    "ExecuteTime": {
     "end_time": "2020-06-11T16:39:36.153535Z",
     "start_time": "2020-06-11T16:39:36.150096Z"
    }
   },
   "outputs": [
    {
     "data": {
      "text/plain": [
       "56781"
      ]
     },
     "execution_count": 326,
     "metadata": {},
     "output_type": "execute_result"
    }
   ],
   "source": [
    "len(N2_)"
   ]
  },
  {
   "cell_type": "code",
   "execution_count": 328,
   "metadata": {
    "ExecuteTime": {
     "end_time": "2020-06-11T16:39:51.937717Z",
     "start_time": "2020-06-11T16:39:51.927191Z"
    }
   },
   "outputs": [
    {
     "data": {
      "text/plain": [
       "24342"
      ]
     },
     "execution_count": 328,
     "metadata": {},
     "output_type": "execute_result"
    }
   ],
   "source": [
    "int_N_ = list(N_.intersection(N2_))\n",
    "len(int_N_)"
   ]
  },
  {
   "cell_type": "code",
   "execution_count": 329,
   "metadata": {
    "ExecuteTime": {
     "end_time": "2020-06-11T16:49:19.382403Z",
     "start_time": "2020-06-11T16:40:06.985134Z"
    }
   },
   "outputs": [
    {
     "name": "stdout",
     "output_type": "stream",
     "text": [
      "23.0"
     ]
    },
    {
     "data": {
      "text/plain": [
       "2318"
      ]
     },
     "execution_count": 329,
     "metadata": {},
     "output_type": "execute_result"
    }
   ],
   "source": [
    "s_p_n = []\n",
    "n=0\n",
    "for s in sentence_all:\n",
    "    n+=1\n",
    "    if n %100 == 0:\n",
    "        flushPrint(n/100)\n",
    "    s_ = []\n",
    "    for i in s:\n",
    "        s_.append([j for j in i if j in int_N_ and j in word_vectors.vocab])\n",
    "    if s_:\n",
    "        s_p_n.append(s_)\n",
    "len(s_p_n)\n",
    "# 23"
   ]
  },
  {
   "cell_type": "code",
   "execution_count": 330,
   "metadata": {
    "ExecuteTime": {
     "end_time": "2020-06-11T16:52:43.508471Z",
     "start_time": "2020-06-11T16:52:43.494301Z"
    }
   },
   "outputs": [],
   "source": [
    "data = []\n",
    "for s in s_p_n:\n",
    "    data+=s"
   ]
  },
  {
   "cell_type": "code",
   "execution_count": 331,
   "metadata": {
    "ExecuteTime": {
     "end_time": "2020-06-11T16:52:57.066119Z",
     "start_time": "2020-06-11T16:52:51.757914Z"
    }
   },
   "outputs": [],
   "source": [
    "w_model = gensim.models.word2vec.Word2Vec(size = 300, alpha=0.2,\n",
    "                                    window= 5,min_count=1,sg=1,\n",
    "                                    negative=2,hs=0,compute_loss = True)\n",
    "w_model.build_vocab(data)"
   ]
  },
  {
   "cell_type": "code",
   "execution_count": 332,
   "metadata": {
    "ExecuteTime": {
     "end_time": "2020-06-11T16:53:45.798397Z",
     "start_time": "2020-06-11T16:53:45.794617Z"
    }
   },
   "outputs": [
    {
     "data": {
      "text/plain": [
       "22853"
      ]
     },
     "execution_count": 332,
     "metadata": {},
     "output_type": "execute_result"
    }
   ],
   "source": [
    "len(w_model.wv.vocab)"
   ]
  },
  {
   "cell_type": "code",
   "execution_count": 333,
   "metadata": {
    "ExecuteTime": {
     "end_time": "2020-06-11T16:55:10.531303Z",
     "start_time": "2020-06-11T16:53:53.424529Z"
    }
   },
   "outputs": [
    {
     "data": {
      "text/plain": [
       "(68308881, 72507100)"
      ]
     },
     "execution_count": 333,
     "metadata": {},
     "output_type": "execute_result"
    }
   ],
   "source": [
    "w_model.train(data,total_examples=len(data),epochs = 100)"
   ]
  },
  {
   "cell_type": "code",
   "execution_count": null,
   "metadata": {},
   "outputs": [],
   "source": [
    "fig = plt.figure(figsize = (12,4))\n",
    "ax1 = fig.add_subplot(121)\n",
    "PlotDimension(ax1, df, 'price')\n",
    "ax2 = fig.add_subplot(122)\n",
    "PlotDimension(ax2, df, 'value')\n",
    "plt.savefig('price_dimension.jpg',format='jpg',dpi = 400)\n",
    "plt.show()"
   ]
  },
  {
   "cell_type": "code",
   "execution_count": 606,
   "metadata": {
    "ExecuteTime": {
     "end_time": "2020-06-13T22:14:42.441243Z",
     "start_time": "2020-06-13T22:14:42.403544Z"
    }
   },
   "outputs": [
    {
     "name": "stderr",
     "output_type": "stream",
     "text": [
      "/Users/linyiling/opt/anaconda3/lib/python3.7/site-packages/ipykernel_launcher.py:8: DeprecationWarning: Call to deprecated `__getitem__` (Method will be removed in 4.0.0, use self.wv.__getitem__() instead).\n",
      "  \n"
     ]
    }
   ],
   "source": [
    "Pride = dimension(w_model, ['笑声','笑','快乐'], ['无聊','琐碎','混日子'])\n"
   ]
  },
  {
   "cell_type": "code",
   "execution_count": 607,
   "metadata": {
    "ExecuteTime": {
     "end_time": "2020-06-13T22:14:43.043372Z",
     "start_time": "2020-06-13T22:14:43.039813Z"
    }
   },
   "outputs": [
    {
     "data": {
      "text/plain": [
       "False"
      ]
     },
     "execution_count": 607,
     "metadata": {},
     "output_type": "execute_result"
    }
   ],
   "source": [
    "'' in w_model.wv.vocab"
   ]
  },
  {
   "cell_type": "code",
   "execution_count": 608,
   "metadata": {
    "ExecuteTime": {
     "end_time": "2020-06-13T22:14:43.505806Z",
     "start_time": "2020-06-13T22:14:43.502311Z"
    }
   },
   "outputs": [
    {
     "data": {
      "text/plain": [
       "6041"
      ]
     },
     "execution_count": 608,
     "metadata": {},
     "output_type": "execute_result"
    }
   ],
   "source": [
    "x_['生活']"
   ]
  },
  {
   "cell_type": "code",
   "execution_count": 625,
   "metadata": {
    "ExecuteTime": {
     "end_time": "2020-06-14T23:14:43.183087Z",
     "start_time": "2020-06-14T23:14:43.141249Z"
    }
   },
   "outputs": [],
   "source": [
    "words_list = ['工作','生活','家庭']"
   ]
  },
  {
   "cell_type": "code",
   "execution_count": 626,
   "metadata": {
    "ExecuteTime": {
     "end_time": "2020-06-14T23:14:44.170361Z",
     "start_time": "2020-06-14T23:14:44.103431Z"
    },
    "scrolled": true
   },
   "outputs": [
    {
     "name": "stderr",
     "output_type": "stream",
     "text": [
      "/Users/linyiling/opt/anaconda3/lib/python3.7/site-packages/ipykernel_launcher.py:6: DeprecationWarning: Call to deprecated `__getitem__` (Method will be removed in 4.0.0, use self.wv.__getitem__() instead).\n",
      "  \n",
      "/Users/linyiling/opt/anaconda3/lib/python3.7/site-packages/ipykernel_launcher.py:6: DeprecationWarning: Call to deprecated `__getitem__` (Method will be removed in 4.0.0, use self.wv.__getitem__() instead).\n",
      "  \n",
      "/Users/linyiling/opt/anaconda3/lib/python3.7/site-packages/ipykernel_launcher.py:6: DeprecationWarning: Call to deprecated `__getitem__` (Method will be removed in 4.0.0, use self.wv.__getitem__() instead).\n",
      "  \n"
     ]
    }
   ],
   "source": [
    "df = makeDF(w_model, words_list) "
   ]
  },
  {
   "cell_type": "code",
   "execution_count": 627,
   "metadata": {
    "ExecuteTime": {
     "end_time": "2020-06-14T23:14:45.153015Z",
     "start_time": "2020-06-14T23:14:45.097436Z"
    }
   },
   "outputs": [
    {
     "data": {
      "text/html": [
       "<div>\n",
       "<style scoped>\n",
       "    .dataframe tbody tr th:only-of-type {\n",
       "        vertical-align: middle;\n",
       "    }\n",
       "\n",
       "    .dataframe tbody tr th {\n",
       "        vertical-align: top;\n",
       "    }\n",
       "\n",
       "    .dataframe thead th {\n",
       "        text-align: right;\n",
       "    }\n",
       "</style>\n",
       "<table border=\"1\" class=\"dataframe\">\n",
       "  <thead>\n",
       "    <tr style=\"text-align: right;\">\n",
       "      <th></th>\n",
       "      <th>pride</th>\n",
       "    </tr>\n",
       "  </thead>\n",
       "  <tbody>\n",
       "    <tr>\n",
       "      <th>工作</th>\n",
       "      <td>0.041388</td>\n",
       "    </tr>\n",
       "    <tr>\n",
       "      <th>生活</th>\n",
       "      <td>0.007864</td>\n",
       "    </tr>\n",
       "    <tr>\n",
       "      <th>家庭</th>\n",
       "      <td>-0.117573</td>\n",
       "    </tr>\n",
       "  </tbody>\n",
       "</table>\n",
       "</div>"
      ],
      "text/plain": [
       "       pride\n",
       "工作  0.041388\n",
       "生活  0.007864\n",
       "家庭 -0.117573"
      ]
     },
     "execution_count": 627,
     "metadata": {},
     "output_type": "execute_result"
    }
   ],
   "source": [
    "df"
   ]
  },
  {
   "cell_type": "code",
   "execution_count": 374,
   "metadata": {
    "ExecuteTime": {
     "end_time": "2020-06-11T17:16:49.899300Z",
     "start_time": "2020-06-11T17:16:49.896525Z"
    }
   },
   "outputs": [],
   "source": [
    "w_en = {'工作':'job','生活':'life','家庭':'family'}"
   ]
  },
  {
   "cell_type": "code",
   "execution_count": 375,
   "metadata": {
    "ExecuteTime": {
     "end_time": "2020-06-11T17:16:50.515466Z",
     "start_time": "2020-06-11T17:16:50.453477Z"
    }
   },
   "outputs": [
    {
     "data": {
      "image/png": "[encoded data removed]",
      "text/plain": [
       "<Figure size 864x288 with 1 Axes>"
      ]
     },
     "metadata": {},
     "output_type": "display_data"
    }
   ],
   "source": [
    "fig = plt.figure(figsize = (12,4))\n",
    "ax1 = fig.add_subplot(111)\n",
    "PlotDimension(ax1, df, 'pride',w_en)\n",
    "# ax2 = fig.add_subplot(122)\n",
    "# PlotDimension(ax2, df, 'value')\n",
    "# plt.savefig('price_dimension.jpg',format='jpg',dpi = 400)\n",
    "plt.show()"
   ]
  },
  {
   "cell_type": "code",
   "execution_count": 386,
   "metadata": {
    "ExecuteTime": {
     "end_time": "2020-06-11T17:54:25.316248Z",
     "start_time": "2020-06-11T17:49:44.222943Z"
    }
   },
   "outputs": [
    {
     "name": "stdout",
     "output_type": "stream",
     "text": [
      "22.0"
     ]
    },
    {
     "data": {
      "text/plain": [
       "2280"
      ]
     },
     "execution_count": 386,
     "metadata": {},
     "output_type": "execute_result"
    }
   ],
   "source": [
    "s_p_n_g = []\n",
    "n=0\n",
    "for s in sentence_g:\n",
    "    n+=1\n",
    "    if n %100 == 0:\n",
    "        flushPrint(n/100)\n",
    "    s_ = []\n",
    "    for i in s:\n",
    "        s_.append([j for j in i if j in int_N_ and j in word_vectors.vocab])\n",
    "    if s_:\n",
    "        s_p_n_g.append(s_)\n",
    "len(s_p_n_g)\n",
    "# 23"
   ]
  },
  {
   "cell_type": "code",
   "execution_count": 387,
   "metadata": {
    "ExecuteTime": {
     "end_time": "2020-06-11T17:56:18.576516Z",
     "start_time": "2020-06-11T17:56:18.572922Z"
    }
   },
   "outputs": [],
   "source": [
    "data2 = []\n",
    "for s in s_p_n_g:\n",
    "    data2+=s"
   ]
  },
  {
   "cell_type": "code",
   "execution_count": 388,
   "metadata": {
    "ExecuteTime": {
     "end_time": "2020-06-11T17:56:25.857583Z",
     "start_time": "2020-06-11T17:56:21.425405Z"
    }
   },
   "outputs": [],
   "source": [
    "w_model_g = gensim.models.word2vec.Word2Vec(size = 300, alpha=0.2,\n",
    "                                    window= 5,min_count=1,sg=1,\n",
    "                                    negative=2,hs=0,compute_loss = True)\n",
    "w_model_g.build_vocab(data2)"
   ]
  },
  {
   "cell_type": "code",
   "execution_count": 389,
   "metadata": {
    "ExecuteTime": {
     "end_time": "2020-06-11T17:56:25.863283Z",
     "start_time": "2020-06-11T17:56:25.859515Z"
    }
   },
   "outputs": [
    {
     "data": {
      "text/plain": [
       "22852"
      ]
     },
     "execution_count": 389,
     "metadata": {},
     "output_type": "execute_result"
    }
   ],
   "source": [
    "len(w_model_g.wv.vocab)"
   ]
  },
  {
   "cell_type": "code",
   "execution_count": 392,
   "metadata": {
    "ExecuteTime": {
     "end_time": "2020-06-11T18:13:04.637763Z",
     "start_time": "2020-06-11T18:11:37.662222Z"
    }
   },
   "outputs": [
    {
     "data": {
      "text/plain": [
       "(71250967, 72507100)"
      ]
     },
     "execution_count": 392,
     "metadata": {},
     "output_type": "execute_result"
    }
   ],
   "source": [
    "w_model_g.train(data,total_examples=len(data),epochs = 100)"
   ]
  },
  {
   "cell_type": "code",
   "execution_count": 629,
   "metadata": {
    "ExecuteTime": {
     "end_time": "2020-06-14T23:14:55.174372Z",
     "start_time": "2020-06-14T23:14:55.162898Z"
    }
   },
   "outputs": [
    {
     "name": "stderr",
     "output_type": "stream",
     "text": [
      "/Users/linyiling/opt/anaconda3/lib/python3.7/site-packages/ipykernel_launcher.py:6: DeprecationWarning: Call to deprecated `__getitem__` (Method will be removed in 4.0.0, use self.wv.__getitem__() instead).\n",
      "  \n",
      "/Users/linyiling/opt/anaconda3/lib/python3.7/site-packages/ipykernel_launcher.py:6: DeprecationWarning: Call to deprecated `__getitem__` (Method will be removed in 4.0.0, use self.wv.__getitem__() instead).\n",
      "  \n",
      "/Users/linyiling/opt/anaconda3/lib/python3.7/site-packages/ipykernel_launcher.py:6: DeprecationWarning: Call to deprecated `__getitem__` (Method will be removed in 4.0.0, use self.wv.__getitem__() instead).\n",
      "  \n"
     ]
    }
   ],
   "source": [
    "df = makeDF(w_model_g, words_list) "
   ]
  },
  {
   "cell_type": "code",
   "execution_count": 630,
   "metadata": {
    "ExecuteTime": {
     "end_time": "2020-06-14T23:14:55.806801Z",
     "start_time": "2020-06-14T23:14:55.800665Z"
    }
   },
   "outputs": [
    {
     "data": {
      "text/html": [
       "<div>\n",
       "<style scoped>\n",
       "    .dataframe tbody tr th:only-of-type {\n",
       "        vertical-align: middle;\n",
       "    }\n",
       "\n",
       "    .dataframe tbody tr th {\n",
       "        vertical-align: top;\n",
       "    }\n",
       "\n",
       "    .dataframe thead th {\n",
       "        text-align: right;\n",
       "    }\n",
       "</style>\n",
       "<table border=\"1\" class=\"dataframe\">\n",
       "  <thead>\n",
       "    <tr style=\"text-align: right;\">\n",
       "      <th></th>\n",
       "      <th>pride</th>\n",
       "    </tr>\n",
       "  </thead>\n",
       "  <tbody>\n",
       "    <tr>\n",
       "      <th>工作</th>\n",
       "      <td>-0.045080</td>\n",
       "    </tr>\n",
       "    <tr>\n",
       "      <th>生活</th>\n",
       "      <td>-0.044342</td>\n",
       "    </tr>\n",
       "    <tr>\n",
       "      <th>家庭</th>\n",
       "      <td>0.004001</td>\n",
       "    </tr>\n",
       "  </tbody>\n",
       "</table>\n",
       "</div>"
      ],
      "text/plain": [
       "       pride\n",
       "工作 -0.045080\n",
       "生活 -0.044342\n",
       "家庭  0.004001"
      ]
     },
     "execution_count": 630,
     "metadata": {},
     "output_type": "execute_result"
    }
   ],
   "source": [
    "df"
   ]
  },
  {
   "cell_type": "code",
   "execution_count": 631,
   "metadata": {
    "ExecuteTime": {
     "end_time": "2020-06-14T23:14:57.263783Z",
     "start_time": "2020-06-14T23:14:57.140410Z"
    }
   },
   "outputs": [
    {
     "data": {
      "image/png": "[encoded data removed]",
      "text/plain": [
       "<Figure size 864x288 with 1 Axes>"
      ]
     },
     "metadata": {},
     "output_type": "display_data"
    }
   ],
   "source": [
    "fig = plt.figure(figsize = (12,4))\n",
    "ax1 = fig.add_subplot(111)\n",
    "PlotDimension(ax1, df, 'pride',w_en)\n",
    "# ax2 = fig.add_subplot(122)\n",
    "# PlotDimension(ax2, df, 'value')\n",
    "# plt.savefig('price_dimension.jpg',format='jpg',dpi = 400)\n",
    "plt.show()"
   ]
  },
  {
   "cell_type": "code",
   "execution_count": 506,
   "metadata": {
    "ExecuteTime": {
     "end_time": "2020-06-13T16:44:03.839677Z",
     "start_time": "2020-06-13T16:44:03.835990Z"
    }
   },
   "outputs": [
    {
     "data": {
      "text/plain": [
       "38139"
      ]
     },
     "execution_count": 506,
     "metadata": {},
     "output_type": "execute_result"
    }
   ],
   "source": [
    "len(W)"
   ]
  },
  {
   "cell_type": "code",
   "execution_count": null,
   "metadata": {},
   "outputs": [],
   "source": []
  }
 ],
 "metadata": {
  "kernelspec": {
   "display_name": "Python 3",
   "language": "python",
   "name": "python3"
  },
  "language_info": {
   "codemirror_mode": {
    "name": "ipython",
    "version": 3
   },
   "file_extension": ".py",
   "mimetype": "text/x-python",
   "name": "python",
   "nbconvert_exporter": "python",
   "pygments_lexer": "ipython3",
   "version": "3.7.6"
  },
  "toc": {
   "base_numbering": 1,
   "nav_menu": {},
   "number_sections": true,
   "sideBar": true,
   "skip_h1_title": false,
   "title_cell": "Table of Contents",
   "title_sidebar": "Contents",
   "toc_cell": false,
   "toc_position": {
    "height": "calc(100% - 180px)",
    "left": "10px",
    "top": "150px",
    "width": "269.390625px"
   },
   "toc_section_display": true,
   "toc_window_display": true
  }
 },
 "nbformat": 4,
 "nbformat_minor": 4
}
