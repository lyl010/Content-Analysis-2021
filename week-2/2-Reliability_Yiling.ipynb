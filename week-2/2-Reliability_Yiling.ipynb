{
 "cells": [
  {
   "cell_type": "markdown",
   "metadata": {},
   "source": [
    "# Week 2 - Sampling & Reliability\n",
    "\n",
    "Up until this week, we have assumed that the corpus you have used for analysis assignments represented a *meaningful* assemblage of texts from which reasonable inferences could be drawn about the social game, social world and social actors that produced it. \n",
    "\n",
    "This week, we ask you to build a corpus for preliminary analysis and articulate what your sample represents in context of your final project. We begin by exploring how we can get *human* readings of content at scale. We want to gather and utilize human responses for several reasons. First, we may want to use crowdsourced human scores as the primary method of coding, extracting or organizing content (as it was in two of the assigned readings). Second, we may want to validate or tune a computational algorithm we may have developed in terms of how it is associated with human meanings or experience. Finally, we may want to use human coding on a sample of data as the basis for training a model or algorithm to then extrapolate *human-like* annotations to the entire population. Here intelligent sampling is critical to maximize effective maching training. \n",
    "\n",
    "For this notebook we will be using the following packages"
   ]
  },
  {
   "cell_type": "code",
   "execution_count": 1,
   "metadata": {
    "collapsed": true
   },
   "outputs": [],
   "source": [
    "#Special module written for this class\n",
    "#This provides access to data and to helper functions from previous weeks\n",
    "#Make sure you update it before starting this notebook\n",
    "import lucem_illud_2020 #pip install -U git+git://github.com/Computational-Content-Analysis-2020/lucem_illud_2020.git\n",
    "\n",
    "#All these packages need to be installed from pip\n",
    "import numpy as np #For arrays\n",
    "import scipy as sp #For some stats\n",
    "import pandas #Gives us DataFrames\n",
    "import matplotlib.pyplot as plt #For graphics\n",
    "import seaborn #Makes the graphics look nicer\n",
    "import pyanno #On python3 make sure to pip install pyanno3\n",
    "\n",
    "#We need to import these this way due to how pyanno is setup\n",
    "from pyanno.measures import pairwise_matrix, agreement, cohens_kappa, cohens_weighted_kappa, fleiss_kappa, krippendorffs_alpha, pearsons_rho, scotts_pi, spearmans_rho\n",
    "from pyanno.annotations import AnnotationsContainer\n",
    "from pyanno.models import ModelA, ModelBt, ModelB\n",
    "\n",
    "from functools import reduce\n",
    "from itertools import permutations\n",
    "import math\n",
    "\n",
    "\n",
    "#This 'magic' command makes the plots work better\n",
    "#in the notebook, don't use it outside of a notebook.\n",
    "#Also you can ignore the warning\n",
    "%matplotlib inline\n",
    "\n",
    "import os #For looking through files\n",
    "import os.path #For managing file paths"
   ]
  },
  {
   "cell_type": "markdown",
   "metadata": {},
   "source": [
    "## <span style=\"color:red\">*Pitch the Domain of your Project*</span>\n",
    "\n",
    "<span style=\"color:red\">In the two cells immediately following, describe **WHAT** you are planning to analyze for your final project (i.e., texts, contexts and the social game, world and actors you intend to learn about through your analysis) (<200 words) and **WHY** you are going to do it (i.e., why would theory and/or the average person benefit from knowing the results of your investigation) (<200 words)? [**Note**: your individual or collective project can change over the course of the quarter if new data and/or analysis opportunities arise or if old ones fade away.]"
   ]
  },
  {
   "cell_type": "markdown",
   "metadata": {},
   "source": [
    "## ***What?*** \n",
    "<200 words\n",
    "\n",
    "I am planning to analyze the abstraction change of language used in our cultural life. I think a proper size of corpus of this project would be the abstraction of ideas in rock&roll music through time."
   ]
  },
  {
   "cell_type": "markdown",
   "metadata": {},
   "source": [
    "## ***Why?***\n",
    "<200 words\n",
    "\n",
    "People tend to form network in their cultural life: the personal relationship network, the words used network, books co-boought network etc., suggesting the people use the network to convey their ideas, to build up important relationship in life, and to explore the new knowledge. Nodes on network have relative importance by the nature of network, and the nodes of higher degree helps to connect disconnected groups and act as bridge, tending to be deemed as more important nodes, and can even be thought as social capital in networks formed in person network(Burt). Ideas that connects different groups of ideas on semantic network are thought to be more abstract than the ideas that just connects nodes within a small community.\n",
    "\n",
    "Good ideas, group and indivdual identity and good works in music are recorded through media, content, and content makes up the large maority of them. What is the interesting properity of these cultural astract stuff?"
   ]
  },
  {
   "cell_type": "markdown",
   "metadata": {},
   "source": [
    "## <span style=\"color:red\">*Pitch Your Sample*</span>\n",
    "\n",
    "<span style=\"color:red\">In the cell immediately following, describe the rationale behind your proposed sample design for your final project. What is the social game, social work, or social actors about whom you are seeking to make inferences? What are its virtues with respect to your research questions? What are its limitations? What are alternatives? What would be a reasonable path to \"scale up\" your sample for further analysis (i.e., high-profile publication)? (<200 words).\n",
    "\n",
    "Great work would be developed through time and remembered again and again by its community. Pink Floyd has a song about education(Another Brick in the wall), satirizing the feed-type education. The Similar words Brick was further developed by later works. I think this analogy is brilliant and concise to intreprete its meaning.  Can we find out the change of symbols in rock&roll music? Are them become more abstract or more specific? \n",
    "\n",
    "Limitations:\n",
    "Data source: Corpus of R&R might not be enought to depict the semantic landscape, we should seek out now to find more corpus.\n",
    "\n",
    "Alternatives:\n",
    "We can compare the abstraction of specific words(symbols) in music written in different languages.\n",
    "\n",
    "Scale up:\n",
    "1. methodology; experiments and appropirate reasoning to prove its validations;\n",
    "2. Smooth and Strong reasoning on the background of this question."
   ]
  },
  {
   "cell_type": "markdown",
   "metadata": {},
   "source": []
  },
  {
   "cell_type": "code",
   "execution_count": null,
   "metadata": {
    "collapsed": true
   },
   "outputs": [],
   "source": []
  },
  {
   "cell_type": "code",
   "execution_count": null,
   "metadata": {
    "collapsed": true
   },
   "outputs": [],
   "source": []
  },
  {
   "cell_type": "markdown",
   "metadata": {},
   "source": [
    "# Example Annotation Dataset"
   ]
  },
  {
   "cell_type": "markdown",
   "metadata": {},
   "source": [
    "Load Rzhetsky et al (2009)'s sample dataset, which can be found [here](https://github.com/enthought/uchicago-pyanno/tree/master/data). This data is the result of a content analytic / content extraction study in which Andrey Rzhetsky and colleagues from the National Library of Medicine, published [here](http://journals.plos.org/ploscompbiol/article?id=10.1371/journal.pcbi.1000391) in [PLOS Computational Biology](http://journals.plos.org/ploscompbiol/), gave eight annotators 10,000 sentence chunks from biomedical text in biomedical abstracts and articles, then asked them, in a loop design schematically illustrated below that provided 3 independent codings for each document. The sampling strategy pursued diversity by drawing from PubMed abstracts (1000) and full-text articles (9000: 20% from abstracts, 10% from introductions, 20% from methods, 25% from results, and 25% from discussions.) The dataset extract here involves respondents codes for sentences in terms of their *Evidence*: {0, 1, 2, 3, -1} where 0 is the complete lack of evidence, 3 is direct evidence present within the sentence, and -1 is didn't respond. (They also crowdsourced and analyzed *polarity*, *certainty*, and *number*). For example, consider the following two abutting sentence chunks: *\"Because null mutations in toxR and toxT abolish CT and TcpA expression in the El Tor biotype and also attenuate virulence...\"* [i.e., average certainty = 0], *\"...it is likely that the ToxR regulon has functional similarities between the two biotypes despite the clear differences in the inducing parameters observed in vitro\"* [i.e., average certainty = 1].\""
   ]
  },
  {
   "cell_type": "code",
   "execution_count": 2,
   "metadata": {},
   "outputs": [
    {
     "data": {
      "text/html": [
       "<img source=\"loopdesign.png\">\n"
      ],
      "text/plain": [
       "<IPython.core.display.HTML object>"
      ]
     },
     "metadata": {},
     "output_type": "display_data"
    }
   ],
   "source": [
    "%%html\n",
    "<img source=\"loopdesign.png\">"
   ]
  },
  {
   "cell_type": "markdown",
   "metadata": {},
   "source": [
    "[Click here for loop design](loopdesign.png)"
   ]
  },
  {
   "cell_type": "code",
   "execution_count": 90,
   "metadata": {},
   "outputs": [],
   "source": [
    "x = np.loadtxt(\"test_numerical.txt\")\n",
    "anno_0 = AnnotationsContainer.from_array(x, missing_values=[-1])"
   ]
  },
  {
   "cell_type": "code",
   "execution_count": 85,
   "metadata": {},
   "outputs": [
    {
     "data": {
      "text/plain": [
       "pyanno.annotations.AnnotationsContainer"
      ]
     },
     "execution_count": 85,
     "metadata": {},
     "output_type": "execute_result"
    }
   ],
   "source": [
    "type(anno)"
   ]
  },
  {
   "cell_type": "markdown",
   "metadata": {},
   "source": [
    "Interrogate the AnnotationsContainer object."
   ]
  },
  {
   "cell_type": "code",
   "execution_count": 76,
   "metadata": {},
   "outputs": [
    {
     "data": {
      "text/plain": [
       "(array([ 1.,  1.,  1., -1., -1., -1., -1., -1.]),\n",
       " array([ 0,  0,  0, -1, -1, -1, -1, -1]))"
      ]
     },
     "execution_count": 76,
     "metadata": {},
     "output_type": "execute_result"
    }
   ],
   "source": [
    "x[1],anno.annotations[1]"
   ]
  },
  {
   "cell_type": "code",
   "execution_count": 23,
   "metadata": {
    "scrolled": true
   },
   "outputs": [
    {
     "data": {
      "text/plain": [
       "array([[ 1,  2,  3, ..., -1, -1, -1],\n",
       "       [ 0,  0,  0, ..., -1, -1, -1],\n",
       "       [ 2,  2,  1, ..., -1, -1, -1],\n",
       "       ..., \n",
       "       [ 2,  2, -1, ..., -1, -1,  1],\n",
       "       [ 2,  2, -1, ..., -1, -1,  3],\n",
       "       [ 1,  1, -1, ..., -1, -1,  0]])"
      ]
     },
     "execution_count": 23,
     "metadata": {},
     "output_type": "execute_result"
    }
   ],
   "source": [
    "anno.annotations# shape = (800,8)"
   ]
  },
  {
   "cell_type": "code",
   "execution_count": 5,
   "metadata": {},
   "outputs": [
    {
     "data": {
      "text/plain": [
       "[1.0, 2.0, 3.0, 4.0]"
      ]
     },
     "execution_count": 5,
     "metadata": {},
     "output_type": "execute_result"
    }
   ],
   "source": [
    "anno.labels"
   ]
  },
  {
   "cell_type": "code",
   "execution_count": 6,
   "metadata": {},
   "outputs": [
    {
     "data": {
      "text/plain": [
       "[-1]"
      ]
     },
     "execution_count": 6,
     "metadata": {},
     "output_type": "execute_result"
    }
   ],
   "source": [
    "anno.missing_values"
   ]
  },
  {
   "cell_type": "markdown",
   "metadata": {},
   "source": [
    "# Annotation Statistics"
   ]
  },
  {
   "cell_type": "markdown",
   "metadata": {},
   "source": [
    "First, we assume categorical codes...that each code is qualitatively distinct from each other. Two measures are primarily used for this: Scott's $\\pi$, Cohen's $\\kappa$, and Krippendorff's $\\alpha$ which each measure the extent of agreement between two annotators, but take into account the possibility of the agreement occurring by chance in slightly different ways. Any agreement measure begins with the frequency of codes:"
   ]
  },
  {
   "cell_type": "code",
   "execution_count": 8,
   "metadata": {},
   "outputs": [
    {
     "data": {
      "text/plain": [
       "array([ 0.11666667,  0.245     ,  0.34083333,  0.2975    ])"
      ]
     },
     "execution_count": 8,
     "metadata": {},
     "output_type": "execute_result"
    }
   ],
   "source": [
    "pyanno.measures.agreement.labels_frequency(anno.annotations,4)"
   ]
  },
  {
   "cell_type": "markdown",
   "metadata": {},
   "source": [
    "Now consider the \"confusion matrix\" or matrix of coded agreements between any two coders:"
   ]
  },
  {
   "cell_type": "code",
   "execution_count": 10,
   "metadata": {},
   "outputs": [
    {
     "name": "stdout",
     "output_type": "stream",
     "text": [
      "[[  8.   7.   3.   2.]\n",
      " [  9.  30.  13.   3.]\n",
      " [  2.   9.  42.  11.]\n",
      " [  1.   7.  14.  39.]]\n"
     ]
    },
    {
     "data": {
      "image/png": "[encoded data removed]",
      "text/plain": [
       "<matplotlib.figure.Figure at 0x118bbe4e0>"
      ]
     },
     "metadata": {},
     "output_type": "display_data"
    }
   ],
   "source": [
    "c = pyanno.measures.agreement.confusion_matrix(anno.annotations[:,0], anno.annotations[:,1],4)\n",
    "print(c)\n",
    "ac = seaborn.heatmap(c)\n",
    "plt.show()"
   ]
  },
  {
   "cell_type": "markdown",
   "metadata": {},
   "source": [
    "Scott's $\\pi$ is computed as:\n",
    "\n",
    "$\\pi = \\frac{\\text{Pr}(a)-\\text{Pr}(e)}{1-\\text{Pr}(e)}$\n",
    "\n",
    "Where Pr($a$) is relative observed agreement, and Pr($e$) is expected agreement using joint proportions calculated from the confusion matrix or matrix of coded agreements between any two coders:"
   ]
  },
  {
   "cell_type": "code",
   "execution_count": 11,
   "metadata": {},
   "outputs": [
    {
     "data": {
      "text/plain": [
       "0.43864782658915019"
      ]
     },
     "execution_count": 11,
     "metadata": {},
     "output_type": "execute_result"
    }
   ],
   "source": [
    "scotts_pi(anno.annotations[:,0], anno.annotations[:,1])"
   ]
  },
  {
   "cell_type": "markdown",
   "metadata": {},
   "source": [
    "The generalization of Scott's $\\pi$ to $n$ coders is Fleiss' $\\kappa$ (Fleiss called it $\\kappa$ because he thought he was generalizing Cohen's $\\kappa$)"
   ]
  },
  {
   "cell_type": "code",
   "execution_count": 12,
   "metadata": {},
   "outputs": [
    {
     "data": {
      "text/plain": [
       "0.40417653771912765"
      ]
     },
     "execution_count": 12,
     "metadata": {},
     "output_type": "execute_result"
    }
   ],
   "source": [
    "fleiss_kappa(anno.annotations[::])"
   ]
  },
  {
   "cell_type": "markdown",
   "metadata": {},
   "source": [
    "Krippendorff's $\\alpha$ generalizes of Fleiss' $\\kappa$ to $n$ coders and takes into account the fact that annotations here are not categorically different, but ordinal, by adding a weight matrix in which off-diagonal cells contain weights indicating the seriousness of the disagreement between each score. When produced with no arguments, it simply produces an arithmetic distance (e.g., 3-1=2), such that cells one off the diagonal are weighted 1, two off 2, etc."
   ]
  },
  {
   "cell_type": "code",
   "execution_count": 13,
   "metadata": {},
   "outputs": [
    {
     "data": {
      "text/plain": [
       "0.64725882238315469"
      ]
     },
     "execution_count": 13,
     "metadata": {},
     "output_type": "execute_result"
    }
   ],
   "source": [
    "krippendorffs_alpha(anno.annotations[::])"
   ]
  },
  {
   "cell_type": "markdown",
   "metadata": {},
   "source": [
    "Like Scott's $\\pi$, Cohen's $\\kappa$ also takes into account the possibility of the agreement occurring by chance, but in the following way:\n",
    "\n",
    "$\\kappa = \\frac{p_o-p_e}{1-p_e}=1-\\frac{1-p_o}{p_e}$\n",
    "\n",
    "where $p_o$ is the relative observed agreement among raters, and $p_e$ is the hypothetical probability of chance agreement, using the observed data to calculate the probabilities of each observer randomly saying each category. If the raters are in complete agreement then $\\kappa = 1$. If there is no agreement among the raters other than what would be expected by chance (as given by $p_e$), $\\kappa ≤ 0 $. Here, Cohen's $\\kappa$ statistic for the first two annotators is computed. This is probably the most common metric of agreement."
   ]
  },
  {
   "cell_type": "code",
   "execution_count": 14,
   "metadata": {},
   "outputs": [
    {
     "data": {
      "text/plain": [
       "0.43917037219392857"
      ]
     },
     "execution_count": 14,
     "metadata": {},
     "output_type": "execute_result"
    }
   ],
   "source": [
    "cohens_kappa(anno.annotations[:,0], anno.annotations[:,1])"
   ]
  },
  {
   "cell_type": "code",
   "execution_count": 15,
   "metadata": {},
   "outputs": [
    {
     "name": "stdout",
     "output_type": "stream",
     "text": [
      "[[ 1.          0.43917037  0.47677621         nan         nan         nan\n",
      "   0.45819119  0.43381462]\n",
      " [ 0.43917037  1.          0.38432922  0.41344423         nan         nan\n",
      "          nan  0.33643611]\n",
      " [ 0.47677621  0.38432922  1.          0.39583333  0.51704894         nan\n",
      "          nan         nan]\n",
      " [        nan  0.41344423  0.39583333  1.          0.34597068  0.4446844\n",
      "          nan         nan]\n",
      " [        nan         nan  0.51704894  0.34597068  1.          0.37938644\n",
      "   0.43039733         nan]\n",
      " [        nan         nan         nan  0.4446844   0.37938644  1.\n",
      "   0.38341929  0.31214748]\n",
      " [ 0.45819119         nan         nan         nan  0.43039733  0.38341929\n",
      "   1.          0.394806  ]\n",
      " [ 0.43381462  0.33643611         nan         nan         nan  0.31214748\n",
      "   0.394806    1.        ]]\n"
     ]
    }
   ],
   "source": [
    "m = pairwise_matrix(cohens_kappa, anno.annotations)\n",
    "print(m)"
   ]
  },
  {
   "cell_type": "code",
   "execution_count": 16,
   "metadata": {},
   "outputs": [
    {
     "data": {
      "image/png": "[encoded data removed]",
      "text/plain": [
       "<matplotlib.figure.Figure at 0x1040735c0>"
      ]
     },
     "metadata": {},
     "output_type": "display_data"
    }
   ],
   "source": [
    "ax = seaborn.heatmap(m)\n",
    "plt.show()"
   ]
  },
  {
   "cell_type": "markdown",
   "metadata": {},
   "source": [
    "You can see that this 8 by 3 loop design will be less stable than an 8 choose 3 combinatorial design, because each codes with more others. "
   ]
  },
  {
   "cell_type": "markdown",
   "metadata": {},
   "source": [
    "One can also assess the average Cohen's $\\kappa$ for all pairs of coders that have coded against one another:"
   ]
  },
  {
   "cell_type": "code",
   "execution_count": 17,
   "metadata": {},
   "outputs": [
    {
     "data": {
      "text/plain": [
       "0.40911598940065674"
      ]
     },
     "execution_count": 17,
     "metadata": {},
     "output_type": "execute_result"
    }
   ],
   "source": [
    "def pairwise_metric_average(metric, array):\n",
    "    \"\"\"Calculate the pairwise metric average for the real elements of metric function run on an array of annotations\"\"\"\n",
    "    p = permutations(range(array[0,:].size),2)\n",
    "    m = [metric(array[:,x[0]], array[:,x[1]]) for x in p]\n",
    "    clean_m = [c for c in m if not math.isnan(c)]\n",
    "    return reduce(lambda a, b: a + b, clean_m)/len(clean_m)    \n",
    " \n",
    "pairwise_metric_average(cohens_kappa, anno.annotations)"
   ]
  },
  {
   "cell_type": "markdown",
   "metadata": {},
   "source": [
    "As recognized with Krippendorff's flexible $\\alpha$, our scores are *not* categorical, but rather ordered and her considered metric. Weighted $\\kappa$ allows you to count disagreements differently and is useful when codes are ordered as they are here. Here a weight matrix is added to the calculation, in which off-diagonal cells contain weights indicating the seriousness of the disagreement between each score. When automatically produced, it simply produces an arithmetic distance (e.g., 3-1=2), such that cells one off the diagonal are weighted 1, two off 2, etc. Here\n",
    "\n",
    "$\\kappa = 1-\\frac{\\sum^k_{i=1}\\sum^k_{j=1}w_{ij}x_{ij}}{\\sum^k_{i=1}\\sum^k_{j=1}w_{ij}m_{ij}}$\n",
    "\n",
    "where $\\kappa$ = $n$ codes and $w_{ij}$,$x_{ij}$, and $m_{ij}$ represent elements in the weight, observed, and expected matrices, respectively. (Obviously, when diagonal cells contain weights of 0 and off-diagonal cells weights of 1, this equals $\\kappa$)."
   ]
  },
  {
   "cell_type": "code",
   "execution_count": 18,
   "metadata": {},
   "outputs": [
    {
     "data": {
      "text/plain": [
       "0.53302405078744974"
      ]
     },
     "execution_count": 18,
     "metadata": {},
     "output_type": "execute_result"
    }
   ],
   "source": [
    "cohens_weighted_kappa(anno.annotations[:,0], anno.annotations[:,1])"
   ]
  },
  {
   "cell_type": "markdown",
   "metadata": {},
   "source": [
    "Or averaged over the total:"
   ]
  },
  {
   "cell_type": "code",
   "execution_count": 19,
   "metadata": {},
   "outputs": [
    {
     "data": {
      "text/plain": [
       "0.52991134587171662"
      ]
     },
     "execution_count": 19,
     "metadata": {},
     "output_type": "execute_result"
    }
   ],
   "source": [
    "pairwise_metric_average(cohens_weighted_kappa,anno.annotations)"
   ]
  },
  {
   "cell_type": "markdown",
   "metadata": {},
   "source": [
    "Alternatively, if the annontation data can be understood as indicating real values, we can assess not agreement, but rather the correlation of values (Pearson's $\\rho$) or correlation of ranks (Spearman's $\\rho$) for pairs of coders:"
   ]
  },
  {
   "cell_type": "code",
   "execution_count": 20,
   "metadata": {},
   "outputs": [
    {
     "data": {
      "image/png": "[encoded data removed]",
      "text/plain": [
       "<matplotlib.figure.Figure at 0x11c0ff8d0>"
      ]
     },
     "metadata": {},
     "output_type": "display_data"
    },
    {
     "data": {
      "image/png": "[encoded data removed]",
      "text/plain": [
       "<matplotlib.figure.Figure at 0x11c10dc50>"
      ]
     },
     "metadata": {},
     "output_type": "display_data"
    }
   ],
   "source": [
    "n = pairwise_matrix(pearsons_rho, anno.annotations)\n",
    "m = pairwise_matrix(spearmans_rho, anno.annotations)\n",
    "an = seaborn.heatmap(n)\n",
    "plt.show()\n",
    "am = seaborn.heatmap(m)\n",
    "plt.show()"
   ]
  },
  {
   "cell_type": "markdown",
   "metadata": {},
   "source": [
    "Or averaged over all comparable pairs:"
   ]
  },
  {
   "cell_type": "code",
   "execution_count": 21,
   "metadata": {},
   "outputs": [
    {
     "name": "stdout",
     "output_type": "stream",
     "text": [
      "0.651721932118 0.63808488688\n"
     ]
    }
   ],
   "source": [
    "print(pairwise_metric_average(pearsons_rho,anno.annotations), pairwise_metric_average(spearmans_rho,anno.annotations))"
   ]
  },
  {
   "cell_type": "markdown",
   "metadata": {},
   "source": [
    "## <span style=\"color:red\">*Your turn*</span>\n",
    "\n",
    "<span style=\"color:red\">Perform a content annotation survey of some kind in which at least 3 people evaluate and code each piece of content, using Amazon Mechanical Turk as described in the MTurk slides in the Assignment link on Canvas, or by hand with friends.  With the resulting data, calculate, visualize and discuss inter-coder agreement or covariation with appropriate metrics. What does this means for the reliability of human assessments regarding content in your domain?"
   ]
  },
  {
   "cell_type": "code",
   "execution_count": 24,
   "metadata": {
    "collapsed": true
   },
   "outputs": [],
   "source": [
    "import pandas as pd"
   ]
  },
  {
   "cell_type": "code",
   "execution_count": 51,
   "metadata": {
    "collapsed": true
   },
   "outputs": [],
   "source": [
    "data_df = pd.read_excel('JD.xlsx')"
   ]
  },
  {
   "cell_type": "code",
   "execution_count": 52,
   "metadata": {},
   "outputs": [
    {
     "data": {
      "text/html": [
       "<div>\n",
       "<style>\n",
       "    .dataframe thead tr:only-child th {\n",
       "        text-align: right;\n",
       "    }\n",
       "\n",
       "    .dataframe thead th {\n",
       "        text-align: left;\n",
       "    }\n",
       "\n",
       "    .dataframe tbody tr th {\n",
       "        vertical-align: top;\n",
       "    }\n",
       "</style>\n",
       "<table border=\"1\" class=\"dataframe\">\n",
       "  <thead>\n",
       "    <tr style=\"text-align: right;\">\n",
       "      <th></th>\n",
       "      <th>id</th>\n",
       "      <th>chunks</th>\n",
       "      <th>s1</th>\n",
       "      <th>s2</th>\n",
       "      <th>s3</th>\n",
       "      <th>s4</th>\n",
       "      <th>s5</th>\n",
       "      <th>job_description</th>\n",
       "    </tr>\n",
       "  </thead>\n",
       "  <tbody>\n",
       "    <tr>\n",
       "      <th>0</th>\n",
       "      <td>0</td>\n",
       "      <td>0</td>\n",
       "      <td>1</td>\n",
       "      <td>0</td>\n",
       "      <td>2</td>\n",
       "      <td>-1</td>\n",
       "      <td>-1</td>\n",
       "      <td>mailing, scheduling, microsoft powerpoint, pla...</td>\n",
       "    </tr>\n",
       "    <tr>\n",
       "      <th>1</th>\n",
       "      <td>1</td>\n",
       "      <td>0</td>\n",
       "      <td>0</td>\n",
       "      <td>0</td>\n",
       "      <td>0</td>\n",
       "      <td>-1</td>\n",
       "      <td>-1</td>\n",
       "      <td>product sales, sales, customer service, insura...</td>\n",
       "    </tr>\n",
       "    <tr>\n",
       "      <th>2</th>\n",
       "      <td>2</td>\n",
       "      <td>0</td>\n",
       "      <td>0</td>\n",
       "      <td>2</td>\n",
       "      <td>0</td>\n",
       "      <td>-1</td>\n",
       "      <td>-1</td>\n",
       "      <td>primary care, primary care physician</td>\n",
       "    </tr>\n",
       "    <tr>\n",
       "      <th>3</th>\n",
       "      <td>3</td>\n",
       "      <td>0</td>\n",
       "      <td>0</td>\n",
       "      <td>1</td>\n",
       "      <td>1</td>\n",
       "      <td>-1</td>\n",
       "      <td>-1</td>\n",
       "      <td>critical thinking, hospital experience, custom...</td>\n",
       "    </tr>\n",
       "    <tr>\n",
       "      <th>4</th>\n",
       "      <td>4</td>\n",
       "      <td>0</td>\n",
       "      <td>1</td>\n",
       "      <td>1</td>\n",
       "      <td>0</td>\n",
       "      <td>-1</td>\n",
       "      <td>-1</td>\n",
       "      <td>verbal / oral communication, pediatric advance...</td>\n",
       "    </tr>\n",
       "    <tr>\n",
       "      <th>5</th>\n",
       "      <td>5</td>\n",
       "      <td>0</td>\n",
       "      <td>0</td>\n",
       "      <td>1</td>\n",
       "      <td>1</td>\n",
       "      <td>-1</td>\n",
       "      <td>-1</td>\n",
       "      <td>sales, customer service</td>\n",
       "    </tr>\n",
       "    <tr>\n",
       "      <th>6</th>\n",
       "      <td>6</td>\n",
       "      <td>1</td>\n",
       "      <td>-1</td>\n",
       "      <td>0</td>\n",
       "      <td>0</td>\n",
       "      <td>1</td>\n",
       "      <td>-1</td>\n",
       "      <td>supervisory skills, leadership, computer literacy</td>\n",
       "    </tr>\n",
       "    <tr>\n",
       "      <th>7</th>\n",
       "      <td>7</td>\n",
       "      <td>1</td>\n",
       "      <td>-1</td>\n",
       "      <td>1</td>\n",
       "      <td>0</td>\n",
       "      <td>1</td>\n",
       "      <td>-1</td>\n",
       "      <td>customer contact, written communication, self-...</td>\n",
       "    </tr>\n",
       "    <tr>\n",
       "      <th>8</th>\n",
       "      <td>8</td>\n",
       "      <td>1</td>\n",
       "      <td>-1</td>\n",
       "      <td>1</td>\n",
       "      <td>1</td>\n",
       "      <td>1</td>\n",
       "      <td>-1</td>\n",
       "      <td>product sales, sales, business development, bu...</td>\n",
       "    </tr>\n",
       "    <tr>\n",
       "      <th>9</th>\n",
       "      <td>9</td>\n",
       "      <td>1</td>\n",
       "      <td>-1</td>\n",
       "      <td>3</td>\n",
       "      <td>3</td>\n",
       "      <td>3</td>\n",
       "      <td>-1</td>\n",
       "      <td>computerized numerical control lathes, compute...</td>\n",
       "    </tr>\n",
       "    <tr>\n",
       "      <th>10</th>\n",
       "      <td>10</td>\n",
       "      <td>1</td>\n",
       "      <td>-1</td>\n",
       "      <td>1</td>\n",
       "      <td>1</td>\n",
       "      <td>1</td>\n",
       "      <td>-1</td>\n",
       "      <td>hvac, business administration, emergency prepa...</td>\n",
       "    </tr>\n",
       "    <tr>\n",
       "      <th>11</th>\n",
       "      <td>11</td>\n",
       "      <td>1</td>\n",
       "      <td>-1</td>\n",
       "      <td>2</td>\n",
       "      <td>0</td>\n",
       "      <td>1</td>\n",
       "      <td>-1</td>\n",
       "      <td>product sales, energetic, planning, repair, pe...</td>\n",
       "    </tr>\n",
       "    <tr>\n",
       "      <th>12</th>\n",
       "      <td>12</td>\n",
       "      <td>2</td>\n",
       "      <td>-1</td>\n",
       "      <td>-1</td>\n",
       "      <td>3</td>\n",
       "      <td>2</td>\n",
       "      <td>3</td>\n",
       "      <td>systems engineering, renewable energy, simulat...</td>\n",
       "    </tr>\n",
       "    <tr>\n",
       "      <th>13</th>\n",
       "      <td>13</td>\n",
       "      <td>2</td>\n",
       "      <td>-1</td>\n",
       "      <td>-1</td>\n",
       "      <td>1</td>\n",
       "      <td>1</td>\n",
       "      <td>1</td>\n",
       "      <td>writing, telemetry</td>\n",
       "    </tr>\n",
       "    <tr>\n",
       "      <th>14</th>\n",
       "      <td>14</td>\n",
       "      <td>2</td>\n",
       "      <td>-1</td>\n",
       "      <td>-1</td>\n",
       "      <td>2</td>\n",
       "      <td>1</td>\n",
       "      <td>2</td>\n",
       "      <td>research, new product development, people mana...</td>\n",
       "    </tr>\n",
       "    <tr>\n",
       "      <th>15</th>\n",
       "      <td>15</td>\n",
       "      <td>2</td>\n",
       "      <td>-1</td>\n",
       "      <td>-1</td>\n",
       "      <td>3</td>\n",
       "      <td>2</td>\n",
       "      <td>3</td>\n",
       "      <td>level design, java, weblogic, oracle pl/sql, m...</td>\n",
       "    </tr>\n",
       "    <tr>\n",
       "      <th>16</th>\n",
       "      <td>16</td>\n",
       "      <td>2</td>\n",
       "      <td>-1</td>\n",
       "      <td>-1</td>\n",
       "      <td>2</td>\n",
       "      <td>2</td>\n",
       "      <td>3</td>\n",
       "      <td>hvac, energetic, construction management, micr...</td>\n",
       "    </tr>\n",
       "    <tr>\n",
       "      <th>17</th>\n",
       "      <td>17</td>\n",
       "      <td>2</td>\n",
       "      <td>-1</td>\n",
       "      <td>-1</td>\n",
       "      <td>1</td>\n",
       "      <td>2</td>\n",
       "      <td>2</td>\n",
       "      <td>medical billing, research, accounting, custome...</td>\n",
       "    </tr>\n",
       "    <tr>\n",
       "      <th>18</th>\n",
       "      <td>18</td>\n",
       "      <td>3</td>\n",
       "      <td>3</td>\n",
       "      <td>-1</td>\n",
       "      <td>-1</td>\n",
       "      <td>2</td>\n",
       "      <td>3</td>\n",
       "      <td>microsoft powershell, .net, microsoft windows,...</td>\n",
       "    </tr>\n",
       "    <tr>\n",
       "      <th>19</th>\n",
       "      <td>19</td>\n",
       "      <td>3</td>\n",
       "      <td>1</td>\n",
       "      <td>-1</td>\n",
       "      <td>-1</td>\n",
       "      <td>2</td>\n",
       "      <td>1</td>\n",
       "      <td>fuel systems, facility operation, electrical s...</td>\n",
       "    </tr>\n",
       "    <tr>\n",
       "      <th>20</th>\n",
       "      <td>20</td>\n",
       "      <td>3</td>\n",
       "      <td>1</td>\n",
       "      <td>-1</td>\n",
       "      <td>-1</td>\n",
       "      <td>1</td>\n",
       "      <td>1</td>\n",
       "      <td>product sales, application design, planning, a...</td>\n",
       "    </tr>\n",
       "    <tr>\n",
       "      <th>21</th>\n",
       "      <td>21</td>\n",
       "      <td>3</td>\n",
       "      <td>2</td>\n",
       "      <td>-1</td>\n",
       "      <td>-1</td>\n",
       "      <td>2</td>\n",
       "      <td>2</td>\n",
       "      <td>planning, data analysis, network hardware/soft...</td>\n",
       "    </tr>\n",
       "    <tr>\n",
       "      <th>22</th>\n",
       "      <td>22</td>\n",
       "      <td>3</td>\n",
       "      <td>2</td>\n",
       "      <td>-1</td>\n",
       "      <td>-1</td>\n",
       "      <td>2</td>\n",
       "      <td>1</td>\n",
       "      <td>product sales, commercial driving, vehicle saf...</td>\n",
       "    </tr>\n",
       "    <tr>\n",
       "      <th>23</th>\n",
       "      <td>23</td>\n",
       "      <td>3</td>\n",
       "      <td>0</td>\n",
       "      <td>-1</td>\n",
       "      <td>-1</td>\n",
       "      <td>1</td>\n",
       "      <td>0</td>\n",
       "      <td>operations management, microsoft word, problem...</td>\n",
       "    </tr>\n",
       "    <tr>\n",
       "      <th>24</th>\n",
       "      <td>24</td>\n",
       "      <td>4</td>\n",
       "      <td>1</td>\n",
       "      <td>2</td>\n",
       "      <td>-1</td>\n",
       "      <td>-1</td>\n",
       "      <td>0</td>\n",
       "      <td>repair, retail industry knowledge, staff manag...</td>\n",
       "    </tr>\n",
       "    <tr>\n",
       "      <th>25</th>\n",
       "      <td>25</td>\n",
       "      <td>4</td>\n",
       "      <td>3</td>\n",
       "      <td>2</td>\n",
       "      <td>-1</td>\n",
       "      <td>-1</td>\n",
       "      <td>1</td>\n",
       "      <td>painting, carpentry, apartment maintenance, pl...</td>\n",
       "    </tr>\n",
       "    <tr>\n",
       "      <th>26</th>\n",
       "      <td>26</td>\n",
       "      <td>4</td>\n",
       "      <td>1</td>\n",
       "      <td>2</td>\n",
       "      <td>-1</td>\n",
       "      <td>-1</td>\n",
       "      <td>0</td>\n",
       "      <td>sales, customer contact, customer service, ins...</td>\n",
       "    </tr>\n",
       "    <tr>\n",
       "      <th>27</th>\n",
       "      <td>27</td>\n",
       "      <td>4</td>\n",
       "      <td>2</td>\n",
       "      <td>2</td>\n",
       "      <td>-1</td>\n",
       "      <td>-1</td>\n",
       "      <td>2</td>\n",
       "      <td>human computer interaction, web application de...</td>\n",
       "    </tr>\n",
       "    <tr>\n",
       "      <th>28</th>\n",
       "      <td>28</td>\n",
       "      <td>4</td>\n",
       "      <td>0</td>\n",
       "      <td>1</td>\n",
       "      <td>-1</td>\n",
       "      <td>-1</td>\n",
       "      <td>0</td>\n",
       "      <td>sales, research, customer contact, legal indus...</td>\n",
       "    </tr>\n",
       "    <tr>\n",
       "      <th>29</th>\n",
       "      <td>29</td>\n",
       "      <td>4</td>\n",
       "      <td>0</td>\n",
       "      <td>0</td>\n",
       "      <td>-1</td>\n",
       "      <td>-1</td>\n",
       "      <td>0</td>\n",
       "      <td>sales planning, sales, mentoring, direct sales...</td>\n",
       "    </tr>\n",
       "  </tbody>\n",
       "</table>\n",
       "</div>"
      ],
      "text/plain": [
       "    id  chunks  s1  s2  s3  s4  s5  \\\n",
       "0    0       0   1   0   2  -1  -1   \n",
       "1    1       0   0   0   0  -1  -1   \n",
       "2    2       0   0   2   0  -1  -1   \n",
       "3    3       0   0   1   1  -1  -1   \n",
       "4    4       0   1   1   0  -1  -1   \n",
       "5    5       0   0   1   1  -1  -1   \n",
       "6    6       1  -1   0   0   1  -1   \n",
       "7    7       1  -1   1   0   1  -1   \n",
       "8    8       1  -1   1   1   1  -1   \n",
       "9    9       1  -1   3   3   3  -1   \n",
       "10  10       1  -1   1   1   1  -1   \n",
       "11  11       1  -1   2   0   1  -1   \n",
       "12  12       2  -1  -1   3   2   3   \n",
       "13  13       2  -1  -1   1   1   1   \n",
       "14  14       2  -1  -1   2   1   2   \n",
       "15  15       2  -1  -1   3   2   3   \n",
       "16  16       2  -1  -1   2   2   3   \n",
       "17  17       2  -1  -1   1   2   2   \n",
       "18  18       3   3  -1  -1   2   3   \n",
       "19  19       3   1  -1  -1   2   1   \n",
       "20  20       3   1  -1  -1   1   1   \n",
       "21  21       3   2  -1  -1   2   2   \n",
       "22  22       3   2  -1  -1   2   1   \n",
       "23  23       3   0  -1  -1   1   0   \n",
       "24  24       4   1   2  -1  -1   0   \n",
       "25  25       4   3   2  -1  -1   1   \n",
       "26  26       4   1   2  -1  -1   0   \n",
       "27  27       4   2   2  -1  -1   2   \n",
       "28  28       4   0   1  -1  -1   0   \n",
       "29  29       4   0   0  -1  -1   0   \n",
       "\n",
       "                                      job_description  \n",
       "0   mailing, scheduling, microsoft powerpoint, pla...  \n",
       "1   product sales, sales, customer service, insura...  \n",
       "2                primary care, primary care physician  \n",
       "3   critical thinking, hospital experience, custom...  \n",
       "4   verbal / oral communication, pediatric advance...  \n",
       "5                             sales, customer service  \n",
       "6   supervisory skills, leadership, computer literacy  \n",
       "7   customer contact, written communication, self-...  \n",
       "8   product sales, sales, business development, bu...  \n",
       "9   computerized numerical control lathes, compute...  \n",
       "10  hvac, business administration, emergency prepa...  \n",
       "11  product sales, energetic, planning, repair, pe...  \n",
       "12  systems engineering, renewable energy, simulat...  \n",
       "13                                 writing, telemetry  \n",
       "14  research, new product development, people mana...  \n",
       "15  level design, java, weblogic, oracle pl/sql, m...  \n",
       "16  hvac, energetic, construction management, micr...  \n",
       "17  medical billing, research, accounting, custome...  \n",
       "18  microsoft powershell, .net, microsoft windows,...  \n",
       "19  fuel systems, facility operation, electrical s...  \n",
       "20  product sales, application design, planning, a...  \n",
       "21  planning, data analysis, network hardware/soft...  \n",
       "22  product sales, commercial driving, vehicle saf...  \n",
       "23  operations management, microsoft word, problem...  \n",
       "24  repair, retail industry knowledge, staff manag...  \n",
       "25  painting, carpentry, apartment maintenance, pl...  \n",
       "26  sales, customer contact, customer service, ins...  \n",
       "27  human computer interaction, web application de...  \n",
       "28  sales, research, customer contact, legal indus...  \n",
       "29  sales planning, sales, mentoring, direct sales...  "
      ]
     },
     "execution_count": 52,
     "metadata": {},
     "output_type": "execute_result"
    }
   ],
   "source": [
    "data_df"
   ]
  },
  {
   "cell_type": "code",
   "execution_count": 87,
   "metadata": {},
   "outputs": [
    {
     "data": {
      "text/plain": [
       "(30, 5)"
      ]
     },
     "execution_count": 87,
     "metadata": {},
     "output_type": "execute_result"
    }
   ],
   "source": [
    "anno1 = np.array(data_df[['s1','s2','s3','s4','s5']])\n",
    "anno1.shape"
   ]
  },
  {
   "cell_type": "code",
   "execution_count": 83,
   "metadata": {},
   "outputs": [
    {
     "data": {
      "text/plain": [
       "pyanno.annotations.AnnotationsContainer"
      ]
     },
     "execution_count": 83,
     "metadata": {},
     "output_type": "execute_result"
    }
   ],
   "source": [
    "type(anno)"
   ]
  },
  {
   "cell_type": "code",
   "execution_count": 88,
   "metadata": {},
   "outputs": [
    {
     "data": {
      "text/plain": [
       "array([[ 1,  0,  2, -1, -1],\n",
       "       [ 0,  0,  0, -1, -1],\n",
       "       [ 0,  2,  0, -1, -1],\n",
       "       [ 0,  1,  1, -1, -1],\n",
       "       [ 1,  1,  0, -1, -1],\n",
       "       [ 0,  1,  1, -1, -1],\n",
       "       [-1,  0,  0,  1, -1],\n",
       "       [-1,  1,  0,  1, -1],\n",
       "       [-1,  1,  1,  1, -1],\n",
       "       [-1,  3,  3,  3, -1],\n",
       "       [-1,  1,  1,  1, -1],\n",
       "       [-1,  2,  0,  1, -1],\n",
       "       [-1, -1,  3,  2,  3],\n",
       "       [-1, -1,  1,  1,  1],\n",
       "       [-1, -1,  2,  1,  2],\n",
       "       [-1, -1,  3,  2,  3],\n",
       "       [-1, -1,  2,  2,  3],\n",
       "       [-1, -1,  1,  2,  2],\n",
       "       [ 3, -1, -1,  2,  3],\n",
       "       [ 1, -1, -1,  2,  1],\n",
       "       [ 1, -1, -1,  1,  1],\n",
       "       [ 2, -1, -1,  2,  2],\n",
       "       [ 2, -1, -1,  2,  1],\n",
       "       [ 0, -1, -1,  1,  0],\n",
       "       [ 1,  2, -1, -1,  0],\n",
       "       [ 3,  2, -1, -1,  1],\n",
       "       [ 1,  2, -1, -1,  0],\n",
       "       [ 2,  2, -1, -1,  2],\n",
       "       [ 0,  1, -1, -1,  0],\n",
       "       [ 0,  0, -1, -1,  0]])"
      ]
     },
     "execution_count": 88,
     "metadata": {},
     "output_type": "execute_result"
    }
   ],
   "source": [
    "anno = AnnotationsContainer.from_array(anno1, missing_values=[-1])\n",
    "anno.annotations"
   ]
  },
  {
   "cell_type": "code",
   "execution_count": 79,
   "metadata": {},
   "outputs": [
    {
     "data": {
      "text/plain": [
       "[0, 1, 2, 3]"
      ]
     },
     "execution_count": 79,
     "metadata": {},
     "output_type": "execute_result"
    }
   ],
   "source": [
    "anno.labels"
   ]
  },
  {
   "cell_type": "code",
   "execution_count": 80,
   "metadata": {},
   "outputs": [
    {
     "data": {
      "text/plain": [
       "[-1]"
      ]
     },
     "execution_count": 80,
     "metadata": {},
     "output_type": "execute_result"
    }
   ],
   "source": [
    "anno.missing_values"
   ]
  },
  {
   "cell_type": "code",
   "execution_count": 57,
   "metadata": {},
   "outputs": [
    {
     "data": {
      "text/plain": [
       "array([ 0.24444444,  0.36666667,  0.26666667,  0.12222222])"
      ]
     },
     "execution_count": 57,
     "metadata": {},
     "output_type": "execute_result"
    }
   ],
   "source": [
    "pyanno.measures.agreement.labels_frequency(anno.annotations,4)"
   ]
  },
  {
   "cell_type": "code",
   "execution_count": 58,
   "metadata": {},
   "outputs": [
    {
     "name": "stdout",
     "output_type": "stream",
     "text": [
      "[[ 2.  3.  1.  0.]\n",
      " [ 1.  1.  2.  0.]\n",
      " [ 0.  0.  1.  0.]\n",
      " [ 0.  0.  1.  0.]]\n"
     ]
    },
    {
     "data": {
      "image/png": "[encoded data removed]",
      "text/plain": [
       "<matplotlib.figure.Figure at 0x11c73e4e0>"
      ]
     },
     "metadata": {},
     "output_type": "display_data"
    }
   ],
   "source": [
    "c = pyanno.measures.agreement.confusion_matrix(anno.annotations[:,0], anno.annotations[:,1],4)\n",
    "print(c)\n",
    "ac = seaborn.heatmap(c)\n",
    "plt.show()"
   ]
  },
  {
   "cell_type": "code",
   "execution_count": 59,
   "metadata": {},
   "outputs": [
    {
     "data": {
      "text/plain": [
       "0.046357615894039701"
      ]
     },
     "execution_count": 59,
     "metadata": {},
     "output_type": "execute_result"
    }
   ],
   "source": [
    "scotts_pi(anno.annotations[:,3], anno.annotations[:,4])"
   ]
  },
  {
   "cell_type": "code",
   "execution_count": 60,
   "metadata": {},
   "outputs": [
    {
     "data": {
      "text/plain": [
       "0.27444253859348205"
      ]
     },
     "execution_count": 60,
     "metadata": {},
     "output_type": "execute_result"
    }
   ],
   "source": [
    "fleiss_kappa(anno.annotations[::])"
   ]
  },
  {
   "cell_type": "code",
   "execution_count": 61,
   "metadata": {},
   "outputs": [
    {
     "data": {
      "text/plain": [
       "0.59782030834662414"
      ]
     },
     "execution_count": 61,
     "metadata": {},
     "output_type": "execute_result"
    }
   ],
   "source": [
    "krippendorffs_alpha(anno.annotations[::])"
   ]
  },
  {
   "cell_type": "code",
   "execution_count": 62,
   "metadata": {},
   "outputs": [
    {
     "data": {
      "text/plain": [
       "0.076923076923076886"
      ]
     },
     "execution_count": 62,
     "metadata": {},
     "output_type": "execute_result"
    }
   ],
   "source": [
    "cohens_kappa(anno.annotations[:,0], anno.annotations[:,1])"
   ]
  },
  {
   "cell_type": "code",
   "execution_count": 63,
   "metadata": {},
   "outputs": [
    {
     "name": "stdout",
     "output_type": "stream",
     "text": [
      "[[ 1.          0.07692308  0.06493506  0.33606557  0.54811715]\n",
      " [ 0.07692308  1.          0.43037975  0.49056604  0.10373444]\n",
      " [ 0.06493506  0.43037975  1.          0.22222222  0.55      ]\n",
      " [ 0.33606557  0.49056604  0.22222222  1.          0.11111111]\n",
      " [ 0.54811715  0.10373444  0.55        0.11111111  1.        ]]\n"
     ]
    }
   ],
   "source": [
    "m = pairwise_matrix(cohens_kappa, anno.annotations)\n",
    "print(m)"
   ]
  },
  {
   "cell_type": "markdown",
   "metadata": {},
   "source": [
    "### difference visualization"
   ]
  },
  {
   "cell_type": "code",
   "execution_count": 64,
   "metadata": {},
   "outputs": [
    {
     "data": {
      "image/png": "[encoded data removed]",
      "text/plain": [
       "<matplotlib.figure.Figure at 0x11c7ca470>"
      ]
     },
     "metadata": {},
     "output_type": "display_data"
    }
   ],
   "source": [
    "ax = seaborn.heatmap(m)\n",
    "plt.show()"
   ]
  },
  {
   "cell_type": "code",
   "execution_count": 65,
   "metadata": {
    "scrolled": true
   },
   "outputs": [
    {
     "data": {
      "text/plain": [
       "0.29340544281789993"
      ]
     },
     "execution_count": 65,
     "metadata": {},
     "output_type": "execute_result"
    }
   ],
   "source": [
    "pairwise_metric_average(cohens_kappa, anno.annotations)"
   ]
  },
  {
   "cell_type": "markdown",
   "metadata": {},
   "source": [
    "##### we can see that the 5 experts in our dataset seldom agree with each other, suggesting the pattern we want to convey in our dataset might not be so obvious. This may due to the fact that data in each chunks is not so large that it our experts action might be fluctuating for some reasons.\n",
    "\n",
    "In my content annatation task, my friends are my experts and they are asked to make a decision whether this job advertisement is more for person skills(soft skills) or machine skills(hard skills): 0 suggests totally person skills; 1 suggests almost person skills; 2 suggests almost machine skills(hard skills) and 3 suggests totally machine skills(had skills)."
   ]
  },
  {
   "cell_type": "code",
   "execution_count": 44,
   "metadata": {},
   "outputs": [
    {
     "data": {
      "text/plain": [
       "0.28106508875739644"
      ]
     },
     "execution_count": 44,
     "metadata": {},
     "output_type": "execute_result"
    }
   ],
   "source": [
    "cohens_weighted_kappa(anno.annotations[:,0], anno.annotations[:,1])\n",
    "#pairwise_metric_average(cohens_weighted_kappa,anno.annotations)"
   ]
  },
  {
   "cell_type": "code",
   "execution_count": 45,
   "metadata": {},
   "outputs": [
    {
     "data": {
      "text/plain": [
       "0.41986143391664738"
      ]
     },
     "execution_count": 45,
     "metadata": {},
     "output_type": "execute_result"
    }
   ],
   "source": [
    "pairwise_metric_average(cohens_weighted_kappa,anno.annotations)"
   ]
  },
  {
   "cell_type": "code",
   "execution_count": 46,
   "metadata": {},
   "outputs": [
    {
     "data": {
      "image/png": "[encoded data removed]",
      "text/plain": [
       "<matplotlib.figure.Figure at 0x11c3b4278>"
      ]
     },
     "metadata": {},
     "output_type": "display_data"
    },
    {
     "data": {
      "image/png": "[encoded data removed]",
      "text/plain": [
       "<matplotlib.figure.Figure at 0x11c502978>"
      ]
     },
     "metadata": {},
     "output_type": "display_data"
    }
   ],
   "source": [
    "n = pairwise_matrix(pearsons_rho, anno.annotations)\n",
    "m = pairwise_matrix(spearmans_rho, anno.annotations)\n",
    "an = seaborn.heatmap(n)\n",
    "plt.show()\n",
    "am = seaborn.heatmap(m)\n",
    "plt.show()"
   ]
  },
  {
   "cell_type": "code",
   "execution_count": 47,
   "metadata": {},
   "outputs": [
    {
     "name": "stdout",
     "output_type": "stream",
     "text": [
      "0.556366725268 0.528328607505\n"
     ]
    }
   ],
   "source": [
    "print(pairwise_metric_average(pearsons_rho,anno.annotations), pairwise_metric_average(spearmans_rho,anno.annotations))"
   ]
  },
  {
   "cell_type": "code",
   "execution_count": 50,
   "metadata": {},
   "outputs": [
    {
     "data": {
      "text/plain": [
       "0.23758990985011136"
      ]
     },
     "execution_count": 50,
     "metadata": {},
     "output_type": "execute_result"
    }
   ],
   "source": [
    "pairwise_metric_average(cohens_kappa, anno.annotations)"
   ]
  },
  {
   "cell_type": "markdown",
   "metadata": {},
   "source": []
  },
  {
   "cell_type": "markdown",
   "metadata": {},
   "source": [
    "# Models"
   ]
  },
  {
   "cell_type": "markdown",
   "metadata": {},
   "source": [
    "However, what if some coders are better than others. The prior measures all rely on the assumption that all coders are equally good. What if some are worse than others? Now we use Rzhetsky et al (2009) and Dawid & Skene's models to make inference about true label classes by downweighting bad or deviant coders. Pyanno provides three relevant models: ModelA, ModelB, and ModelBt. Model A can only be currently run on a balanced 8-coder design, but assesses accuracy purely based on agreement. Model B with $\\theta$s models the relationship between each coder and code. Model B is the Dawid & Skene model from the reading. The following image schematically suggests the relationship between the models. <img src=\"../data/models.png\">"
   ]
  },
  {
   "cell_type": "markdown",
   "metadata": {},
   "source": [
    "The models should provide similar results. To estimate the parameters for any models, we first need to create a new model. "
   ]
  },
  {
   "cell_type": "code",
   "execution_count": 91,
   "metadata": {},
   "outputs": [
    {
     "name": "stdout",
     "output_type": "stream",
     "text": [
      "[[[ 0.80646959  0.0913818   0.09156442  0.01058419]\n",
      "  [ 0.05022724  0.69838625  0.04912247  0.20226404]\n",
      "  [ 0.06491403  0.12944315  0.65860814  0.14703469]\n",
      "  [ 0.0472618   0.06121414  0.35293966  0.5385844 ]]\n",
      "\n",
      " [[ 0.76114754  0.14185802  0.03698456  0.06000988]\n",
      "  [ 0.18196955  0.50364135  0.24251778  0.07187133]\n",
      "  [ 0.06014814  0.22816876  0.64806632  0.06361679]\n",
      "  [ 0.08448667  0.0941654   0.07951671  0.74183123]]\n",
      "\n",
      " [[ 0.84822838  0.07730046  0.04664772  0.02782344]\n",
      "  [ 0.27246777  0.47987256  0.1865238   0.06113587]\n",
      "  [ 0.01464836  0.23904948  0.63012065  0.11618151]\n",
      "  [ 0.01953725  0.08031127  0.05302357  0.8471279 ]]\n",
      "\n",
      " [[ 0.66808201  0.27616181  0.03685485  0.01890133]\n",
      "  [ 0.09318875  0.69810513  0.11188405  0.09682206]\n",
      "  [ 0.10816643  0.14826543  0.54731308  0.19625505]\n",
      "  [ 0.00093926  0.16935414  0.18477049  0.64493611]]\n",
      "\n",
      " [[ 0.7341397   0.11851564  0.13970619  0.00763847]\n",
      "  [ 0.24805225  0.51153652  0.10449912  0.13591211]\n",
      "  [ 0.05003858  0.17736894  0.68799022  0.08460227]\n",
      "  [ 0.0046429   0.13227955  0.16653265  0.6965449 ]]\n",
      "\n",
      " [[ 0.82162957  0.12930403  0.02776437  0.02130203]\n",
      "  [ 0.16834973  0.59906176  0.0883729   0.14421562]\n",
      "  [ 0.20699098  0.05782919  0.49905863  0.23612119]\n",
      "  [ 0.0058871   0.0494292   0.15492185  0.78976185]]\n",
      "\n",
      " [[ 0.86134717  0.0647354   0.05752023  0.0163972 ]\n",
      "  [ 0.09893076  0.70255773  0.1698179   0.02869362]\n",
      "  [ 0.08677137  0.2210945   0.57703584  0.11509829]\n",
      "  [ 0.01322303  0.02066628  0.23034059  0.73577011]]\n",
      "\n",
      " [[ 0.76786031  0.10643131  0.09768459  0.0280238 ]\n",
      "  [ 0.09536909  0.81780084  0.04850647  0.03832361]\n",
      "  [ 0.07181422  0.15932233  0.44379744  0.32506602]\n",
      "  [ 0.04429443  0.14797851  0.04543986  0.7622872 ]]]\n",
      "-3092.62091127\n"
     ]
    }
   ],
   "source": [
    "# create a new instance of model A, with 4 label classes\n",
    "model = ModelB.create_initial_state(4, 8)\n",
    "# other model parameters are initialized from the model prior\n",
    "print(model.theta)\n",
    "print(model.log_likelihood(anno_0.annotations))"
   ]
  },
  {
   "cell_type": "code",
   "execution_count": 92,
   "metadata": {
    "collapsed": true
   },
   "outputs": [],
   "source": [
    "samples = model.sample_posterior_over_accuracy(anno_0.annotations, 200, burn_in_samples=100, thin_samples=3)"
   ]
  },
  {
   "cell_type": "markdown",
   "metadata": {},
   "source": [
    "Pyanno allows one to use either MLE (maximum likelihood estimation) or MAP (maximum a posteriori estimation) to estimate model parameters. Note that the parameters here correspond to our estimation of the accuracy of each annotator."
   ]
  },
  {
   "cell_type": "code",
   "execution_count": 96,
   "metadata": {},
   "outputs": [
    {
     "name": "stdout",
     "output_type": "stream",
     "text": [
      "[[[  7.73398728e-01   2.01020245e-01   2.55810269e-02   1.20101219e-26]\n",
      "  [  1.47832659e-01   7.11503767e-01   7.66499157e-02   6.40136580e-02]\n",
      "  [  1.97431020e-02   1.48708709e-01   6.96639326e-01   1.34908863e-01]\n",
      "  [  2.52463780e-18   2.13647377e-02   8.51550428e-02   8.93480220e-01]]\n",
      "\n",
      " [[  7.19395465e-01   2.01828761e-01   7.87757734e-02   1.55486964e-13]\n",
      "  [  1.33941799e-01   7.07223261e-01   1.10418200e-01   4.84167403e-02]\n",
      "  [  2.72093282e-02   1.65178369e-01   6.71232700e-01   1.36379603e-01]\n",
      "  [  2.15358721e-30   5.38211823e-02   1.21871740e-01   8.24307077e-01]]\n",
      "\n",
      " [[  8.50073137e-01   1.22955501e-01   2.69713621e-02   3.64395738e-42]\n",
      "  [  8.93514251e-02   7.89280333e-01   8.93429608e-02   3.20252811e-02]\n",
      "  [  6.11638366e-02   1.29121422e-01   7.03992731e-01   1.05722011e-01]\n",
      "  [  6.53666390e-03   5.12606512e-02   2.10869595e-01   7.31333090e-01]]\n",
      "\n",
      " [[  6.99612801e-01   2.70976969e-01   2.94102301e-02   8.57899704e-52]\n",
      "  [  9.67171336e-02   7.62615701e-01   1.09523823e-01   3.11433425e-02]\n",
      "  [  1.81150586e-02   1.45472330e-01   6.85587954e-01   1.50824657e-01]\n",
      "  [  2.71897111e-47   2.98511124e-02   2.28749569e-01   7.41399319e-01]]\n",
      "\n",
      " [[  8.11803144e-01   1.19373545e-01   6.88233110e-02   9.13991546e-49]\n",
      "  [  1.24726986e-01   6.93211818e-01   1.47008725e-01   3.50524714e-02]\n",
      "  [  1.10580622e-02   2.13907919e-01   6.46719976e-01   1.28314044e-01]\n",
      "  [  6.58948915e-52   5.98095047e-02   1.82979139e-01   7.57211357e-01]]\n",
      "\n",
      " [[  7.71186748e-01   2.05349662e-01   2.34635900e-02   1.87519848e-51]\n",
      "  [  1.10920303e-01   6.98703449e-01   1.62586425e-01   2.77898237e-02]\n",
      "  [  2.69432947e-02   1.74971748e-01   6.58688648e-01   1.39396309e-01]\n",
      "  [  1.04070689e-20   8.19488668e-02   1.50728042e-01   7.67323091e-01]]\n",
      "\n",
      " [[  7.77751875e-01   1.41612394e-01   8.06357307e-02   7.49343463e-22]\n",
      "  [  1.14108703e-01   6.72056519e-01   1.68346177e-01   4.54886006e-02]\n",
      "  [  1.60943993e-02   1.18997632e-01   7.24591200e-01   1.40316769e-01]\n",
      "  [  9.41957786e-52   4.72911966e-02   1.30538454e-01   8.22170350e-01]]\n",
      "\n",
      " [[  8.52754118e-01   1.18087361e-01   2.91585215e-02   1.95577162e-42]\n",
      "  [  1.29319568e-01   6.36012446e-01   1.95669325e-01   3.89986612e-02]\n",
      "  [  2.96631200e-02   1.67273811e-01   6.42736730e-01   1.60326339e-01]\n",
      "  [  1.03418107e-24   4.32627993e-02   1.13010804e-01   8.43726397e-01]]]\n",
      "-2625.88506762\n"
     ]
    }
   ],
   "source": [
    "model.map(anno_0.annotations)\n",
    "print(model.theta)\n",
    "print(model.log_likelihood(anno_0.annotations))"
   ]
  },
  {
   "cell_type": "code",
   "execution_count": 97,
   "metadata": {},
   "outputs": [
    {
     "name": "stdout",
     "output_type": "stream",
     "text": [
      "[[[  7.73398728e-01   2.01020245e-01   2.55810269e-02   1.20101219e-26]\n",
      "  [  1.47832659e-01   7.11503767e-01   7.66499157e-02   6.40136580e-02]\n",
      "  [  1.97431020e-02   1.48708709e-01   6.96639326e-01   1.34908863e-01]\n",
      "  [  2.52463780e-18   2.13647377e-02   8.51550428e-02   8.93480220e-01]]\n",
      "\n",
      " [[  7.19395465e-01   2.01828761e-01   7.87757734e-02   1.55486964e-13]\n",
      "  [  1.33941799e-01   7.07223261e-01   1.10418200e-01   4.84167403e-02]\n",
      "  [  2.72093282e-02   1.65178369e-01   6.71232700e-01   1.36379603e-01]\n",
      "  [  2.15358721e-30   5.38211823e-02   1.21871740e-01   8.24307077e-01]]\n",
      "\n",
      " [[  8.50073137e-01   1.22955501e-01   2.69713621e-02   3.64395738e-42]\n",
      "  [  8.93514251e-02   7.89280333e-01   8.93429608e-02   3.20252811e-02]\n",
      "  [  6.11638366e-02   1.29121422e-01   7.03992731e-01   1.05722011e-01]\n",
      "  [  6.53666390e-03   5.12606512e-02   2.10869595e-01   7.31333090e-01]]\n",
      "\n",
      " [[  6.99612801e-01   2.70976969e-01   2.94102301e-02   8.57899704e-52]\n",
      "  [  9.67171336e-02   7.62615701e-01   1.09523823e-01   3.11433425e-02]\n",
      "  [  1.81150586e-02   1.45472330e-01   6.85587954e-01   1.50824657e-01]\n",
      "  [  2.71897111e-47   2.98511124e-02   2.28749569e-01   7.41399319e-01]]\n",
      "\n",
      " [[  8.11803144e-01   1.19373545e-01   6.88233110e-02   9.13991546e-49]\n",
      "  [  1.24726986e-01   6.93211818e-01   1.47008725e-01   3.50524714e-02]\n",
      "  [  1.10580622e-02   2.13907919e-01   6.46719976e-01   1.28314044e-01]\n",
      "  [  6.58948915e-52   5.98095047e-02   1.82979139e-01   7.57211357e-01]]\n",
      "\n",
      " [[  7.71186748e-01   2.05349662e-01   2.34635900e-02   1.87519848e-51]\n",
      "  [  1.10920303e-01   6.98703449e-01   1.62586425e-01   2.77898237e-02]\n",
      "  [  2.69432947e-02   1.74971748e-01   6.58688648e-01   1.39396309e-01]\n",
      "  [  1.04070689e-20   8.19488668e-02   1.50728042e-01   7.67323091e-01]]\n",
      "\n",
      " [[  7.77751875e-01   1.41612394e-01   8.06357307e-02   7.49343463e-22]\n",
      "  [  1.14108703e-01   6.72056519e-01   1.68346177e-01   4.54886006e-02]\n",
      "  [  1.60943993e-02   1.18997632e-01   7.24591200e-01   1.40316769e-01]\n",
      "  [  9.41957786e-52   4.72911966e-02   1.30538454e-01   8.22170350e-01]]\n",
      "\n",
      " [[  8.52754118e-01   1.18087361e-01   2.91585215e-02   1.95577162e-42]\n",
      "  [  1.29319568e-01   6.36012446e-01   1.95669325e-01   3.89986612e-02]\n",
      "  [  2.96631200e-02   1.67273811e-01   6.42736730e-01   1.60326339e-01]\n",
      "  [  1.03418107e-24   4.32627993e-02   1.13010804e-01   8.43726397e-01]]]\n",
      "-2625.88506762\n"
     ]
    }
   ],
   "source": [
    "model = ModelB.create_initial_state(4, 8)\n",
    "model.map(anno_0.annotations)\n",
    "print(model.theta)\n",
    "print(model.log_likelihood(anno_0.annotations))"
   ]
  },
  {
   "cell_type": "markdown",
   "metadata": {},
   "source": [
    "Once we have model parameters estimated, we can now make inferences about the true label classes. We can calculate the posterior distribution over the true label classes."
   ]
  },
  {
   "cell_type": "code",
   "execution_count": 98,
   "metadata": {},
   "outputs": [
    {
     "name": "stdout",
     "output_type": "stream",
     "text": [
      "[[  1.20741380e-42   1.00240780e-01   7.90821679e-01   1.08937540e-01]\n",
      " [  9.92682453e-01   7.07056554e-03   2.46981317e-04   2.03944498e-49]\n",
      " [  1.07420297e-03   5.51435353e-02   9.37476514e-01   6.30574822e-03]\n",
      " ..., \n",
      " [  8.15378491e-04   3.51193436e-02   9.59859130e-01   4.20614824e-03]\n",
      " [  1.34481992e-44   2.14447325e-03   9.16166870e-01   8.16886569e-02]\n",
      " [  2.14745550e-01   7.69057353e-01   1.61970966e-02   2.01807019e-26]]\n"
     ]
    }
   ],
   "source": [
    "posterior = model.infer_labels(anno_0.annotations)\n",
    "print(posterior)"
   ]
  },
  {
   "cell_type": "markdown",
   "metadata": {},
   "source": [
    "Let's turn the posterior of the first 100 samples into a heatmap."
   ]
  },
  {
   "cell_type": "code",
   "execution_count": 99,
   "metadata": {
    "collapsed": true
   },
   "outputs": [],
   "source": [
    "votes = []\n",
    "for r in anno_0.annotations:\n",
    "    v = [0] * len(anno_0.labels)\n",
    "    votes.append(v)\n",
    "    for a in r:\n",
    "        if a > -1:\n",
    "            v[a] += 1\n",
    "votes_array = np.array(votes)"
   ]
  },
  {
   "cell_type": "code",
   "execution_count": 100,
   "metadata": {},
   "outputs": [
    {
     "data": {
      "image/png": "[encoded data removed]",
      "text/plain": [
       "<matplotlib.figure.Figure at 0x11ca6b630>"
      ]
     },
     "metadata": {},
     "output_type": "display_data"
    }
   ],
   "source": [
    "fig, (ax1, ax2) = plt.subplots(ncols=2, figsize = (15, 10), sharey=True)\n",
    "num_questions = 20\n",
    "\n",
    "seaborn.heatmap(votes_array[:num_questions], annot = True, ax=ax2)\n",
    "seaborn.heatmap(posterior[:num_questions], annot=True, ax =ax1)\n",
    "ax1.set_title(\"Model\")\n",
    "ax2.set_title(\"Votes\")\n",
    "plt.show()"
   ]
  },
  {
   "cell_type": "markdown",
   "metadata": {},
   "source": [
    "This differs markedly from taking annotator scores at face value (Add comparison of average values)"
   ]
  },
  {
   "cell_type": "code",
   "execution_count": 102,
   "metadata": {},
   "outputs": [],
   "source": [
    "samples = model.sample_posterior_over_accuracy(anno_0.annotations, 200, burn_in_samples=100, thin_samples=3)"
   ]
  },
  {
   "cell_type": "code",
   "execution_count": 103,
   "metadata": {},
   "outputs": [
    {
     "name": "stdout",
     "output_type": "stream",
     "text": [
      "[[[ 0.72910394  0.2038905   0.04464839  0.02235717]\n",
      "  [ 0.13933088  0.69304479  0.09611763  0.0715067 ]\n",
      "  [ 0.02786698  0.15009842  0.6792378   0.14279681]\n",
      "  [ 0.01317657  0.03153034  0.104609    0.85068409]]\n",
      "\n",
      " [[ 0.66852126  0.2165631   0.08873341  0.02618224]\n",
      "  [ 0.13666464  0.68910716  0.12373224  0.05049596]\n",
      "  [ 0.03378499  0.16594021  0.66259357  0.13768123]\n",
      "  [ 0.0097471   0.06503086  0.13198705  0.79323499]]\n",
      "\n",
      " [[ 0.78180832  0.15009002  0.04778929  0.02031238]\n",
      "  [ 0.10176989  0.75071719  0.10337279  0.04414013]\n",
      "  [ 0.0642786   0.1330148   0.69527034  0.10743627]\n",
      "  [ 0.01671506  0.059743    0.21921833  0.70432362]]\n",
      "\n",
      " [[ 0.6516185   0.27525159  0.05073549  0.02239441]\n",
      "  [ 0.10262543  0.7335833   0.12333792  0.04045336]\n",
      "  [ 0.02702357  0.15520638  0.66424727  0.15352278]\n",
      "  [ 0.00915857  0.03888909  0.23328372  0.71866862]]\n",
      "\n",
      " [[ 0.7554566   0.14001433  0.08492564  0.01960342]\n",
      "  [ 0.12686457  0.68067973  0.14456133  0.04789437]\n",
      "  [ 0.01984407  0.20565517  0.64136852  0.13313224]\n",
      "  [ 0.00932882  0.06600267  0.19012225  0.73454626]]\n",
      "\n",
      " [[ 0.73422398  0.20387899  0.04348514  0.0184119 ]\n",
      "  [ 0.11431392  0.67518239  0.16404627  0.04645742]\n",
      "  [ 0.03336676  0.18323614  0.6392278   0.1441693 ]\n",
      "  [ 0.01135103  0.08473265  0.16330973  0.74060659]]\n",
      "\n",
      " [[ 0.72708761  0.16254853  0.08965889  0.02070497]\n",
      "  [ 0.11343269  0.65149306  0.18360827  0.05146598]\n",
      "  [ 0.02600835  0.1276765   0.71180698  0.13450817]\n",
      "  [ 0.00935607  0.05336226  0.14138172  0.79589995]]\n",
      "\n",
      " [[ 0.77817262  0.1455212   0.05686672  0.01943946]\n",
      "  [ 0.13831175  0.61113198  0.19855733  0.05199895]\n",
      "  [ 0.03335428  0.17028504  0.63068739  0.16567328]\n",
      "  [ 0.01076611  0.06049081  0.12883068  0.7999124 ]]]\n",
      "[[[ 0.06435368  0.06343581  0.0320308   0.01970807]\n",
      "  [ 0.04682284  0.06373023  0.04139027  0.03305474]\n",
      "  [ 0.016096    0.03943442  0.04706589  0.03701314]\n",
      "  [ 0.01264532  0.02038199  0.0419373   0.04692927]]\n",
      "\n",
      " [[ 0.07470561  0.06283531  0.04356308  0.02440794]\n",
      "  [ 0.04541759  0.06060687  0.04432388  0.02680587]\n",
      "  [ 0.01814093  0.03657585  0.04729802  0.03854479]\n",
      "  [ 0.00967427  0.02753066  0.03724782  0.04440758]]\n",
      "\n",
      " [[ 0.06100587  0.05577082  0.02870545  0.02015557]\n",
      "  [ 0.03815779  0.05040395  0.03731762  0.02375736]\n",
      "  [ 0.02153556  0.03467573  0.04560826  0.03319661]\n",
      "  [ 0.01360123  0.02674817  0.050161    0.04881835]]\n",
      "\n",
      " [[ 0.06891907  0.06566225  0.03489091  0.02102957]\n",
      "  [ 0.03888148  0.05456044  0.04319309  0.02195889]\n",
      "  [ 0.01462511  0.04079518  0.04784132  0.0381074 ]\n",
      "  [ 0.00766485  0.0208995   0.04626115  0.0489064 ]]\n",
      "\n",
      " [[ 0.06102514  0.0521031   0.03847972  0.01748236]\n",
      "  [ 0.04118693  0.05895387  0.04808553  0.02519828]\n",
      "  [ 0.01445644  0.04472263  0.05216192  0.03781691]\n",
      "  [ 0.01056796  0.0299845   0.04285451  0.04663441]]\n",
      "\n",
      " [[ 0.06816682  0.06291724  0.02770112  0.01671798]\n",
      "  [ 0.04349656  0.06121216  0.05382452  0.02656659]\n",
      "  [ 0.01779629  0.04034727  0.04482101  0.03847652]\n",
      "  [ 0.01084546  0.03066466  0.04740968  0.05279393]]\n",
      "\n",
      " [[ 0.06579129  0.05556234  0.04063087  0.01712923]\n",
      "  [ 0.03877435  0.06654716  0.05932986  0.02830201]\n",
      "  [ 0.01592105  0.03373665  0.04742511  0.03625244]\n",
      "  [ 0.00912409  0.02405914  0.04329542  0.04613549]]\n",
      "\n",
      " [[ 0.06270358  0.05468418  0.03754837  0.01917103]\n",
      "  [ 0.04231692  0.06263415  0.05582036  0.03207094]\n",
      "  [ 0.01369552  0.03551607  0.04368228  0.03425294]\n",
      "  [ 0.00988676  0.02905954  0.03948068  0.04713642]]]\n"
     ]
    }
   ],
   "source": [
    "print(samples[0].mean(axis=0))\n",
    "print(samples[0].std(axis=0))"
   ]
  },
  {
   "cell_type": "markdown",
   "metadata": {},
   "source": [
    "Let's try everything again with ModelBt"
   ]
  },
  {
   "cell_type": "code",
   "execution_count": 104,
   "metadata": {},
   "outputs": [
    {
     "name": "stdout",
     "output_type": "stream",
     "text": [
      "[ 0.60787042  0.64583835  0.83616574  0.72798819  0.74030535  0.866523\n",
      "  0.74824233  0.68861105]\n",
      "-3153.65892982\n"
     ]
    }
   ],
   "source": [
    "# create a new instance of model B, with 4 label classes and 8 annotators.\n",
    "model = ModelBt.create_initial_state(4, 8)\n",
    "print(model.theta)\n",
    "print(model.log_likelihood(anno_0.annotations))"
   ]
  },
  {
   "cell_type": "code",
   "execution_count": 106,
   "metadata": {},
   "outputs": [
    {
     "name": "stdout",
     "output_type": "stream",
     "text": [
      "[ 0.79127377  0.74082149  0.76218411  0.72513975  0.71641045  0.71855908\n",
      "  0.77338412  0.71668953]\n",
      "-2811.94634351\n"
     ]
    }
   ],
   "source": [
    "model.map(anno_0.annotations)\n",
    "print(model.theta)\n",
    "print(model.log_likelihood(anno_0.annotations))"
   ]
  },
  {
   "cell_type": "code",
   "execution_count": 107,
   "metadata": {},
   "outputs": [
    {
     "name": "stdout",
     "output_type": "stream",
     "text": [
      "[[ 0.01110713  0.28927849  0.36512192  0.33449245]\n",
      " [ 0.99022542  0.00241841  0.00404843  0.00330774]\n",
      " [ 0.00249995  0.05504452  0.9346253   0.00783023]\n",
      " ..., \n",
      " [ 0.00252928  0.04395715  0.94559147  0.00792211]\n",
      " [ 0.00249427  0.00571199  0.93250426  0.05928948]\n",
      " [ 0.03190218  0.93881618  0.01611501  0.01316663]]\n"
     ]
    }
   ],
   "source": [
    "posterior = model.infer_labels(anno_0.annotations)\n",
    "print(posterior)"
   ]
  },
  {
   "cell_type": "markdown",
   "metadata": {},
   "source": [
    "Let's visualize the posterior of the first 10 samples according to ModelBt."
   ]
  },
  {
   "cell_type": "code",
   "execution_count": 108,
   "metadata": {},
   "outputs": [
    {
     "data": {
      "image/png": "[encoded data removed]",
      "text/plain": [
       "<matplotlib.figure.Figure at 0x11c9d8a20>"
      ]
     },
     "metadata": {},
     "output_type": "display_data"
    }
   ],
   "source": [
    "ax = seaborn.heatmap(posterior[:10,])\n",
    "plt.show()"
   ]
  },
  {
   "cell_type": "markdown",
   "metadata": {},
   "source": [
    "The property of these scores is that they enable us to identify the most likely code assuming coders of unequal quality, which also allows us to break ties when we know coder identity. For some analyses, we may simply use the posterior themselves rather than the most probably code outcome."
   ]
  },
  {
   "cell_type": "markdown",
   "metadata": {},
   "source": [
    "# Generating Annotations"
   ]
  },
  {
   "cell_type": "markdown",
   "metadata": {},
   "source": [
    "Pyanno also allows one to generate artificial data from a model."
   ]
  },
  {
   "cell_type": "code",
   "execution_count": 109,
   "metadata": {},
   "outputs": [
    {
     "data": {
      "text/plain": [
       "array([[3, 3, 2],\n",
       "       [1, 0, 2],\n",
       "       [3, 3, 1],\n",
       "       [1, 1, 1],\n",
       "       [3, 3, 1],\n",
       "       [0, 0, 0],\n",
       "       [0, 1, 1],\n",
       "       [1, 3, 0],\n",
       "       [1, 1, 1],\n",
       "       [0, 0, 1],\n",
       "       [0, 0, 3],\n",
       "       [1, 3, 3],\n",
       "       [1, 1, 2],\n",
       "       [1, 2, 1],\n",
       "       [1, 1, 2],\n",
       "       [2, 3, 3],\n",
       "       [0, 2, 0],\n",
       "       [0, 0, 2],\n",
       "       [0, 3, 0],\n",
       "       [1, 1, 1]])"
      ]
     },
     "execution_count": 109,
     "metadata": {},
     "output_type": "execute_result"
    }
   ],
   "source": [
    "model = ModelBt.create_initial_state(4, 3, theta=[0.99,0.75,0.25])\n",
    "#randome generate annotations with 4 label classes and 3 annotators. The accuracy of the three annotators are 0.99, 0.75, and 0.25 respectively.\n",
    "model.generate_annotations(20)"
   ]
  },
  {
   "cell_type": "markdown",
   "metadata": {},
   "source": [
    "## Visualizing coder accuracy"
   ]
  },
  {
   "cell_type": "markdown",
   "metadata": {},
   "source": [
    "Pyanno provides a [graphical user interface](http://docs.enthought.com/uchicago-pyanno/user_guide.html) for making plots. However, it is not compatible with ipython notebooks. Nevertheless, nothing prevents us from making plots using matplotlib. Let's make a plot of the accuracy of each annotator inferred from ModelA."
   ]
  },
  {
   "cell_type": "code",
   "execution_count": 110,
   "metadata": {
    "collapsed": true
   },
   "outputs": [],
   "source": [
    "model = ModelBt.create_initial_state(4, 8)\n",
    "model.mle(anno_0.annotations)\n",
    "samples = model.sample_posterior_over_accuracy(anno_0.annotations, 200, burn_in_samples=100, thin_samples=3)\n",
    "y =  samples.mean(axis=0)#.mean(axis = 1).mean(axis = 1)\n",
    "y_ci = samples.std(axis=0)#.mean(axis = 1).mean(axis = 1)"
   ]
  },
  {
   "cell_type": "code",
   "execution_count": 111,
   "metadata": {},
   "outputs": [
    {
     "data": {
      "image/png": "[encoded data removed]",
      "text/plain": [
       "<matplotlib.figure.Figure at 0x118bf4f60>"
      ]
     },
     "metadata": {},
     "output_type": "display_data"
    }
   ],
   "source": [
    "plt.figure()\n",
    "plt.errorbar(range(8),y, yerr = y_ci)\n",
    "plt.show()"
   ]
  },
  {
   "cell_type": "markdown",
   "metadata": {},
   "source": [
    "# Example with articles that use the General Social Survey"
   ]
  },
  {
   "cell_type": "markdown",
   "metadata": {},
   "source": [
    "I performed a recent study in which the variables from thousands of articles were associated with those used in the General Social Survey, a widely used population sample, in order to interrogate how social science analyses are performed. Each article was reread and coded by a balanced set of three student coders using a 6 choose 3 design, such that all possible 3-coder-subsets (20) coded an equal number of articles. Coding was performed through a website that allowed students access to the digital article. To evaluate the validity of the student codes, we also recruited a sample of authors associated with 97 of our published articles to fill out the same online survey. \n",
    "\n",
    "Because not all coders coded items with equal accuracy, and because “don’t know” was an optional answer, leading to potential ties, we used a generative, probabilistic model to estimate the maximum a posteriori probability (MAP) prediction that an item’s code is true, which integrates over the estimated accuracy of coders, assuming only that the entire population of coders is slightly more often right than wrong. The model (“Model B”) is based on a simple underlying generation process that directly accounts for the probability that coded values are correct (Rzhetsky et al. 2009). For each coded value j, a set of parameters, denoted γj, represents the probability that each coded value is correct. For the ith coder (i = 1, 2, …, 6), we introduce a matrix of probabilities, denoted λ(i)x|y, that defines the probability that she assigns code x (e.g., Dependent variable) to a GSS variable with correct annotation y. For a perfect coder, the matrix λ(i)x|y would equal the identity matrix and her vote would count most toward the total. For a coder that always codes incorrectly—a “troll”—her matrix λ(i)x|y will have all its value off the diagonal and will only minimally influence the posterior. We co-authored the open source pyanno software that implements this model."
   ]
  },
  {
   "cell_type": "markdown",
   "metadata": {},
   "source": [
    "Getting the data for each content analysis survey regarding how GSS variables were used in a large population of social science articles."
   ]
  },
  {
   "cell_type": "code",
   "execution_count": 113,
   "metadata": {},
   "outputs": [],
   "source": [
    "#anno_vdep = AnnotationsContainer.from_file(missing_values=[-1], filename=\"GSSvariable_testSdependent.csv\")\n",
    "dev = np.loadtxt(fname=\"n7GSSvariable_testSdependent.csv\", dtype=int, delimiter=\",\")\n",
    "anno_dv = AnnotationsContainer.from_array(dev)\n",
    "\n",
    "ind = np.loadtxt(fname=\"n7GSSvariable_testSindependent.csv\", dtype=int, delimiter=\",\")\n",
    "anno_iv = AnnotationsContainer.from_array(ind)\n",
    "\n",
    "cent = np.loadtxt(fname=\"n7GSSvariable_testScentral.csv\", dtype=int, delimiter=\",\")\n",
    "anno_cv = AnnotationsContainer.from_array(cent)\n",
    "\n",
    "cont = np.loadtxt(fname=\"n7GSSvariable_testScontrol.csv\", dtype=int, delimiter=\",\")\n",
    "anno_ctv = AnnotationsContainer.from_array(cont)\n",
    "\n",
    "test = np.loadtxt(fname=\"testH.csv\", dtype=int, delimiter=\",\")\n",
    "anno_test = AnnotationsContainer.from_array(test)"
   ]
  },
  {
   "cell_type": "markdown",
   "metadata": {},
   "source": [
    "Let's examine the data structure."
   ]
  },
  {
   "cell_type": "code",
   "execution_count": 114,
   "metadata": {},
   "outputs": [
    {
     "data": {
      "text/plain": [
       "(21461, 6)"
      ]
     },
     "execution_count": 114,
     "metadata": {},
     "output_type": "execute_result"
    }
   ],
   "source": [
    "dev.shape"
   ]
  },
  {
   "cell_type": "code",
   "execution_count": 115,
   "metadata": {},
   "outputs": [
    {
     "data": {
      "text/plain": [
       "[0, 1]"
      ]
     },
     "execution_count": 115,
     "metadata": {},
     "output_type": "execute_result"
    }
   ],
   "source": [
    "anno_dv.labels"
   ]
  },
  {
   "cell_type": "code",
   "execution_count": 116,
   "metadata": {},
   "outputs": [
    {
     "data": {
      "text/plain": [
       "[-1]"
      ]
     },
     "execution_count": 116,
     "metadata": {},
     "output_type": "execute_result"
    }
   ],
   "source": [
    "anno_dv.missing_values"
   ]
  },
  {
   "cell_type": "code",
   "execution_count": 117,
   "metadata": {},
   "outputs": [
    {
     "data": {
      "text/plain": [
       "(21461, 6)"
      ]
     },
     "execution_count": 117,
     "metadata": {},
     "output_type": "execute_result"
    }
   ],
   "source": [
    "anno_dv.annotations.shape"
   ]
  },
  {
   "cell_type": "markdown",
   "metadata": {},
   "source": [
    "First, let's use Cohen's $\\kappa$ to measure agreement between coders..."
   ]
  },
  {
   "cell_type": "code",
   "execution_count": 120,
   "metadata": {},
   "outputs": [
    {
     "data": {
      "text/plain": [
       "[0, 1]"
      ]
     },
     "execution_count": 120,
     "metadata": {},
     "output_type": "execute_result"
    }
   ],
   "source": [
    "anno_dv.labels"
   ]
  },
  {
   "cell_type": "code",
   "execution_count": 119,
   "metadata": {},
   "outputs": [
    {
     "name": "stdout",
     "output_type": "stream",
     "text": [
      "[[ 1.          0.62426874  0.46682841  0.44599604  0.16569888  0.36657805]\n",
      " [ 0.62426874  1.          0.53480937  0.52673854  0.3306905   0.59513211]\n",
      " [ 0.46682841  0.53480937  1.          0.50580068  0.42393752  0.49833997]\n",
      " [ 0.44599604  0.52673854  0.50580068  1.          0.46517493  0.47023754]\n",
      " [ 0.16569888  0.3306905   0.42393752  0.46517493  1.          0.66190749]\n",
      " [ 0.36657805  0.59513211  0.49833997  0.47023754  0.66190749  1.        ]]\n"
     ]
    }
   ],
   "source": [
    "m = pairwise_matrix(cohens_kappa, anno_dv.annotations)\n",
    "print(m)"
   ]
  },
  {
   "cell_type": "markdown",
   "metadata": {},
   "source": [
    "Let's visualize that..."
   ]
  },
  {
   "cell_type": "code",
   "execution_count": 121,
   "metadata": {},
   "outputs": [
    {
     "data": {
      "image/png": "[encoded data removed]",
      "text/plain": [
       "<matplotlib.figure.Figure at 0x11c43dd68>"
      ]
     },
     "metadata": {},
     "output_type": "display_data"
    }
   ],
   "source": [
    "ax = seaborn.heatmap(m)\n",
    "plt.show()"
   ]
  },
  {
   "cell_type": "code",
   "execution_count": 122,
   "metadata": {},
   "outputs": [
    {
     "data": {
      "text/plain": [
       "0.4721425844540702"
      ]
     },
     "execution_count": 122,
     "metadata": {},
     "output_type": "execute_result"
    }
   ],
   "source": [
    "pairwise_metric_average(cohens_kappa, anno_dv.annotations)"
   ]
  },
  {
   "cell_type": "markdown",
   "metadata": {},
   "source": [
    "Let's compute the statistics on each of the datasets and with Pearson's $\\rho$. "
   ]
  },
  {
   "cell_type": "code",
   "execution_count": 123,
   "metadata": {
    "collapsed": true
   },
   "outputs": [],
   "source": [
    "datasets = [anno_dv.annotations, anno_iv.annotations, anno_cv.annotations, anno_ctv.annotations]\n",
    "ck = [pairwise_matrix(cohens_kappa, anno) for anno in datasets]\n",
    "pr = [pairwise_matrix(pearsons_rho, anno) for anno in datasets]\n",
    "titles = ['DV', 'IV', 'Central Variable', \"Control Variable\"]"
   ]
  },
  {
   "cell_type": "code",
   "execution_count": 124,
   "metadata": {},
   "outputs": [
    {
     "data": {
      "image/png": "[encoded data removed]",
      "text/plain": [
       "<matplotlib.figure.Figure at 0x113b4f9b0>"
      ]
     },
     "metadata": {},
     "output_type": "display_data"
    }
   ],
   "source": [
    "fig, axs = plt.subplots(2,4)\n",
    "fig.set_size_inches(18, 7)\n",
    "for k, ax, title in zip(ck,axs[0], titles):\n",
    "    seaborn.heatmap(k, ax = ax)\n",
    "    ax.set_title(title)\n",
    "    ax.set_xticks(())\n",
    "    ax.set_yticks(())\n",
    "for r, ax in zip(pr,axs[1]):\n",
    "    seaborn.heatmap(r, ax = ax)\n",
    "    ax.set_xticks(())\n",
    "    ax.set_yticks(())\n",
    "plt.show()"
   ]
  },
  {
   "cell_type": "markdown",
   "metadata": {},
   "source": [
    "Now we will compare the student coders."
   ]
  },
  {
   "cell_type": "code",
   "execution_count": 125,
   "metadata": {
    "collapsed": true
   },
   "outputs": [],
   "source": [
    "nondiag = (np.eye(6)-np.ones(6))*-1.0"
   ]
  },
  {
   "cell_type": "code",
   "execution_count": 126,
   "metadata": {},
   "outputs": [
    {
     "data": {
      "text/plain": [
       "array([[-0.,  1.,  1.,  1.,  1.,  1.],\n",
       "       [ 1., -0.,  1.,  1.,  1.,  1.],\n",
       "       [ 1.,  1., -0.,  1.,  1.,  1.],\n",
       "       [ 1.,  1.,  1., -0.,  1.,  1.],\n",
       "       [ 1.,  1.,  1.,  1., -0.,  1.],\n",
       "       [ 1.,  1.,  1.,  1.,  1., -0.]])"
      ]
     },
     "execution_count": 126,
     "metadata": {},
     "output_type": "execute_result"
    }
   ],
   "source": [
    "nondiag"
   ]
  },
  {
   "cell_type": "code",
   "execution_count": 127,
   "metadata": {},
   "outputs": [
    {
     "name": "stdout",
     "output_type": "stream",
     "text": [
      "0.472142584454\n",
      "0.514240727822\n",
      "0.45296278237\n",
      "0.475965268669\n",
      "0.270823768698\n",
      "0.315140498284\n",
      "0.328334778759\n",
      "0.39458527792\n"
     ]
    }
   ],
   "source": [
    "xdevck = pairwise_matrix(cohens_kappa, anno_dv.annotations)\n",
    "xdevpr = pairwise_matrix(pearsons_rho, anno_dv.annotations)\n",
    "\n",
    "xindck = pairwise_matrix(cohens_kappa, anno_iv.annotations)\n",
    "xindpr = pairwise_matrix(pearsons_rho, anno_iv.annotations)\n",
    "\n",
    "xcenck = pairwise_matrix(cohens_kappa, anno_cv.annotations)\n",
    "xcenpr = pairwise_matrix(pearsons_rho, anno_cv.annotations)\n",
    "\n",
    "xconck = pairwise_matrix(cohens_kappa, anno_ctv.annotations)\n",
    "xconpr = pairwise_matrix(pearsons_rho, anno_ctv.annotations)\n",
    "\n",
    "print(np.average(xdevck, weights=nondiag))\n",
    "print(np.average(xdevpr, weights=nondiag))\n",
    "print(np.average(xindck, weights=nondiag))\n",
    "print(np.average(xindpr, weights=nondiag))\n",
    "print(np.average(xcenck, weights=nondiag))\n",
    "print(np.average(xcenpr, weights=nondiag))\n",
    "print(np.average(xconck, weights=nondiag))\n",
    "print(np.average(xconpr, weights=nondiag))"
   ]
  },
  {
   "cell_type": "markdown",
   "metadata": {},
   "source": [
    "Now we are going to bring in \"gold standard\" data. In this case, this is where we asked authors of the articles to code their own article's variables and compare with our student coders."
   ]
  },
  {
   "cell_type": "code",
   "execution_count": 128,
   "metadata": {
    "collapsed": true
   },
   "outputs": [],
   "source": [
    "mergedata = np.loadtxt(fname=\"gss_mergedataC.txt\", dtype=int, delimiter=\"\\t\")"
   ]
  },
  {
   "cell_type": "code",
   "execution_count": 129,
   "metadata": {
    "collapsed": true
   },
   "outputs": [],
   "source": [
    "anno_merge_dep = AnnotationsContainer.from_array(mergedata[:,0:2])\n",
    "anno_merge_ind = AnnotationsContainer.from_array(mergedata[:,2:4])\n",
    "anno_merge_cen = AnnotationsContainer.from_array(mergedata[:,4:6])\n",
    "anno_merge_con = AnnotationsContainer.from_array(mergedata[:,6:8])\n",
    "anno_merge_dkn = AnnotationsContainer.from_array(mergedata[:,8:10])"
   ]
  },
  {
   "cell_type": "code",
   "execution_count": 130,
   "metadata": {},
   "outputs": [
    {
     "name": "stdout",
     "output_type": "stream",
     "text": [
      "Dependent variable -- kappa & rho\n",
      "0.374431105795\n",
      "0.385634372036\n",
      "\n",
      "Independent variable\n",
      "0.543069016464\n",
      "0.552997494177\n",
      "\n",
      "Central variable\n",
      "-0.0640171895485\n",
      "-0.0888764431926\n",
      "\n",
      "Control variable\n",
      "0.281517249918\n",
      "0.282392375746\n"
     ]
    }
   ],
   "source": [
    "print(\"\"\"Dependent variable -- kappa & rho\"\"\")\n",
    "print(cohens_kappa(anno_merge_dep.annotations[:,0], anno_merge_dep.annotations[:,1]))\n",
    "print(pearsons_rho(anno_merge_dep.annotations[:,0], anno_merge_dep.annotations[:,1]))\n",
    "\n",
    "print(\"\\nIndependent variable\")\n",
    "print(cohens_kappa(anno_merge_ind.annotations[:,0], anno_merge_ind.annotations[:,1]))\n",
    "print(pearsons_rho(anno_merge_ind.annotations[:,0], anno_merge_ind.annotations[:,1]))\n",
    "\n",
    "print(\"\\nCentral variable\")\n",
    "print(cohens_kappa(anno_merge_cen.annotations[:,0], anno_merge_cen.annotations[:,1]))\n",
    "print(pearsons_rho(anno_merge_cen.annotations[:,0], anno_merge_cen.annotations[:,1]))\n",
    "\n",
    "print(\"\\nControl variable\")\n",
    "print(cohens_kappa(anno_merge_con.annotations[:,0], anno_merge_con.annotations[:,1]))\n",
    "print(pearsons_rho(anno_merge_con.annotations[:,0], anno_merge_con.annotations[:,1]))"
   ]
  },
  {
   "cell_type": "markdown",
   "metadata": {},
   "source": [
    "Whoah! Student coders and authors viewed articles that were \"central\" or critical to the published argument as fundamentally different (exhibiting negative agreement and correlation). Why? Likely because that researchers recalled what they had _intended_ as their central variables before analysis, but those that _worked out_ became central in the text."
   ]
  },
  {
   "cell_type": "markdown",
   "metadata": {},
   "source": [
    "Now for the assessment of the relative values of authors, then student coders."
   ]
  },
  {
   "cell_type": "code",
   "execution_count": 131,
   "metadata": {},
   "outputs": [
    {
     "name": "stdout",
     "output_type": "stream",
     "text": [
      "Dependent\n",
      "0.476391231029\n",
      "0.358347386172\n",
      "\n",
      "Independent\n",
      "0.237774030354\n",
      "0.313659359191\n",
      "\n",
      "Central\n",
      "0.35328836425\n",
      "0.751264755481\n",
      "\n",
      "Control\n",
      "0.0817875210793\n",
      "0.0944350758853\n"
     ]
    }
   ],
   "source": [
    "print(\"Dependent\")\n",
    "print(np.average(anno_merge_dep.annotations[:,0]))\n",
    "print(np.average(anno_merge_dep.annotations[:,1]))\n",
    "\n",
    "print(\"\\nIndependent\")\n",
    "print(np.average(anno_merge_ind.annotations[:,0]))\n",
    "print(np.average(anno_merge_ind.annotations[:,1]))\n",
    "\n",
    "print(\"\\nCentral\")\n",
    "print(np.average(anno_merge_cen.annotations[:,0]))\n",
    "print(np.average(anno_merge_cen.annotations[:,1]))\n",
    "\n",
    "print(\"\\nControl\")\n",
    "print(np.average(anno_merge_con.annotations[:,0]))\n",
    "print(np.average(anno_merge_con.annotations[:,1]))"
   ]
  },
  {
   "cell_type": "markdown",
   "metadata": {},
   "source": [
    "## Now we are going to use models to predict the correct annotations\n",
    "\n",
    "Recall that Model A is built for 8 coders, but we have 6. We're going to *hack* it by adding two blank columns."
   ]
  },
  {
   "cell_type": "code",
   "execution_count": 52,
   "metadata": {},
   "outputs": [
    {
     "data": {
      "text/plain": [
       "(21461, 6)"
      ]
     },
     "execution_count": 52,
     "metadata": {},
     "output_type": "execute_result"
    }
   ],
   "source": [
    "dev.shape"
   ]
  },
  {
   "cell_type": "code",
   "execution_count": 132,
   "metadata": {},
   "outputs": [
    {
     "data": {
      "text/plain": [
       "array([[ 0, -1, -1, ...,  1, -1, -1],\n",
       "       [ 0, -1, -1, ...,  0, -1, -1],\n",
       "       [ 0, -1, -1, ...,  0, -1, -1],\n",
       "       ..., \n",
       "       [-1, -1, -1, ..., -1, -1, -1],\n",
       "       [-1, -1, -1, ..., -1, -1, -1],\n",
       "       [-1, -1, -1, ..., -1, -1, -1]])"
      ]
     },
     "execution_count": 132,
     "metadata": {},
     "output_type": "execute_result"
    }
   ],
   "source": [
    "negs2 = np.ones((21461, 2), dtype=np.int)*(-1)\n",
    "devA = np.concatenate((dev, negs2), axis=1)\n",
    "devA"
   ]
  },
  {
   "cell_type": "code",
   "execution_count": 133,
   "metadata": {},
   "outputs": [
    {
     "data": {
      "text/plain": [
       "array([ 0.78964481,  0.65974201,  0.68314678,  0.81987871,  0.8088779 ,\n",
       "        0.69139719,  0.75455388,  0.82755347])"
      ]
     },
     "execution_count": 133,
     "metadata": {},
     "output_type": "execute_result"
    }
   ],
   "source": [
    "anno_dvA = AnnotationsContainer.from_array(devA)\n",
    "model_devA = ModelA.create_initial_state(2)\n",
    "model_devA.theta"
   ]
  },
  {
   "cell_type": "code",
   "execution_count": 134,
   "metadata": {},
   "outputs": [
    {
     "name": "stdout",
     "output_type": "stream",
     "text": [
      "[ 0.81624881  0.18375119]\n",
      "-28710.7790983\n"
     ]
    }
   ],
   "source": [
    "model_dvB = ModelB.create_initial_state(2, 6)\n",
    "print(model_dvB.pi)\n",
    "print(model_dvB.log_likelihood(anno_dv.annotations))"
   ]
  },
  {
   "cell_type": "code",
   "execution_count": 56,
   "metadata": {},
   "outputs": [
    {
     "name": "stdout",
     "output_type": "stream",
     "text": [
      "[0.69455487 0.30544513]\n",
      "-25462.473635032595\n"
     ]
    }
   ],
   "source": [
    "model_dvB.map(anno_dv.annotations)\n",
    "print(model_dvB.pi)\n",
    "print(model_dvB.log_likelihood(anno_dv.annotations))"
   ]
  },
  {
   "cell_type": "code",
   "execution_count": 135,
   "metadata": {},
   "outputs": [
    {
     "name": "stdout",
     "output_type": "stream",
     "text": [
      "[[ 0.01110713  0.28927849  0.36512192  0.33449245]\n",
      " [ 0.99022542  0.00241841  0.00404843  0.00330774]\n",
      " [ 0.00249995  0.05504452  0.9346253   0.00783023]\n",
      " ..., \n",
      " [ 0.00252928  0.04395715  0.94559147  0.00792211]\n",
      " [ 0.00249427  0.00571199  0.93250426  0.05928948]\n",
      " [ 0.03190218  0.93881618  0.01611501  0.01316663]]\n"
     ]
    }
   ],
   "source": [
    "# compute the posterior distribution over true annotations\n",
    "posterior_dvB = model_dvB.infer_labels(anno_dv.annotations)\n",
    "# each row show the probability of each label class for the\n",
    "# corresponding item\n",
    "print(posterior)"
   ]
  },
  {
   "cell_type": "code",
   "execution_count": 136,
   "metadata": {
    "collapsed": true
   },
   "outputs": [],
   "source": [
    "samples_dvB = model_dvB.sample_posterior_over_accuracy(anno_dv.annotations, 200, burn_in_samples=100, thin_samples=3)"
   ]
  },
  {
   "cell_type": "code",
   "execution_count": 137,
   "metadata": {},
   "outputs": [
    {
     "name": "stdout",
     "output_type": "stream",
     "text": [
      "Mean\n",
      "[[[ 0.97904771  0.02095229]\n",
      "  [ 0.51596328  0.48403672]]\n",
      "\n",
      " [[ 0.96915171  0.03084829]\n",
      "  [ 0.25961402  0.74038598]]\n",
      "\n",
      " [[ 0.98247308  0.01752692]\n",
      "  [ 0.34594727  0.65405273]]\n",
      "\n",
      " [[ 0.93528959  0.06471041]\n",
      "  [ 0.23878902  0.76121098]]\n",
      "\n",
      " [[ 0.69285257  0.30714743]\n",
      "  [ 0.04546805  0.95453195]]\n",
      "\n",
      " [[ 0.86417777  0.13582223]\n",
      "  [ 0.06831795  0.93168205]]]\n",
      "\n",
      "STD\n",
      "[[[ 0.0023466   0.0023466 ]\n",
      "  [ 0.01234093  0.01234093]]\n",
      "\n",
      " [[ 0.00320653  0.00320653]\n",
      "  [ 0.01355251  0.01355251]]\n",
      "\n",
      " [[ 0.00350237  0.00350237]\n",
      "  [ 0.01358242  0.01358242]]\n",
      "\n",
      " [[ 0.00485683  0.00485683]\n",
      "  [ 0.01141827  0.01141827]]\n",
      "\n",
      " [[ 0.00706525  0.00706525]\n",
      "  [ 0.0050815   0.0050815 ]]\n",
      "\n",
      " [[ 0.0069648   0.0069648 ]\n",
      "  [ 0.0072599   0.0072599 ]]]\n"
     ]
    }
   ],
   "source": [
    "# we can then compute a credible interval for the parameters:\n",
    "ci_dv_mean = samples_dvB[0].mean(axis=0)\n",
    "print(\"Mean\")\n",
    "print(ci_dv_mean)\n",
    "\n",
    "ci_dv_stdev = samples_dvB[0].std(axis=0)\n",
    "print(\"\\nSTD\")\n",
    "print(ci_dv_stdev)\n"
   ]
  },
  {
   "cell_type": "markdown",
   "metadata": {},
   "source": [
    "We will use Model B estimates for other variable assessments."
   ]
  },
  {
   "cell_type": "code",
   "execution_count": 138,
   "metadata": {},
   "outputs": [
    {
     "name": "stdout",
     "output_type": "stream",
     "text": [
      "-101.101445314\n",
      "[  9.20933481e-20   1.00000000e+00]\n",
      "-48.9756711394\n",
      "(48, 6)\n",
      "(48, 2)\n",
      "[[[ 0.79874403  0.20125597]\n",
      "  [ 0.12794759  0.87205241]]\n",
      "\n",
      " [[ 0.79185068  0.20814932]\n",
      "  [ 0.09522715  0.90477285]]\n",
      "\n",
      " [[ 0.79700518  0.20299482]\n",
      "  [ 0.49542063  0.50457937]]\n",
      "\n",
      " [[ 0.79087393  0.20912607]\n",
      "  [ 0.07069405  0.92930595]]\n",
      "\n",
      " [[ 0.79989815  0.20010185]\n",
      "  [ 0.36622397  0.63377603]]\n",
      "\n",
      " [[ 0.80318532  0.19681468]\n",
      "  [ 0.12559509  0.87440491]]]\n"
     ]
    }
   ],
   "source": [
    "#test\n",
    "model_testB = ModelB.create_initial_state(2, 6)\n",
    "print(model_testB.log_likelihood(anno_test.annotations))\n",
    "model_testB.map(anno_test.annotations)\n",
    "print(model_testB.pi)\n",
    "print(model_testB.log_likelihood(anno_test.annotations))\n",
    "print(anno_test.annotations.shape)\n",
    "posterior_testB = model_testB.infer_labels(anno_test.annotations)\n",
    "print(posterior_testB.shape)\n",
    "samples_testB = model_testB.sample_posterior_over_accuracy(anno_test.annotations, 200, burn_in_samples=100, thin_samples=3)\n",
    "ci_test_mean = samples_testB[0].mean(axis=0)\n",
    "print(ci_test_mean)"
   ]
  },
  {
   "cell_type": "code",
   "execution_count": 139,
   "metadata": {},
   "outputs": [
    {
     "name": "stdout",
     "output_type": "stream",
     "text": [
      "-38075.6772344\n",
      "[ 0.61093546  0.38906454]\n",
      "-28620.6652325\n",
      "(21461, 6)\n",
      "(21461, 2)\n",
      "[[[ 0.97071186  0.02928814]\n",
      "  [ 0.34672202  0.65327798]]\n",
      "\n",
      " [[ 0.93611061  0.06388939]\n",
      "  [ 0.051934    0.948066  ]]\n",
      "\n",
      " [[ 0.65819158  0.34180842]\n",
      "  [ 0.20920704  0.79079296]]\n",
      "\n",
      " [[ 0.5367774   0.4632226 ]\n",
      "  [ 0.02974113  0.97025887]]\n",
      "\n",
      " [[ 0.87422168  0.12577832]\n",
      "  [ 0.09705652  0.90294348]]\n",
      "\n",
      " [[ 0.88989625  0.11010375]\n",
      "  [ 0.08992469  0.91007531]]]\n",
      "-35312.2823739\n",
      "[ 0.23988844  0.76011156]\n",
      "-25034.9185558\n",
      "(21461, 6)\n",
      "(21461, 2)\n",
      "[[[ 0.89745233  0.10254767]\n",
      "  [ 0.07008382  0.92991618]]\n",
      "\n",
      " [[ 0.78579814  0.21420186]\n",
      "  [ 0.05925965  0.94074035]]\n",
      "\n",
      " [[ 0.99268491  0.00731509]\n",
      "  [ 0.84300657  0.15699343]]\n",
      "\n",
      " [[ 0.95164766  0.04835234]\n",
      "  [ 0.45702244  0.54297756]]\n",
      "\n",
      " [[ 0.68258529  0.31741471]\n",
      "  [ 0.05686082  0.94313918]]\n",
      "\n",
      " [[ 0.59426263  0.40573737]\n",
      "  [ 0.0965426   0.9034574 ]]]\n",
      "-25258.6263012\n",
      "[ 0.83068326  0.16931674]\n",
      "-19415.7020352\n",
      "(21461, 6)\n",
      "(21461, 2)\n",
      "[[[ 0.97131204  0.02868796]\n",
      "  [ 0.34714804  0.65285196]]\n",
      "\n",
      " [[ 0.93726017  0.06273983]\n",
      "  [ 0.05424184  0.94575816]]\n",
      "\n",
      " [[ 0.65862042  0.34137958]\n",
      "  [ 0.2104064   0.7895936 ]]\n",
      "\n",
      " [[ 0.53610703  0.46389297]\n",
      "  [ 0.03085371  0.96914629]]\n",
      "\n",
      " [[ 0.87582112  0.12417888]\n",
      "  [ 0.09905051  0.90094949]]\n",
      "\n",
      " [[ 0.89126391  0.10873609]\n",
      "  [ 0.09010363  0.90989637]]]\n"
     ]
    }
   ],
   "source": [
    "#indepedent variables\n",
    "model_ivB = ModelB.create_initial_state(2, 6)\n",
    "print(model_ivB.log_likelihood(anno_iv.annotations))\n",
    "model_ivB.map(anno_iv.annotations)\n",
    "print(model_ivB.pi)\n",
    "print(model_ivB.log_likelihood(anno_iv.annotations))\n",
    "print(anno_iv.annotations.shape)\n",
    "posterior_ivB = model_ivB.infer_labels(anno_iv.annotations)\n",
    "print(posterior_ivB.shape)\n",
    "samples_ivB = model_ivB.sample_posterior_over_accuracy(anno_iv.annotations, 200, burn_in_samples=100, thin_samples=3)\n",
    "ci_iv_mean = samples_ivB[0].mean(axis=0)\n",
    "print(ci_iv_mean)\n",
    "\n",
    "#central variables\n",
    "model_cvB = ModelB.create_initial_state(2, 6)\n",
    "print(model_cvB.log_likelihood(anno_cv.annotations))\n",
    "model_cvB.map(anno_cv.annotations)\n",
    "print(model_cvB.pi)\n",
    "print(model_cvB.log_likelihood(anno_cv.annotations))\n",
    "print(anno_cv.annotations.shape)\n",
    "posterior_cvB = model_cvB.infer_labels(anno_cv.annotations)\n",
    "print(posterior_cvB.shape)\n",
    "samples_cvB = model_cvB.sample_posterior_over_accuracy(anno_cv.annotations, 200, burn_in_samples=100, thin_samples=3)\n",
    "ci_cv_mean = samples_cvB[0].mean(axis=0)\n",
    "print(ci_cv_mean)\n",
    "\n",
    "#control variables\n",
    "model_ctvB = ModelB.create_initial_state(2, 6)\n",
    "print(model_ctvB.log_likelihood(anno_ctv.annotations))\n",
    "model_ctvB.map(anno_ctv.annotations)\n",
    "print(model_ctvB.pi)\n",
    "print(model_ctvB.log_likelihood(anno_ctv.annotations))\n",
    "print(anno_ctv.annotations.shape)\n",
    "posterior_ctvB = model_ctvB.infer_labels(anno_ctv.annotations)\n",
    "print(posterior_ctvB.shape)\n",
    "samples_ctvB = model_ctvB.sample_posterior_over_accuracy(anno_iv.annotations, 200, burn_in_samples=100, thin_samples=3)\n",
    "ci_ctv_mean = samples_ctvB[0].mean(axis=0)\n",
    "print(ci_ctv_mean)"
   ]
  },
  {
   "cell_type": "markdown",
   "metadata": {},
   "source": [
    "Now we will package up the predicted data into a format we can use for other, subsequent analysis:"
   ]
  },
  {
   "cell_type": "code",
   "execution_count": 140,
   "metadata": {},
   "outputs": [
    {
     "name": "stdout",
     "output_type": "stream",
     "text": [
      "(21461, 2)\n",
      "(21461, 2)\n",
      "(21461, 2)\n",
      "(21461, 2)\n"
     ]
    }
   ],
   "source": [
    "print(posterior_dvB.shape)\n",
    "print(posterior_ivB.shape)\n",
    "print(posterior_cvB.shape)\n",
    "print(posterior_ctvB.shape)"
   ]
  },
  {
   "cell_type": "code",
   "execution_count": 63,
   "metadata": {
    "collapsed": true
   },
   "outputs": [],
   "source": [
    "predicted_annotations = np.concatenate((posterior_dvB, posterior_ivB, posterior_cvB, posterior_ctvB), axis=1) # posterior_dvBt, posterior_ivBt, posterior_cvBt, posterior_ctvBt), axis=1)"
   ]
  },
  {
   "cell_type": "code",
   "execution_count": 64,
   "metadata": {},
   "outputs": [
    {
     "data": {
      "text/plain": [
       "(21461, 8)"
      ]
     },
     "execution_count": 64,
     "metadata": {},
     "output_type": "execute_result"
    }
   ],
   "source": [
    "predicted_annotations.shape"
   ]
  },
  {
   "cell_type": "markdown",
   "metadata": {},
   "source": [
    "These annotations allowed us to uncover the degree to which social scientists alter their models to achieve a better fit...undocumented data mining. The answer was that social scientists did mine their data, but that it likely improved their analysis because change in the social world was the result of greater distortion than undocumented data mining."
   ]
  },
  {
   "cell_type": "markdown",
   "metadata": {},
   "source": [
    "## Another example analysis looks at a different data set of Hotel Reviews by a variety of patrons."
   ]
  },
  {
   "cell_type": "code",
   "execution_count": 65,
   "metadata": {},
   "outputs": [
    {
     "data": {
      "text/html": [
       "<div>\n",
       "<style scoped>\n",
       "    .dataframe tbody tr th:only-of-type {\n",
       "        vertical-align: middle;\n",
       "    }\n",
       "\n",
       "    .dataframe tbody tr th {\n",
       "        vertical-align: top;\n",
       "    }\n",
       "\n",
       "    .dataframe thead th {\n",
       "        text-align: right;\n",
       "    }\n",
       "</style>\n",
       "<table border=\"1\" class=\"dataframe\">\n",
       "  <thead>\n",
       "    <tr style=\"text-align: right;\">\n",
       "      <th></th>\n",
       "      <th>Karen</th>\n",
       "      <th>Scott</th>\n",
       "      <th>Jessica</th>\n",
       "      <th>write a review</th>\n",
       "      <th>A verified traveler</th>\n",
       "      <th>Kevin</th>\n",
       "      <th>William</th>\n",
       "      <th>R</th>\n",
       "      <th>S</th>\n",
       "      <th>Christopher</th>\n",
       "      <th>...</th>\n",
       "      <th>Thomas</th>\n",
       "      <th>Susan</th>\n",
       "      <th>A Traveler</th>\n",
       "      <th>M</th>\n",
       "      <th>Not Provided</th>\n",
       "      <th>B</th>\n",
       "      <th>Laura</th>\n",
       "      <th>xxxxxxxxxxxxxx</th>\n",
       "      <th>Michael</th>\n",
       "      <th>Joseph</th>\n",
       "    </tr>\n",
       "  </thead>\n",
       "  <tbody>\n",
       "    <tr>\n",
       "      <th>1785 Inn</th>\n",
       "      <td>NaN</td>\n",
       "      <td>NaN</td>\n",
       "      <td>NaN</td>\n",
       "      <td>NaN</td>\n",
       "      <td>NaN</td>\n",
       "      <td>NaN</td>\n",
       "      <td>NaN</td>\n",
       "      <td>NaN</td>\n",
       "      <td>NaN</td>\n",
       "      <td>NaN</td>\n",
       "      <td>...</td>\n",
       "      <td>NaN</td>\n",
       "      <td>NaN</td>\n",
       "      <td>NaN</td>\n",
       "      <td>NaN</td>\n",
       "      <td>NaN</td>\n",
       "      <td>NaN</td>\n",
       "      <td>NaN</td>\n",
       "      <td>NaN</td>\n",
       "      <td>NaN</td>\n",
       "      <td>NaN</td>\n",
       "    </tr>\n",
       "    <tr>\n",
       "      <th>1900 House</th>\n",
       "      <td>NaN</td>\n",
       "      <td>NaN</td>\n",
       "      <td>NaN</td>\n",
       "      <td>NaN</td>\n",
       "      <td>NaN</td>\n",
       "      <td>NaN</td>\n",
       "      <td>NaN</td>\n",
       "      <td>NaN</td>\n",
       "      <td>NaN</td>\n",
       "      <td>NaN</td>\n",
       "      <td>...</td>\n",
       "      <td>NaN</td>\n",
       "      <td>NaN</td>\n",
       "      <td>NaN</td>\n",
       "      <td>NaN</td>\n",
       "      <td>NaN</td>\n",
       "      <td>NaN</td>\n",
       "      <td>NaN</td>\n",
       "      <td>NaN</td>\n",
       "      <td>NaN</td>\n",
       "      <td>NaN</td>\n",
       "    </tr>\n",
       "    <tr>\n",
       "      <th>A Bed &amp; Breakfast In Cambridge</th>\n",
       "      <td>NaN</td>\n",
       "      <td>NaN</td>\n",
       "      <td>NaN</td>\n",
       "      <td>NaN</td>\n",
       "      <td>NaN</td>\n",
       "      <td>NaN</td>\n",
       "      <td>NaN</td>\n",
       "      <td>NaN</td>\n",
       "      <td>NaN</td>\n",
       "      <td>NaN</td>\n",
       "      <td>...</td>\n",
       "      <td>NaN</td>\n",
       "      <td>NaN</td>\n",
       "      <td>3.0</td>\n",
       "      <td>NaN</td>\n",
       "      <td>NaN</td>\n",
       "      <td>NaN</td>\n",
       "      <td>NaN</td>\n",
       "      <td>NaN</td>\n",
       "      <td>NaN</td>\n",
       "      <td>NaN</td>\n",
       "    </tr>\n",
       "    <tr>\n",
       "      <th>A Swallow's Nest Motel</th>\n",
       "      <td>NaN</td>\n",
       "      <td>NaN</td>\n",
       "      <td>NaN</td>\n",
       "      <td>NaN</td>\n",
       "      <td>NaN</td>\n",
       "      <td>NaN</td>\n",
       "      <td>NaN</td>\n",
       "      <td>NaN</td>\n",
       "      <td>NaN</td>\n",
       "      <td>NaN</td>\n",
       "      <td>...</td>\n",
       "      <td>NaN</td>\n",
       "      <td>NaN</td>\n",
       "      <td>NaN</td>\n",
       "      <td>NaN</td>\n",
       "      <td>NaN</td>\n",
       "      <td>NaN</td>\n",
       "      <td>NaN</td>\n",
       "      <td>NaN</td>\n",
       "      <td>NaN</td>\n",
       "      <td>NaN</td>\n",
       "    </tr>\n",
       "    <tr>\n",
       "      <th>Abbeville Inn</th>\n",
       "      <td>NaN</td>\n",
       "      <td>NaN</td>\n",
       "      <td>NaN</td>\n",
       "      <td>NaN</td>\n",
       "      <td>NaN</td>\n",
       "      <td>NaN</td>\n",
       "      <td>NaN</td>\n",
       "      <td>NaN</td>\n",
       "      <td>NaN</td>\n",
       "      <td>NaN</td>\n",
       "      <td>...</td>\n",
       "      <td>NaN</td>\n",
       "      <td>NaN</td>\n",
       "      <td>NaN</td>\n",
       "      <td>NaN</td>\n",
       "      <td>NaN</td>\n",
       "      <td>NaN</td>\n",
       "      <td>NaN</td>\n",
       "      <td>NaN</td>\n",
       "      <td>NaN</td>\n",
       "      <td>NaN</td>\n",
       "    </tr>\n",
       "  </tbody>\n",
       "</table>\n",
       "<p>5 rows × 49 columns</p>\n",
       "</div>"
      ],
      "text/plain": [
       "                                Karen  Scott  Jessica  write a review  \\\n",
       "1785 Inn                          NaN    NaN      NaN             NaN   \n",
       "1900 House                        NaN    NaN      NaN             NaN   \n",
       "A Bed & Breakfast In Cambridge    NaN    NaN      NaN             NaN   \n",
       "A Swallow's Nest Motel            NaN    NaN      NaN             NaN   \n",
       "Abbeville Inn                     NaN    NaN      NaN             NaN   \n",
       "\n",
       "                                A verified traveler  Kevin  William   R   S  \\\n",
       "1785 Inn                                        NaN    NaN      NaN NaN NaN   \n",
       "1900 House                                      NaN    NaN      NaN NaN NaN   \n",
       "A Bed & Breakfast In Cambridge                  NaN    NaN      NaN NaN NaN   \n",
       "A Swallow's Nest Motel                          NaN    NaN      NaN NaN NaN   \n",
       "Abbeville Inn                                   NaN    NaN      NaN NaN NaN   \n",
       "\n",
       "                                Christopher  ...  Thomas  Susan  A Traveler  \\\n",
       "1785 Inn                                NaN  ...     NaN    NaN         NaN   \n",
       "1900 House                              NaN  ...     NaN    NaN         NaN   \n",
       "A Bed & Breakfast In Cambridge          NaN  ...     NaN    NaN         3.0   \n",
       "A Swallow's Nest Motel                  NaN  ...     NaN    NaN         NaN   \n",
       "Abbeville Inn                           NaN  ...     NaN    NaN         NaN   \n",
       "\n",
       "                                 M  Not Provided   B  Laura  xxxxxxxxxxxxxx  \\\n",
       "1785 Inn                       NaN           NaN NaN    NaN             NaN   \n",
       "1900 House                     NaN           NaN NaN    NaN             NaN   \n",
       "A Bed & Breakfast In Cambridge NaN           NaN NaN    NaN             NaN   \n",
       "A Swallow's Nest Motel         NaN           NaN NaN    NaN             NaN   \n",
       "Abbeville Inn                  NaN           NaN NaN    NaN             NaN   \n",
       "\n",
       "                                Michael  Joseph  \n",
       "1785 Inn                            NaN     NaN  \n",
       "1900 House                          NaN     NaN  \n",
       "A Bed & Breakfast In Cambridge      NaN     NaN  \n",
       "A Swallow's Nest Motel              NaN     NaN  \n",
       "Abbeville Inn                       NaN     NaN  \n",
       "\n",
       "[5 rows x 49 columns]"
      ]
     },
     "execution_count": 65,
     "metadata": {},
     "output_type": "execute_result"
    }
   ],
   "source": [
    "df_hotels = pandas.read_csv('../data/hot_Reviews.csv', index_col=0)\n",
    "df_hotels[:5]"
   ]
  },
  {
   "cell_type": "markdown",
   "metadata": {},
   "source": [
    "Here a rank of 0 is a missing value and to simplify things more we will convert from a 1-10 scale to a 1-5 scale, with 0 as missing"
   ]
  },
  {
   "cell_type": "code",
   "execution_count": 66,
   "metadata": {
    "collapsed": true
   },
   "outputs": [],
   "source": [
    "df_hotels = df_hotels.apply(lambda x: x // 2) #integer divide by 2 rounds all values"
   ]
  },
  {
   "cell_type": "markdown",
   "metadata": {},
   "source": [
    "And we can visualize all the reviews as a heatmap with the missing values greyed out"
   ]
  },
  {
   "cell_type": "code",
   "execution_count": 67,
   "metadata": {},
   "outputs": [
    {
     "data": {
      "image/png": "[encoded data removed]",
      "text/plain": [
       "<Figure size 1440x1440 with 2 Axes>"
      ]
     },
     "metadata": {
      "needs_background": "light"
     },
     "output_type": "display_data"
    }
   ],
   "source": [
    "fig, ax = plt.subplots(figsize = (20,20))\n",
    "seaborn.heatmap(df_hotels, cmap='rainbow', ax = ax)\n",
    "plt.show()"
   ]
  },
  {
   "cell_type": "markdown",
   "metadata": {},
   "source": [
    "To give the dataframe to pyanno we need to convert to np array and change the nans to intergers, lets use -1"
   ]
  },
  {
   "cell_type": "code",
   "execution_count": 68,
   "metadata": {
    "collapsed": true
   },
   "outputs": [],
   "source": [
    "hot_mat = np.array(df_hotels.fillna(-1).as_matrix())\n",
    "anno_hot = AnnotationsContainer.from_array(hot_mat, missing_values=[-1])"
   ]
  },
  {
   "cell_type": "code",
   "execution_count": 69,
   "metadata": {},
   "outputs": [
    {
     "data": {
      "text/plain": [
       "array([[-1, -1, -1, ..., -1, -1, -1],\n",
       "       [-1, -1, -1, ..., -1, -1, -1],\n",
       "       [-1, -1, -1, ..., -1, -1, -1],\n",
       "       ...,\n",
       "       [-1, -1, -1, ..., -1, -1, -1],\n",
       "       [-1, -1, -1, ..., -1, -1, -1],\n",
       "       [-1, -1, -1, ..., -1, -1, -1]])"
      ]
     },
     "execution_count": 69,
     "metadata": {},
     "output_type": "execute_result"
    }
   ],
   "source": [
    "anno_hot.annotations"
   ]
  },
  {
   "cell_type": "code",
   "execution_count": 70,
   "metadata": {},
   "outputs": [
    {
     "data": {
      "text/plain": [
       "[0.0, 1.0, 2.0, 3.0, 4.0, 5.0]"
      ]
     },
     "execution_count": 70,
     "metadata": {},
     "output_type": "execute_result"
    }
   ],
   "source": [
    "anno_hot.labels"
   ]
  },
  {
   "cell_type": "code",
   "execution_count": 71,
   "metadata": {},
   "outputs": [
    {
     "data": {
      "text/plain": [
       "[-1]"
      ]
     },
     "execution_count": 71,
     "metadata": {},
     "output_type": "execute_result"
    }
   ],
   "source": [
    "anno_hot.missing_values"
   ]
  },
  {
   "cell_type": "markdown",
   "metadata": {},
   "source": [
    "Look at coder agreement"
   ]
  },
  {
   "cell_type": "code",
   "execution_count": 72,
   "metadata": {},
   "outputs": [
    {
     "data": {
      "text/plain": [
       "array([0.07806534, 0.26262198, 0.63555367, 0.00636402, 0.0093339 ,\n",
       "       0.00806109])"
      ]
     },
     "execution_count": 72,
     "metadata": {},
     "output_type": "execute_result"
    }
   ],
   "source": [
    "pyanno.measures.agreement.labels_frequency(anno_hot.annotations, 6)#6 possible catagories"
   ]
  },
  {
   "cell_type": "code",
   "execution_count": 73,
   "metadata": {},
   "outputs": [
    {
     "name": "stdout",
     "output_type": "stream",
     "text": [
      "[[0. 0. 0. 0. 0. 0.]\n",
      " [0. 0. 1. 0. 0. 0.]\n",
      " [1. 0. 4. 0. 0. 0.]\n",
      " [0. 0. 0. 0. 0. 0.]\n",
      " [0. 0. 0. 0. 0. 0.]\n",
      " [0. 0. 0. 0. 0. 0.]]\n"
     ]
    },
    {
     "data": {
      "image/png": "[encoded data removed]",
      "text/plain": [
       "<Figure size 432x288 with 2 Axes>"
      ]
     },
     "metadata": {
      "needs_background": "light"
     },
     "output_type": "display_data"
    }
   ],
   "source": [
    "c = pyanno.measures.agreement.confusion_matrix(anno_hot.annotations[:,0], anno_hot.annotations[:,1], 6) #6 possible catagories\n",
    "print(c)\n",
    "ac = seaborn.heatmap(c)\n",
    "plt.show()"
   ]
  },
  {
   "cell_type": "markdown",
   "metadata": {},
   "source": [
    "Most agreement is on 2 i.e. an average hotel and there's little agreement as rating go higher, likely due to scarcity in the sample"
   ]
  },
  {
   "cell_type": "code",
   "execution_count": 74,
   "metadata": {},
   "outputs": [
    {
     "data": {
      "text/plain": [
       "0.3787878787878787"
      ]
     },
     "execution_count": 74,
     "metadata": {},
     "output_type": "execute_result"
    }
   ],
   "source": [
    "scotts_pi(anno_hot.annotations[:,0], anno_hot.annotations[:,1])"
   ]
  },
  {
   "cell_type": "code",
   "execution_count": 75,
   "metadata": {},
   "outputs": [
    {
     "data": {
      "text/plain": [
       "0.398760907615921"
      ]
     },
     "execution_count": 75,
     "metadata": {},
     "output_type": "execute_result"
    }
   ],
   "source": [
    "krippendorffs_alpha(anno_hot.annotations[::])"
   ]
  },
  {
   "cell_type": "code",
   "execution_count": 76,
   "metadata": {},
   "outputs": [
    {
     "data": {
      "text/plain": [
       "0.40328336902212697"
      ]
     },
     "execution_count": 76,
     "metadata": {},
     "output_type": "execute_result"
    }
   ],
   "source": [
    "cohens_kappa(anno_hot.annotations[:,0], anno_hot.annotations[:,1])"
   ]
  },
  {
   "cell_type": "code",
   "execution_count": 77,
   "metadata": {},
   "outputs": [
    {
     "name": "stderr",
     "output_type": "stream",
     "text": [
      "/Users/bhargavvader/open_source/Content-Analysis-2020/venv/lib/python3.5/site-packages/pyanno/measures/helpers.py:166: RuntimeWarning: invalid value encountered in double_scalars\n",
      "  return (observed_agreement - chance_agreement) / (1. - chance_agreement)\n"
     ]
    },
    {
     "data": {
      "text/plain": [
       "<matplotlib.axes._subplots.AxesSubplot at 0x1230c7c88>"
      ]
     },
     "execution_count": 77,
     "metadata": {},
     "output_type": "execute_result"
    },
    {
     "data": {
      "image/png": "[encoded data removed]",
      "text/plain": [
       "<Figure size 1080x1080 with 2 Axes>"
      ]
     },
     "metadata": {
      "needs_background": "light"
     },
     "output_type": "display_data"
    }
   ],
   "source": [
    "m = pairwise_matrix(cohens_kappa, anno_hot.annotations)\n",
    "fig, ax = plt.subplots(figsize = (15, 15))\n",
    "seaborn.heatmap(m, ax =ax)"
   ]
  },
  {
   "cell_type": "code",
   "execution_count": 82,
   "metadata": {},
   "outputs": [
    {
     "name": "stdout",
     "output_type": "stream",
     "text": [
      "[0.7904694  0.73959802 0.76128702 0.72415501 0.71531648 0.71738583\n",
      " 0.77232673 0.71548412]\n",
      "-2725.647607136476\n"
     ]
    }
   ],
   "source": [
    "model_hot = ModelBt.create_initial_state(6, 49)\n",
    "model_hot.mle(anno_hot.annotations)\n",
    "print(model.theta)\n",
    "print(model_hot.log_likelihood(anno_hot.annotations))"
   ]
  },
  {
   "cell_type": "code",
   "execution_count": 83,
   "metadata": {
    "collapsed": true
   },
   "outputs": [],
   "source": [
    "def makeQuestionComparison(model, anno_target, num_questions = 20):\n",
    "    votes = []\n",
    "    for r in anno_target.annotations:\n",
    "        v = [0] * len(anno_target.labels)\n",
    "        votes.append(v)\n",
    "        for a in r:\n",
    "            if a > -1:\n",
    "                v[a] += 1\n",
    "    votes_array = np.array(votes)\n",
    "    posterior = model.infer_labels(anno_target.annotations)\n",
    "    fig, (ax1, ax2) = plt.subplots(ncols=2, figsize = (15, 10), sharey=True)\n",
    "\n",
    "    seaborn.heatmap(votes_array[:num_questions], annot = True, ax=ax2)\n",
    "    seaborn.heatmap(np.nan_to_num(posterior,0)[:num_questions], annot=True, ax =ax1)\n",
    "    ax1.set_title(\"Model\")\n",
    "    ax2.set_title(\"Votes\")\n",
    "    return fig, (ax1, ax2)"
   ]
  },
  {
   "cell_type": "code",
   "execution_count": 84,
   "metadata": {},
   "outputs": [
    {
     "data": {
      "text/plain": [
       "(<Figure size 1080x720 with 4 Axes>,\n",
       " (<matplotlib.axes._subplots.AxesSubplot at 0x13ffa1470>,\n",
       "  <matplotlib.axes._subplots.AxesSubplot at 0x141492080>))"
      ]
     },
     "execution_count": 84,
     "metadata": {},
     "output_type": "execute_result"
    },
    {
     "data": {
      "image/png": "[encoded data removed]",
      "text/plain": [
       "<Figure size 1080x720 with 4 Axes>"
      ]
     },
     "metadata": {
      "needs_background": "light"
     },
     "output_type": "display_data"
    }
   ],
   "source": [
    "makeQuestionComparison(model_hot, anno_hot)"
   ]
  },
  {
   "cell_type": "markdown",
   "metadata": {},
   "source": [
    "## <span style=\"color:red\">*Your turn*</span>\n",
    "\n",
    "<span style=\"color:red\">In the cells immediately following, use the results of your content annotation survey to predict high and low-quality analysts, then predict MAP estimates for your codes in question. What do these estimates suggest about the distribution of skill among your coders? How different are these estimates from a majority vote?"
   ]
  },
  {
   "cell_type": "code",
   "execution_count": 141,
   "metadata": {},
   "outputs": [
    {
     "name": "stdout",
     "output_type": "stream",
     "text": [
      "[[[ 0.68368077  0.22663362  0.025862    0.0638236 ]\n",
      "  [ 0.05492236  0.6260125   0.26583938  0.05322576]\n",
      "  [ 0.08278543  0.10634352  0.73694346  0.07392759]\n",
      "  [ 0.00298905  0.07629287  0.15441275  0.76630533]]\n",
      "\n",
      " [[ 0.63347678  0.16629298  0.17214735  0.02808289]\n",
      "  [ 0.20994139  0.64292369  0.10266467  0.04447024]\n",
      "  [ 0.15176457  0.11546007  0.60374052  0.12903485]\n",
      "  [ 0.00462286  0.10442279  0.04104025  0.84991409]]\n",
      "\n",
      " [[ 0.69140858  0.09152497  0.12677239  0.09029406]\n",
      "  [ 0.03201803  0.56623376  0.30383875  0.09790946]\n",
      "  [ 0.12404287  0.06989775  0.59809634  0.20796305]\n",
      "  [ 0.04903033  0.01206098  0.15762833  0.78128036]]\n",
      "\n",
      " [[ 0.81923437  0.12698101  0.02347662  0.030308  ]\n",
      "  [ 0.1589889   0.60617226  0.18019272  0.05464611]\n",
      "  [ 0.03677572  0.19067198  0.60645914  0.16609316]\n",
      "  [ 0.00160624  0.07413989  0.20580564  0.71844823]]\n",
      "\n",
      " [[ 0.7348943   0.12212358  0.12631327  0.01666885]\n",
      "  [ 0.11496636  0.74814259  0.12245697  0.01443408]\n",
      "  [ 0.09839746  0.15486609  0.52144784  0.22528861]\n",
      "  [ 0.04570804  0.01489585  0.0548014   0.88459471]]]\n",
      "-114.336138423\n"
     ]
    }
   ],
   "source": [
    "# create a new instance of model A, with 4 label classes\n",
    "model = ModelB.create_initial_state(4, 5)\n",
    "# other model parameters are initialized from the model prior\n",
    "print(model.theta)\n",
    "print(model.log_likelihood(anno.annotations))"
   ]
  },
  {
   "cell_type": "code",
   "execution_count": 142,
   "metadata": {
    "collapsed": true
   },
   "outputs": [],
   "source": [
    "samples = model.sample_posterior_over_accuracy(anno.annotations, 200, burn_in_samples=100, thin_samples=3)"
   ]
  },
  {
   "cell_type": "code",
   "execution_count": 143,
   "metadata": {},
   "outputs": [
    {
     "name": "stdout",
     "output_type": "stream",
     "text": [
      "[[[  8.04282230e-01   1.54297600e-01   4.14201692e-02   8.30613479e-47]\n",
      "  [  1.82454483e-01   6.62968108e-01   1.08553084e-01   4.60243251e-02]\n",
      "  [  3.99458323e-02   1.29954401e-01   6.89843582e-01   1.40256185e-01]\n",
      "  [  7.55937651e-83   5.00186046e-02   1.51156226e-01   7.98825169e-01]]\n",
      "\n",
      " [[  7.27115739e-01   1.70793500e-01   1.02090761e-01   0.00000000e+00]\n",
      "  [  1.25094562e-01   6.61649691e-01   1.81374414e-01   3.18813325e-02]\n",
      "  [  4.72462379e-02   1.27076473e-01   6.99365125e-01   1.26312165e-01]\n",
      "  [  1.59995866e-58   4.96684772e-02   1.56117755e-01   7.94213768e-01]]\n",
      "\n",
      " [[  8.03346305e-01   1.43826512e-01   5.28271834e-02   0.00000000e+00]\n",
      "  [  1.87829126e-01   6.49810990e-01   1.29673693e-01   3.26861909e-02]\n",
      "  [  4.38537996e-02   1.51634862e-01   6.73673573e-01   1.30837765e-01]\n",
      "  [  9.14783249e-67   4.59398081e-02   1.46677593e-01   8.07382599e-01]]\n",
      "\n",
      " [[  7.12957617e-01   2.38870724e-01   4.81716588e-02   0.00000000e+00]\n",
      "  [  1.01242201e-01   7.14945683e-01   1.50056081e-01   3.37560346e-02]\n",
      "  [  3.78657991e-02   1.43218196e-01   7.05079873e-01   1.13836131e-01]\n",
      "  [  0.00000000e+00   4.39314714e-02   2.58271850e-01   6.97796678e-01]]\n",
      "\n",
      " [[  8.15956229e-01   1.37937040e-01   4.61067309e-02   3.67312887e-77]\n",
      "  [  1.77589536e-01   6.58085238e-01   1.27749014e-01   3.65762118e-02]\n",
      "  [  4.00174173e-02   1.55347655e-01   6.58048852e-01   1.46586076e-01]\n",
      "  [  1.09376208e-57   5.22748611e-02   1.37510871e-01   8.10214268e-01]]]\n",
      "-100.223711612\n"
     ]
    },
    {
     "name": "stderr",
     "output_type": "stream",
     "text": [
      "/Users/apple/anaconda3/lib/python3.6/site-packages/pyanno/util.py:80: RuntimeWarning: divide by zero encountered in log\n",
      "  log_theta = ninf_to_num(log(theta))\n"
     ]
    }
   ],
   "source": [
    "model.map(anno.annotations)\n",
    "print(model.theta)\n",
    "print(model.log_likelihood(anno.annotations))"
   ]
  },
  {
   "cell_type": "code",
   "execution_count": 145,
   "metadata": {},
   "outputs": [
    {
     "name": "stdout",
     "output_type": "stream",
     "text": [
      "[[[  8.04282230e-01   1.54297600e-01   4.14201692e-02   8.30613479e-47]\n",
      "  [  1.82454483e-01   6.62968108e-01   1.08553084e-01   4.60243251e-02]\n",
      "  [  3.99458323e-02   1.29954401e-01   6.89843582e-01   1.40256185e-01]\n",
      "  [  7.55937651e-83   5.00186046e-02   1.51156226e-01   7.98825169e-01]]\n",
      "\n",
      " [[  7.27115739e-01   1.70793500e-01   1.02090761e-01   0.00000000e+00]\n",
      "  [  1.25094562e-01   6.61649691e-01   1.81374414e-01   3.18813325e-02]\n",
      "  [  4.72462379e-02   1.27076473e-01   6.99365125e-01   1.26312165e-01]\n",
      "  [  1.59995866e-58   4.96684772e-02   1.56117755e-01   7.94213768e-01]]\n",
      "\n",
      " [[  8.03346305e-01   1.43826512e-01   5.28271834e-02   0.00000000e+00]\n",
      "  [  1.87829126e-01   6.49810990e-01   1.29673693e-01   3.26861909e-02]\n",
      "  [  4.38537996e-02   1.51634862e-01   6.73673573e-01   1.30837765e-01]\n",
      "  [  9.14783249e-67   4.59398081e-02   1.46677593e-01   8.07382599e-01]]\n",
      "\n",
      " [[  7.12957617e-01   2.38870724e-01   4.81716588e-02   0.00000000e+00]\n",
      "  [  1.01242201e-01   7.14945683e-01   1.50056081e-01   3.37560346e-02]\n",
      "  [  3.78657991e-02   1.43218196e-01   7.05079873e-01   1.13836131e-01]\n",
      "  [  0.00000000e+00   4.39314714e-02   2.58271850e-01   6.97796678e-01]]\n",
      "\n",
      " [[  8.15956229e-01   1.37937040e-01   4.61067309e-02   3.67312887e-77]\n",
      "  [  1.77589536e-01   6.58085238e-01   1.27749014e-01   3.65762118e-02]\n",
      "  [  4.00174173e-02   1.55347655e-01   6.58048852e-01   1.46586076e-01]\n",
      "  [  1.09376208e-57   5.22748611e-02   1.37510871e-01   8.10214268e-01]]]\n",
      "-100.223711612\n"
     ]
    },
    {
     "name": "stderr",
     "output_type": "stream",
     "text": [
      "/Users/apple/anaconda3/lib/python3.6/site-packages/pyanno/util.py:80: RuntimeWarning: divide by zero encountered in log\n",
      "  log_theta = ninf_to_num(log(theta))\n"
     ]
    }
   ],
   "source": [
    "model = ModelB.create_initial_state(4, 5)\n",
    "model.map(anno.annotations)\n",
    "print(model.theta)\n",
    "print(model.log_likelihood(anno.annotations))"
   ]
  },
  {
   "cell_type": "markdown",
   "metadata": {},
   "source": [
    "#### MAP"
   ]
  },
  {
   "cell_type": "code",
   "execution_count": 146,
   "metadata": {},
   "outputs": [
    {
     "name": "stdout",
     "output_type": "stream",
     "text": [
      "[[  1.85813489e-001   6.91624499e-001   1.22562012e-001   2.30436248e-059]\n",
      " [  9.81465013e-001   1.83715698e-002   1.63416920e-004   1.44731335e-206]\n",
      " [  8.25865135e-001   1.59637630e-001   1.44972347e-002   8.46364651e-149]\n",
      " [  1.08913022e-001   8.87076576e-001   4.01040119e-003   5.95397043e-085]\n",
      " [  1.10918857e-001   8.85495009e-001   3.58613410e-003   7.45576683e-069]\n",
      " [  1.08913022e-001   8.87076576e-001   4.01040119e-003   5.95397043e-085]\n",
      " [  8.00656510e-001   1.97734177e-001   1.60931370e-003   2.31030492e-125]\n",
      " [  1.51881663e-001   8.44622671e-001   3.49566607e-003   5.79205531e-069]\n",
      " [  9.18148526e-003   9.86639050e-001   4.08125024e-003   9.82143903e-005]\n",
      " [  0.00000000e+000   2.55851929e-004   6.30457252e-003   9.93439576e-001]\n",
      " [  9.18148526e-003   9.86639050e-001   4.08125024e-003   9.82143903e-005]\n",
      " [  2.65801772e-001   6.77872582e-001   5.63256463e-002   5.33017632e-068]\n",
      " [  0.00000000e+000   3.09401590e-003   1.07456028e-001   8.89449956e-001]\n",
      " [  7.46121762e-003   9.87414585e-001   5.02018795e-003   1.04009826e-004]\n",
      " [  6.80980974e-003   2.84356466e-001   7.02339662e-001   6.49406224e-003]\n",
      " [  0.00000000e+000   3.09401590e-003   1.07456028e-001   8.89449956e-001]\n",
      " [  1.08078714e-078   1.68806632e-002   7.60898232e-001   2.22221105e-001]\n",
      " [  3.42061478e-003   2.73613710e-001   7.12026056e-001   1.09396190e-002]\n",
      " [  1.23620024e-123   4.35845126e-003   1.15240789e-001   8.80400759e-001]\n",
      " [  6.87186522e-003   9.00122670e-001   9.01712416e-002   2.83422363e-003]\n",
      " [  7.84879955e-003   9.87821394e-001   4.21876381e-003   1.11042715e-004]\n",
      " [  2.96539579e-004   1.37593699e-002   9.75108698e-001   1.08353922e-002]\n",
      " [  2.89841035e-003   2.31570788e-001   7.52073403e-001   1.34573989e-002]\n",
      " [  7.66567847e-001   2.32374064e-001   1.05808888e-003   1.11220938e-140]\n",
      " [  2.13882165e-001   7.28917681e-001   5.72001536e-002   8.89935337e-059]\n",
      " [  3.93131429e-047   3.78745432e-001   4.84053341e-001   1.37201227e-001]\n",
      " [  2.13882165e-001   7.28917681e-001   5.72001536e-002   8.89935337e-059]\n",
      " [  6.34157987e-004   1.67818923e-002   9.75974888e-001   6.60906190e-003]\n",
      " [  7.17323079e-001   2.81448224e-001   1.22869727e-003   1.64568777e-140]\n",
      " [  9.82729368e-001   1.71236267e-002   1.47005607e-004   1.70593421e-197]]\n"
     ]
    }
   ],
   "source": [
    "posterior = model.infer_labels(anno.annotations)\n",
    "print(posterior)"
   ]
  },
  {
   "cell_type": "code",
   "execution_count": 147,
   "metadata": {
    "collapsed": true
   },
   "outputs": [],
   "source": [
    "votes = []\n",
    "for r in anno.annotations:\n",
    "    v = [0] * len(anno.labels)\n",
    "    votes.append(v)\n",
    "    for a in r:\n",
    "        if a > -1:\n",
    "            v[a] += 1\n",
    "votes_array = np.array(votes)"
   ]
  },
  {
   "cell_type": "code",
   "execution_count": 148,
   "metadata": {},
   "outputs": [
    {
     "data": {
      "image/png": "[encoded data removed]",
      "text/plain": [
       "<matplotlib.figure.Figure at 0x11e72d1d0>"
      ]
     },
     "metadata": {},
     "output_type": "display_data"
    }
   ],
   "source": [
    "fig, (ax1, ax2) = plt.subplots(ncols=2, figsize = (15, 10), sharey=True)\n",
    "num_questions = 20\n",
    "\n",
    "seaborn.heatmap(votes_array[:num_questions], annot = True, ax=ax2)\n",
    "seaborn.heatmap(posterior[:num_questions], annot=True, ax =ax1)\n",
    "ax1.set_title(\"Model\")\n",
    "ax2.set_title(\"Votes\")\n",
    "plt.show()"
   ]
  },
  {
   "cell_type": "code",
   "execution_count": 149,
   "metadata": {
    "collapsed": true
   },
   "outputs": [],
   "source": [
    "samples = model.sample_posterior_over_accuracy(anno.annotations, 200, burn_in_samples=100, thin_samples=3)"
   ]
  },
  {
   "cell_type": "code",
   "execution_count": 150,
   "metadata": {},
   "outputs": [
    {
     "name": "stdout",
     "output_type": "stream",
     "text": [
      "[[[ 0.71044707  0.18659212  0.06637884  0.03658197]\n",
      "  [ 0.19861283  0.59510067  0.1385387   0.06774779]\n",
      "  [ 0.07505942  0.15408928  0.61682798  0.15402331]\n",
      "  [ 0.04583894  0.08256906  0.16739115  0.70420085]]\n",
      "\n",
      " [[ 0.64233513  0.19058511  0.13554812  0.03153164]\n",
      "  [ 0.14546698  0.62503702  0.16883391  0.0606621 ]\n",
      "  [ 0.07904397  0.14081649  0.63814256  0.14199698]\n",
      "  [ 0.04031825  0.08074471  0.17473082  0.70420621]]\n",
      "\n",
      " [[ 0.71243432  0.16584105  0.08485674  0.03686789]\n",
      "  [ 0.20127893  0.60850913  0.12762154  0.06259039]\n",
      "  [ 0.07714605  0.1594814   0.61330839  0.15006416]\n",
      "  [ 0.03536534  0.07663351  0.17336014  0.71464102]]\n",
      "\n",
      " [[ 0.62851184  0.24560665  0.08434284  0.04153866]\n",
      "  [ 0.12293644  0.65199094  0.16274623  0.06232638]\n",
      "  [ 0.06500482  0.15814653  0.64286175  0.13398691]\n",
      "  [ 0.03623806  0.07508211  0.24342363  0.64525621]]\n",
      "\n",
      " [[ 0.71824963  0.15768991  0.07989867  0.04416179]\n",
      "  [ 0.18197118  0.60783467  0.14833187  0.06186229]\n",
      "  [ 0.06880278  0.17086803  0.60205324  0.15827594]\n",
      "  [ 0.03427593  0.08792264  0.15998793  0.7178135 ]]]\n",
      "[[[ 0.09084468  0.07895774  0.04453472  0.03562986]\n",
      "  [ 0.07588269  0.09237914  0.06075095  0.04596492]\n",
      "  [ 0.04828279  0.06956369  0.09805428  0.06448549]\n",
      "  [ 0.04403203  0.05808706  0.0737897   0.09028854]]\n",
      "\n",
      " [[ 0.10392606  0.08050522  0.07436288  0.03230204]\n",
      "  [ 0.05870087  0.085903    0.06441089  0.04501001]\n",
      "  [ 0.04640066  0.06740758  0.09240471  0.0630168 ]\n",
      "  [ 0.03611384  0.04971108  0.0822158   0.09080051]]\n",
      "\n",
      " [[ 0.08414497  0.07526438  0.05866921  0.03555126]\n",
      "  [ 0.07258919  0.09281907  0.05756357  0.04112086]\n",
      "  [ 0.04687767  0.06081748  0.08527634  0.06470516]\n",
      "  [ 0.03465991  0.05178726  0.07497155  0.09140774]]\n",
      "\n",
      " [[ 0.10071476  0.08701022  0.05926636  0.04043798]\n",
      "  [ 0.05389527  0.08160213  0.06349823  0.04151966]\n",
      "  [ 0.04214202  0.06527279  0.08634614  0.06152145]\n",
      "  [ 0.03718997  0.0498852   0.08798614  0.09379884]]\n",
      "\n",
      " [[ 0.08303036  0.06543372  0.05123035  0.03978687]\n",
      "  [ 0.06832354  0.09365973  0.06748378  0.04109566]\n",
      "  [ 0.0447888   0.0682728   0.08537324  0.06138386]\n",
      "  [ 0.03133711  0.05703635  0.07170041  0.08675271]]]\n"
     ]
    }
   ],
   "source": [
    "print(samples[0].mean(axis=0))\n",
    "print(samples[0].std(axis=0))"
   ]
  },
  {
   "cell_type": "code",
   "execution_count": 152,
   "metadata": {},
   "outputs": [
    {
     "name": "stdout",
     "output_type": "stream",
     "text": [
      "[ 0.8016362   0.64463518  0.77597914  0.94071248  0.92070135]\n",
      "-131.747590409\n"
     ]
    }
   ],
   "source": [
    "# create a new instance of model B, with 4 label classes and 8 annotators.\n",
    "model = ModelBt.create_initial_state(4, 5)\n",
    "print(model.theta)\n",
    "print(model.log_likelihood(anno.annotations))"
   ]
  },
  {
   "cell_type": "code",
   "execution_count": 153,
   "metadata": {},
   "outputs": [
    {
     "name": "stdout",
     "output_type": "stream",
     "text": [
      "[ 0.70164724  0.63496596  0.77470513  0.52455553  0.82315751]\n",
      "-113.151598233\n"
     ]
    }
   ],
   "source": [
    "model.map(anno.annotations)\n",
    "print(model.theta)\n",
    "print(model.log_likelihood(anno.annotations))"
   ]
  },
  {
   "cell_type": "code",
   "execution_count": 154,
   "metadata": {},
   "outputs": [
    {
     "name": "stdout",
     "output_type": "stream",
     "text": [
      "[[  2.27330442e-01   4.26844555e-01   3.23179481e-01   2.26455224e-02]\n",
      " [  9.93128680e-01   3.63154375e-03   1.88048096e-03   1.35929552e-03]\n",
      " [  9.27826531e-01   1.77047938e-02   4.78417285e-02   6.62694669e-03]\n",
      " [  8.49442824e-02   9.00138481e-01   8.65849235e-03   6.25874449e-03]\n",
      " [  1.64563338e-01   8.15671930e-01   1.14721506e-02   8.29258218e-03]\n",
      " [  8.49442824e-02   9.00138481e-01   8.65849235e-03   6.25874449e-03]\n",
      " [  9.02196665e-01   7.70388699e-02   1.20524306e-02   8.71203446e-03]\n",
      " [  2.90238850e-01   6.74902272e-01   2.02333269e-02   1.46255512e-02]\n",
      " [  4.00488522e-03   9.91033143e-01   2.88010424e-03   2.08186781e-03]\n",
      " [  1.04458991e-02   1.45072902e-02   7.51214493e-03   9.67534666e-01]\n",
      " [  4.00488522e-03   9.91033143e-01   2.88010424e-03   2.08186781e-03]\n",
      " [  5.37697213e-01   2.39598890e-01   1.95608565e-01   2.70953323e-02]\n",
      " [  1.25544939e-02   1.74357119e-02   2.98834177e-02   9.40126377e-01]\n",
      " [  1.50506996e-03   9.96630179e-01   1.08236769e-03   7.82383647e-04]\n",
      " [  9.11474057e-03   4.18984259e-02   9.44248699e-01   4.73813454e-03]\n",
      " [  1.25544939e-02   1.74357119e-02   2.98834177e-02   9.40126377e-01]\n",
      " [  2.92374363e-02   4.06050231e-02   7.17921109e-01   2.12236432e-01]\n",
      " [  2.03725709e-02   2.91872173e-01   6.77164940e-01   1.05903159e-02]\n",
      " [  1.78624602e-02   2.48074285e-02   4.25179512e-02   9.14812160e-01]\n",
      " [  7.10601015e-03   9.72285647e-01   1.69144110e-02   3.69393204e-03]\n",
      " [  2.19723855e-03   9.95080427e-01   1.58013919e-03   1.14219509e-03]\n",
      " [  4.21199549e-03   5.84962966e-03   9.87748844e-01   2.18953038e-03]\n",
      " [  2.65203390e-02   5.14324386e-01   4.45369152e-01   1.37861230e-02]\n",
      " [  9.44078637e-01   4.40487906e-02   6.89126142e-03   4.98131115e-03]\n",
      " [  4.98097269e-01   3.49499911e-01   1.33860688e-01   1.85421319e-02]\n",
      " [  3.59532249e-02   6.97261837e-01   1.34925586e-01   1.31859351e-01]\n",
      " [  4.98097269e-01   3.49499911e-01   1.33860688e-01   1.85421319e-02]\n",
      " [  2.68356900e-03   3.72694720e-03   9.92194479e-01   1.39500525e-03]\n",
      " [  9.20693794e-01   6.77277177e-02   6.72056477e-03   4.85792399e-03]\n",
      " [  9.94914785e-01   2.68757412e-03   1.39167591e-03   1.00596543e-03]]\n"
     ]
    }
   ],
   "source": [
    "posterior = model.infer_labels(anno.annotations)\n",
    "print(posterior)"
   ]
  },
  {
   "cell_type": "code",
   "execution_count": 155,
   "metadata": {},
   "outputs": [
    {
     "data": {
      "image/png": "[encoded data removed]",
      "text/plain": [
       "<matplotlib.figure.Figure at 0x120e90cf8>"
      ]
     },
     "metadata": {},
     "output_type": "display_data"
    }
   ],
   "source": [
    "ax = seaborn.heatmap(posterior[:10,])\n",
    "plt.show()"
   ]
  },
  {
   "cell_type": "code",
   "execution_count": null,
   "metadata": {
    "collapsed": true
   },
   "outputs": [],
   "source": []
  },
  {
   "cell_type": "code",
   "execution_count": 157,
   "metadata": {},
   "outputs": [],
   "source": [
    "model = ModelBt.create_initial_state(4, 5)\n",
    "model.mle(anno.annotations)\n",
    "samples = model.sample_posterior_over_accuracy(anno.annotations, 200, burn_in_samples=100, thin_samples=3)\n",
    "y =  samples.mean(axis=0)#.mean(axis = 1).mean(axis = 1)\n",
    "y_ci = samples.std(axis=0)#.mean(axis = 1).mean(axis = 1)"
   ]
  },
  {
   "cell_type": "markdown",
   "metadata": {},
   "source": [
    "#### estimated accuracy:"
   ]
  },
  {
   "cell_type": "code",
   "execution_count": 158,
   "metadata": {},
   "outputs": [
    {
     "data": {
      "image/png": "[encoded data removed]",
      "text/plain": [
       "<matplotlib.figure.Figure at 0x1210a0f98>"
      ]
     },
     "metadata": {},
     "output_type": "display_data"
    }
   ],
   "source": [
    "plt.figure()\n",
    "plt.errorbar(range(5),y, yerr = y_ci)\n",
    "plt.show()"
   ]
  },
  {
   "cell_type": "markdown",
   "metadata": {},
   "source": [
    "##### Facing the questions of obscurity, we can see that the highest three voters(# 4, # 0, # 2) are students who study social sciences, and # 1 is a student in the field of physics. # 3 is a voter who kind of refuse considering the extreme condition, and always give a moderate answer to the questions, and this behavior deviant from others.\n",
    "\n"
   ]
  },
  {
   "cell_type": "code",
   "execution_count": null,
   "metadata": {
    "collapsed": true
   },
   "outputs": [],
   "source": []
  }
 ],
 "metadata": {
  "anaconda-cloud": {},
  "kernelspec": {
   "display_name": "Python 3",
   "language": "python",
   "name": "python3"
  },
  "language_info": {
   "codemirror_mode": {
    "name": "ipython",
    "version": 3
   },
   "file_extension": ".py",
   "mimetype": "text/x-python",
   "name": "python",
   "nbconvert_exporter": "python",
   "pygments_lexer": "ipython3",
   "version": "3.6.3"
  },
  "toc": {
   "base_numbering": 1,
   "nav_menu": {},
   "number_sections": true,
   "sideBar": true,
   "skip_h1_title": false,
   "title_cell": "Table of Contents",
   "title_sidebar": "Contents",
   "toc_cell": false,
   "toc_position": {
    "height": "calc(100% - 180px)",
    "left": "10px",
    "top": "150px",
    "width": "288px"
   },
   "toc_section_display": true,
   "toc_window_display": true
  }
 },
 "nbformat": 4,
 "nbformat_minor": 1
}
